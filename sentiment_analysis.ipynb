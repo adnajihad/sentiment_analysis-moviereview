{
  "nbformat": 4,
  "nbformat_minor": 0,
  "metadata": {
    "accelerator": "TPU",
    "colab": {
      "name": "sentiment-analysis",
      "provenance": [],
      "collapsed_sections": [
        "Apvq-ngML3cj",
        "9mQ9Pty7MKGT",
        "ylEVOoNBTyx1",
        "TjlHrCklgy0n",
        "_X-xfQ1Et8R6",
        "LL4UmslKyL6C",
        "BSJv9cc_C2sx",
        "itFzJdpUL_bB",
        "0rJX7nffMkQQ"
      ],
      "authorship_tag": "ABX9TyPEB1oGtHi9T51IzOmN5G1V",
      "include_colab_link": true
    },
    "kernelspec": {
      "display_name": "Python 3",
      "name": "python3"
    }
  },
  "cells": [
    {
      "cell_type": "markdown",
      "metadata": {
        "id": "view-in-github",
        "colab_type": "text"
      },
      "source": [
        "<a href=\"https://colab.research.google.com/github/adnajihad/sentiment_analysis-moviereview/blob/main/sentiment_analysis.ipynb\" target=\"_parent\"><img src=\"https://colab.research.google.com/assets/colab-badge.svg\" alt=\"Open In Colab\"/></a>"
      ]
    },
    {
      "cell_type": "markdown",
      "metadata": {
        "id": "Juj09e-IL6L_"
      },
      "source": [
        "# PreProcessing"
      ]
    },
    {
      "cell_type": "code",
      "metadata": {
        "colab": {
          "base_uri": "https://localhost:8080/"
        },
        "id": "GwT5W3MawiEb",
        "outputId": "4f4c108c-edf5-484f-cc12-5218723baece"
      },
      "source": [
        "import pandas as pd\n",
        "pd.set_option('display.max_colwidth', -1)\n",
        "\n",
        "from google.colab import drive\n",
        "drive.mount('/content/drive')"
      ],
      "execution_count": null,
      "outputs": [
        {
          "output_type": "stream",
          "text": [
            "Drive already mounted at /content/drive; to attempt to forcibly remount, call drive.mount(\"/content/drive\", force_remount=True).\n"
          ],
          "name": "stdout"
        },
        {
          "output_type": "stream",
          "text": [
            "/usr/local/lib/python3.7/dist-packages/ipykernel_launcher.py:2: FutureWarning: Passing a negative integer is deprecated in version 1.0 and will not be supported in future version. Instead, use None to not limit the column width.\n",
            "  \n"
          ],
          "name": "stderr"
        }
      ]
    },
    {
      "cell_type": "code",
      "metadata": {
        "colab": {
          "base_uri": "https://localhost:8080/",
          "height": 234
        },
        "id": "6zI8Yv4G_h_0",
        "outputId": "fb69e3eb-9aba-4aa0-c057-3eca805797e3"
      },
      "source": [
        "data = pd.read_csv('/content/drive/MyDrive/TA/IMDB_Dataset.csv')\n",
        "data.head(1)"
      ],
      "execution_count": null,
      "outputs": [
        {
          "output_type": "execute_result",
          "data": {
            "text/html": [
              "<div>\n",
              "<style scoped>\n",
              "    .dataframe tbody tr th:only-of-type {\n",
              "        vertical-align: middle;\n",
              "    }\n",
              "\n",
              "    .dataframe tbody tr th {\n",
              "        vertical-align: top;\n",
              "    }\n",
              "\n",
              "    .dataframe thead th {\n",
              "        text-align: right;\n",
              "    }\n",
              "</style>\n",
              "<table border=\"1\" class=\"dataframe\">\n",
              "  <thead>\n",
              "    <tr style=\"text-align: right;\">\n",
              "      <th></th>\n",
              "      <th>review</th>\n",
              "      <th>sentiment</th>\n",
              "    </tr>\n",
              "  </thead>\n",
              "  <tbody>\n",
              "    <tr>\n",
              "      <th>0</th>\n",
              "      <td>One of the other reviewers has mentioned that after watching just 1 Oz episode you'll be hooked. They are right, as this is exactly what happened with me.&lt;br /&gt;&lt;br /&gt;The first thing that struck me about Oz was its brutality and unflinching scenes of violence, which set in right from the word GO. Trust me, this is not a show for the faint hearted or timid. This show pulls no punches with regards to drugs, sex or violence. Its is hardcore, in the classic use of the word.&lt;br /&gt;&lt;br /&gt;It is called OZ as that is the nickname given to the Oswald Maximum Security State Penitentary. It focuses mainly on Emerald City, an experimental section of the prison where all the cells have glass fronts and face inwards, so privacy is not high on the agenda. Em City is home to many..Aryans, Muslims, gangstas, Latinos, Christians, Italians, Irish and more....so scuffles, death stares, dodgy dealings and shady agreements are never far away.&lt;br /&gt;&lt;br /&gt;I would say the main appeal of the show is due to the fact that it goes where other shows wouldn't dare. Forget pretty pictures painted for mainstream audiences, forget charm, forget romance...OZ doesn't mess around. The first episode I ever saw struck me as so nasty it was surreal, I couldn't say I was ready for it, but as I watched more, I developed a taste for Oz, and got accustomed to the high levels of graphic violence. Not just violence, but injustice (crooked guards who'll be sold out for a nickel, inmates who'll kill on order and get away with it, well mannered, middle class inmates being turned into prison bitches due to their lack of street skills or prison experience) Watching Oz, you may become comfortable with what is uncomfortable viewing....thats if you can get in touch with your darker side.</td>\n",
              "      <td>positive</td>\n",
              "    </tr>\n",
              "  </tbody>\n",
              "</table>\n",
              "</div>"
            ],
            "text/plain": [
              "                                                                                                                                                                                                                                                                                                                                                                                                                                                                                                                                                                                                                                                                                                                                                                                                                                                                                                                                                                                                                                                                                                                                                                                                                                                                                                                                                                                                                                                                                                                                                                                                                                                                                                                                                                                                                              review sentiment\n",
              "0  One of the other reviewers has mentioned that after watching just 1 Oz episode you'll be hooked. They are right, as this is exactly what happened with me.<br /><br />The first thing that struck me about Oz was its brutality and unflinching scenes of violence, which set in right from the word GO. Trust me, this is not a show for the faint hearted or timid. This show pulls no punches with regards to drugs, sex or violence. Its is hardcore, in the classic use of the word.<br /><br />It is called OZ as that is the nickname given to the Oswald Maximum Security State Penitentary. It focuses mainly on Emerald City, an experimental section of the prison where all the cells have glass fronts and face inwards, so privacy is not high on the agenda. Em City is home to many..Aryans, Muslims, gangstas, Latinos, Christians, Italians, Irish and more....so scuffles, death stares, dodgy dealings and shady agreements are never far away.<br /><br />I would say the main appeal of the show is due to the fact that it goes where other shows wouldn't dare. Forget pretty pictures painted for mainstream audiences, forget charm, forget romance...OZ doesn't mess around. The first episode I ever saw struck me as so nasty it was surreal, I couldn't say I was ready for it, but as I watched more, I developed a taste for Oz, and got accustomed to the high levels of graphic violence. Not just violence, but injustice (crooked guards who'll be sold out for a nickel, inmates who'll kill on order and get away with it, well mannered, middle class inmates being turned into prison bitches due to their lack of street skills or prison experience) Watching Oz, you may become comfortable with what is uncomfortable viewing....thats if you can get in touch with your darker side.  positive"
            ]
          },
          "metadata": {
            "tags": []
          },
          "execution_count": 4
        }
      ]
    },
    {
      "cell_type": "code",
      "metadata": {
        "colab": {
          "base_uri": "https://localhost:8080/"
        },
        "id": "x9zMkDQkI2Y3",
        "outputId": "88df9d5e-df3d-476c-9a20-eec23bda4baf"
      },
      "source": [
        "data.info()"
      ],
      "execution_count": null,
      "outputs": [
        {
          "output_type": "stream",
          "text": [
            "<class 'pandas.core.frame.DataFrame'>\n",
            "RangeIndex: 50000 entries, 0 to 49999\n",
            "Data columns (total 2 columns):\n",
            " #   Column     Non-Null Count  Dtype \n",
            "---  ------     --------------  ----- \n",
            " 0   review     50000 non-null  object\n",
            " 1   sentiment  50000 non-null  object\n",
            "dtypes: object(2)\n",
            "memory usage: 781.4+ KB\n"
          ],
          "name": "stdout"
        }
      ]
    },
    {
      "cell_type": "markdown",
      "metadata": {
        "id": "6L2nSINdx3zS"
      },
      "source": [
        "## Preparation"
      ]
    },
    {
      "cell_type": "code",
      "metadata": {
        "id": "6tMRSb7e9R_C"
      },
      "source": [
        "import numpy as np\n",
        "\n",
        "data['sentiment'] = np.where(data['sentiment'] == 'negative', 0, 1)\n",
        "data.columns = ['review', 'label']"
      ],
      "execution_count": null,
      "outputs": []
    },
    {
      "cell_type": "code",
      "metadata": {
        "colab": {
          "base_uri": "https://localhost:8080/",
          "height": 216
        },
        "id": "BUGBXp9qQ7iV",
        "outputId": "f4a594a0-c28b-4f43-d727-d95e781c7f79"
      },
      "source": [
        "data.head(1)"
      ],
      "execution_count": null,
      "outputs": [
        {
          "output_type": "execute_result",
          "data": {
            "text/html": [
              "<div>\n",
              "<style scoped>\n",
              "    .dataframe tbody tr th:only-of-type {\n",
              "        vertical-align: middle;\n",
              "    }\n",
              "\n",
              "    .dataframe tbody tr th {\n",
              "        vertical-align: top;\n",
              "    }\n",
              "\n",
              "    .dataframe thead th {\n",
              "        text-align: right;\n",
              "    }\n",
              "</style>\n",
              "<table border=\"1\" class=\"dataframe\">\n",
              "  <thead>\n",
              "    <tr style=\"text-align: right;\">\n",
              "      <th></th>\n",
              "      <th>review</th>\n",
              "      <th>label</th>\n",
              "    </tr>\n",
              "  </thead>\n",
              "  <tbody>\n",
              "    <tr>\n",
              "      <th>0</th>\n",
              "      <td>One of the other reviewers has mentioned that after watching just 1 Oz episode you'll be hooked. They are right, as this is exactly what happened with me.&lt;br /&gt;&lt;br /&gt;The first thing that struck me about Oz was its brutality and unflinching scenes of violence, which set in right from the word GO. Trust me, this is not a show for the faint hearted or timid. This show pulls no punches with regards to drugs, sex or violence. Its is hardcore, in the classic use of the word.&lt;br /&gt;&lt;br /&gt;It is called OZ as that is the nickname given to the Oswald Maximum Security State Penitentary. It focuses mainly on Emerald City, an experimental section of the prison where all the cells have glass fronts and face inwards, so privacy is not high on the agenda. Em City is home to many..Aryans, Muslims, gangstas, Latinos, Christians, Italians, Irish and more....so scuffles, death stares, dodgy dealings and shady agreements are never far away.&lt;br /&gt;&lt;br /&gt;I would say the main appeal of the show is due to the fact that it goes where other shows wouldn't dare. Forget pretty pictures painted for mainstream audiences, forget charm, forget romance...OZ doesn't mess around. The first episode I ever saw struck me as so nasty it was surreal, I couldn't say I was ready for it, but as I watched more, I developed a taste for Oz, and got accustomed to the high levels of graphic violence. Not just violence, but injustice (crooked guards who'll be sold out for a nickel, inmates who'll kill on order and get away with it, well mannered, middle class inmates being turned into prison bitches due to their lack of street skills or prison experience) Watching Oz, you may become comfortable with what is uncomfortable viewing....thats if you can get in touch with your darker side.</td>\n",
              "      <td>1</td>\n",
              "    </tr>\n",
              "  </tbody>\n",
              "</table>\n",
              "</div>"
            ],
            "text/plain": [
              "                                                                                                                                                                                                                                                                                                                                                                                                                                                                                                                                                                                                                                                                                                                                                                                                                                                                                                                                                                                                                                                                                                                                                                                                                                                                                                                                                                                                                                                                                                                                                                                                                                                                                                                                                                                                                              review  label\n",
              "0  One of the other reviewers has mentioned that after watching just 1 Oz episode you'll be hooked. They are right, as this is exactly what happened with me.<br /><br />The first thing that struck me about Oz was its brutality and unflinching scenes of violence, which set in right from the word GO. Trust me, this is not a show for the faint hearted or timid. This show pulls no punches with regards to drugs, sex or violence. Its is hardcore, in the classic use of the word.<br /><br />It is called OZ as that is the nickname given to the Oswald Maximum Security State Penitentary. It focuses mainly on Emerald City, an experimental section of the prison where all the cells have glass fronts and face inwards, so privacy is not high on the agenda. Em City is home to many..Aryans, Muslims, gangstas, Latinos, Christians, Italians, Irish and more....so scuffles, death stares, dodgy dealings and shady agreements are never far away.<br /><br />I would say the main appeal of the show is due to the fact that it goes where other shows wouldn't dare. Forget pretty pictures painted for mainstream audiences, forget charm, forget romance...OZ doesn't mess around. The first episode I ever saw struck me as so nasty it was surreal, I couldn't say I was ready for it, but as I watched more, I developed a taste for Oz, and got accustomed to the high levels of graphic violence. Not just violence, but injustice (crooked guards who'll be sold out for a nickel, inmates who'll kill on order and get away with it, well mannered, middle class inmates being turned into prison bitches due to their lack of street skills or prison experience) Watching Oz, you may become comfortable with what is uncomfortable viewing....thats if you can get in touch with your darker side.  1    "
            ]
          },
          "metadata": {
            "tags": []
          },
          "execution_count": 7
        }
      ]
    },
    {
      "cell_type": "code",
      "metadata": {
        "colab": {
          "base_uri": "https://localhost:8080/",
          "height": 391
        },
        "id": "_yzh5Uc21dT-",
        "outputId": "c9e654bb-e085-4667-ccfb-9be0a276e3f5"
      },
      "source": [
        "import matplotlib.pyplot as plt\n",
        "import seaborn as sns\n",
        "sns.set_style(\"whitegrid\")\n",
        "\n",
        "sns.countplot(x='label', data=data)\n",
        "    \n",
        "plt.ylabel('Jumlah Label', fontsize=12)\n",
        "plt.xlabel('Label', fontsize=12)\n",
        "plt.show()\n",
        "print(\"0:Negative, 1:Positive\")\n",
        "\n",
        "print()\n",
        "#Hitung jumlah label \n",
        "count = data.groupby(['label'])['label'].count()\n",
        "count"
      ],
      "execution_count": null,
      "outputs": [
        {
          "output_type": "display_data",
          "data": {
            "image/png": "[encoded data removed]",
            "text/plain": [
              "<Figure size 432x288 with 1 Axes>"
            ]
          },
          "metadata": {
            "tags": []
          }
        },
        {
          "output_type": "stream",
          "text": [
            "0:Negative, 1:Positive\n",
            "\n"
          ],
          "name": "stdout"
        },
        {
          "output_type": "execute_result",
          "data": {
            "text/plain": [
              "label\n",
              "0    25000\n",
              "1    25000\n",
              "Name: label, dtype: int64"
            ]
          },
          "metadata": {
            "tags": []
          },
          "execution_count": 8
        }
      ]
    },
    {
      "cell_type": "code",
      "metadata": {
        "colab": {
          "base_uri": "https://localhost:8080/"
        },
        "id": "YRbnxZ06k17L",
        "outputId": "064ac495-7a4b-43d1-f46c-6e662ca321eb"
      },
      "source": [
        "dfUpper = data.iloc[0:7500]\n",
        "dfLower = data.iloc[42500:50000]\n",
        "data = pd.concat([dfUpper, dfLower])\n",
        "# data = dfUpper\n",
        "data.info()"
      ],
      "execution_count": null,
      "outputs": [
        {
          "output_type": "stream",
          "text": [
            "<class 'pandas.core.frame.DataFrame'>\n",
            "Int64Index: 15000 entries, 0 to 49999\n",
            "Data columns (total 2 columns):\n",
            " #   Column  Non-Null Count  Dtype \n",
            "---  ------  --------------  ----- \n",
            " 0   review  15000 non-null  object\n",
            " 1   label   15000 non-null  int64 \n",
            "dtypes: int64(1), object(1)\n",
            "memory usage: 351.6+ KB\n"
          ],
          "name": "stdout"
        }
      ]
    },
    {
      "cell_type": "markdown",
      "metadata": {
        "id": "Apvq-ngML3cj"
      },
      "source": [
        "## Cleaning"
      ]
    },
    {
      "cell_type": "code",
      "metadata": {
        "colab": {
          "base_uri": "https://localhost:8080/"
        },
        "id": "DdEXc2gADJoy",
        "outputId": "c3f3c3ba-3b53-4781-b8d8-041fdbb5403c"
      },
      "source": [
        "import string\n",
        "\n",
        "#remove <br/>\n",
        "removed_br = []\n",
        "\n",
        "for review in data['review']:\n",
        "  removed_br.append(review.replace('<br /><br />', ' '))\n",
        "\n",
        "data['review'] = removed_br\n",
        "\n",
        "#removing special characters\n",
        "def cleaning(s):\n",
        "    clear_string = \"\"\n",
        "    for symbol in s:\n",
        "        if symbol not in string.punctuation:\n",
        "            clear_string += symbol\n",
        "    return clear_string\n",
        "\n",
        "#removing certain characters\n",
        "string_punctuation =  \"\\n\"\n",
        "\n",
        "def remove(s):\n",
        "    no_punct = \"\"\n",
        "    for letter in s:\n",
        "        if letter not in string_punctuation:\n",
        "            no_punct += letter\n",
        "    return no_punct\n",
        "\n",
        "#make sure everything is clean for the last time\n",
        "def preprocess(dat):\n",
        "    #Ubah - menjadi space\n",
        "    regex = r'\\-'\n",
        "    dat = dat.replace(regex, ' ')\n",
        "    regex = r'[^a-zA-Z\\s]' \n",
        "\n",
        "    # Ubah seluruh huruf dalam data artikel ke dalam lower case(casefolding)\n",
        "    dat = dat.lower()\n",
        "\n",
        "    # Hapus seluruh simbol yang ada dan ganti dengan string kosong ('')\n",
        "    dat = dat.replace(regex, '')\n",
        "\n",
        "    # Hapus enter, ganti dengan space\n",
        "    regex = r'\\n'\n",
        "    dat = dat.replace(regex, ' ')\n",
        "\n",
        "    return dat\n",
        "\n",
        "data['review_clean'] = data['review'].apply(cleaning)\n",
        "data['review_clean'] = data['review_clean'].apply(remove)\n",
        "data['review_clean'] = data['review_clean'].apply(preprocess)\n",
        "\n",
        "#removing numbers\n",
        "data['review_clean'] = data['review_clean'].str.replace(r'\\d+','')\n",
        "\n",
        "data = data[['review','review_clean','label']]\n",
        "\n",
        "data.head(1)"
      ],
      "execution_count": null,
      "outputs": [
        {
          "output_type": "execute_result",
          "data": {
            "text/html": [
              "<div>\n",
              "<style scoped>\n",
              "    .dataframe tbody tr th:only-of-type {\n",
              "        vertical-align: middle;\n",
              "    }\n",
              "\n",
              "    .dataframe tbody tr th {\n",
              "        vertical-align: top;\n",
              "    }\n",
              "\n",
              "    .dataframe thead th {\n",
              "        text-align: right;\n",
              "    }\n",
              "</style>\n",
              "<table border=\"1\" class=\"dataframe\">\n",
              "  <thead>\n",
              "    <tr style=\"text-align: right;\">\n",
              "      <th></th>\n",
              "      <th>review</th>\n",
              "      <th>review_clean</th>\n",
              "      <th>label</th>\n",
              "    </tr>\n",
              "  </thead>\n",
              "  <tbody>\n",
              "    <tr>\n",
              "      <th>0</th>\n",
              "      <td>One of the other reviewers has mentioned that after watching just 1 Oz episode you'll be hooked. They are right, as this is exactly what happened with me. The first thing that struck me about Oz was its brutality and unflinching scenes of violence, which set in right from the word GO. Trust me, this is not a show for the faint hearted or timid. This show pulls no punches with regards to drugs, sex or violence. Its is hardcore, in the classic use of the word. It is called OZ as that is the nickname given to the Oswald Maximum Security State Penitentary. It focuses mainly on Emerald City, an experimental section of the prison where all the cells have glass fronts and face inwards, so privacy is not high on the agenda. Em City is home to many..Aryans, Muslims, gangstas, Latinos, Christians, Italians, Irish and more....so scuffles, death stares, dodgy dealings and shady agreements are never far away. I would say the main appeal of the show is due to the fact that it goes where other shows wouldn't dare. Forget pretty pictures painted for mainstream audiences, forget charm, forget romance...OZ doesn't mess around. The first episode I ever saw struck me as so nasty it was surreal, I couldn't say I was ready for it, but as I watched more, I developed a taste for Oz, and got accustomed to the high levels of graphic violence. Not just violence, but injustice (crooked guards who'll be sold out for a nickel, inmates who'll kill on order and get away with it, well mannered, middle class inmates being turned into prison bitches due to their lack of street skills or prison experience) Watching Oz, you may become comfortable with what is uncomfortable viewing....thats if you can get in touch with your darker side.</td>\n",
              "      <td>one of the other reviewers has mentioned that after watching just  oz episode youll be hooked they are right as this is exactly what happened with me the first thing that struck me about oz was its brutality and unflinching scenes of violence which set in right from the word go trust me this is not a show for the faint hearted or timid this show pulls no punches with regards to drugs sex or violence its is hardcore in the classic use of the word it is called oz as that is the nickname given to the oswald maximum security state penitentary it focuses mainly on emerald city an experimental section of the prison where all the cells have glass fronts and face inwards so privacy is not high on the agenda em city is home to manyaryans muslims gangstas latinos christians italians irish and moreso scuffles death stares dodgy dealings and shady agreements are never far away i would say the main appeal of the show is due to the fact that it goes where other shows wouldnt dare forget pretty pictures painted for mainstream audiences forget charm forget romanceoz doesnt mess around the first episode i ever saw struck me as so nasty it was surreal i couldnt say i was ready for it but as i watched more i developed a taste for oz and got accustomed to the high levels of graphic violence not just violence but injustice crooked guards wholl be sold out for a nickel inmates wholl kill on order and get away with it well mannered middle class inmates being turned into prison bitches due to their lack of street skills or prison experience watching oz you may become comfortable with what is uncomfortable viewingthats if you can get in touch with your darker side</td>\n",
              "      <td>1</td>\n",
              "    </tr>\n",
              "  </tbody>\n",
              "</table>\n",
              "</div>"
            ],
            "text/plain": [
              "                                                                                                                                                                                                                                                                                                                                                                                                                                                                                                                                                                                                                                                                                                                                                                                                                                                                                                                                                                                                                                                                                                                                                                                                                                                                                                                                                                                                                                                                                                                                                                                                                                                                                                                                                                                             review  ... label\n",
              "0  One of the other reviewers has mentioned that after watching just 1 Oz episode you'll be hooked. They are right, as this is exactly what happened with me. The first thing that struck me about Oz was its brutality and unflinching scenes of violence, which set in right from the word GO. Trust me, this is not a show for the faint hearted or timid. This show pulls no punches with regards to drugs, sex or violence. Its is hardcore, in the classic use of the word. It is called OZ as that is the nickname given to the Oswald Maximum Security State Penitentary. It focuses mainly on Emerald City, an experimental section of the prison where all the cells have glass fronts and face inwards, so privacy is not high on the agenda. Em City is home to many..Aryans, Muslims, gangstas, Latinos, Christians, Italians, Irish and more....so scuffles, death stares, dodgy dealings and shady agreements are never far away. I would say the main appeal of the show is due to the fact that it goes where other shows wouldn't dare. Forget pretty pictures painted for mainstream audiences, forget charm, forget romance...OZ doesn't mess around. The first episode I ever saw struck me as so nasty it was surreal, I couldn't say I was ready for it, but as I watched more, I developed a taste for Oz, and got accustomed to the high levels of graphic violence. Not just violence, but injustice (crooked guards who'll be sold out for a nickel, inmates who'll kill on order and get away with it, well mannered, middle class inmates being turned into prison bitches due to their lack of street skills or prison experience) Watching Oz, you may become comfortable with what is uncomfortable viewing....thats if you can get in touch with your darker side.  ...  1   \n",
              "\n",
              "[1 rows x 3 columns]"
            ]
          },
          "metadata": {
            "tags": []
          },
          "execution_count": 10
        }
      ]
    },
    {
      "cell_type": "code",
      "metadata": {
        "colab": {
          "base_uri": "https://localhost:8080/"
        },
        "id": "vqAUiFyPI_lj",
        "outputId": "5bc7555a-edda-447c-f84c-2adb575ea149"
      },
      "source": [
        "data.info()"
      ],
      "execution_count": null,
      "outputs": [
        {
          "output_type": "stream",
          "text": [
            "<class 'pandas.core.frame.DataFrame'>\n",
            "Int64Index: 15000 entries, 0 to 49999\n",
            "Data columns (total 3 columns):\n",
            " #   Column        Non-Null Count  Dtype \n",
            "---  ------        --------------  ----- \n",
            " 0   review        15000 non-null  object\n",
            " 1   review_clean  15000 non-null  object\n",
            " 2   label         15000 non-null  int64 \n",
            "dtypes: int64(1), object(2)\n",
            "memory usage: 468.8+ KB\n"
          ],
          "name": "stdout"
        }
      ]
    },
    {
      "cell_type": "markdown",
      "metadata": {
        "id": "9mQ9Pty7MKGT"
      },
      "source": [
        "### Stopword Removal"
      ]
    },
    {
      "cell_type": "code",
      "metadata": {
        "colab": {
          "base_uri": "https://localhost:8080/"
        },
        "id": "qGt2PIcBLi3h",
        "outputId": "9bd7db18-4211-412e-b387-517de3ce2aa2"
      },
      "source": [
        "import nltk\n",
        "nltk.download('stopwords')\n",
        "from nltk.corpus import stopwords"
      ],
      "execution_count": null,
      "outputs": [
        {
          "output_type": "stream",
          "text": [
            "[nltk_data] Downloading package stopwords to /root/nltk_data...\n",
            "[nltk_data]   Package stopwords is already up-to-date!\n"
          ],
          "name": "stdout"
        }
      ]
    },
    {
      "cell_type": "code",
      "metadata": {
        "colab": {
          "base_uri": "https://localhost:8080/"
        },
        "id": "AtWIBVfdSIcd",
        "outputId": "58998c1c-d3d2-46d6-8c2e-fb770283e69f"
      },
      "source": [
        "stop_words = stopwords.words('english')\n",
        "print(stop_words)\n",
        "print(len(stop_words))"
      ],
      "execution_count": null,
      "outputs": [
        {
          "output_type": "stream",
          "text": [
            "['i', 'me', 'my', 'myself', 'we', 'our', 'ours', 'ourselves', 'you', \"you're\", \"you've\", \"you'll\", \"you'd\", 'your', 'yours', 'yourself', 'yourselves', 'he', 'him', 'his', 'himself', 'she', \"she's\", 'her', 'hers', 'herself', 'it', \"it's\", 'its', 'itself', 'they', 'them', 'their', 'theirs', 'themselves', 'what', 'which', 'who', 'whom', 'this', 'that', \"that'll\", 'these', 'those', 'am', 'is', 'are', 'was', 'were', 'be', 'been', 'being', 'have', 'has', 'had', 'having', 'do', 'does', 'did', 'doing', 'a', 'an', 'the', 'and', 'but', 'if', 'or', 'because', 'as', 'until', 'while', 'of', 'at', 'by', 'for', 'with', 'about', 'against', 'between', 'into', 'through', 'during', 'before', 'after', 'above', 'below', 'to', 'from', 'up', 'down', 'in', 'out', 'on', 'off', 'over', 'under', 'again', 'further', 'then', 'once', 'here', 'there', 'when', 'where', 'why', 'how', 'all', 'any', 'both', 'each', 'few', 'more', 'most', 'other', 'some', 'such', 'no', 'nor', 'not', 'only', 'own', 'same', 'so', 'than', 'too', 'very', 's', 't', 'can', 'will', 'just', 'don', \"don't\", 'should', \"should've\", 'now', 'd', 'll', 'm', 'o', 're', 've', 'y', 'ain', 'aren', \"aren't\", 'couldn', \"couldn't\", 'didn', \"didn't\", 'doesn', \"doesn't\", 'hadn', \"hadn't\", 'hasn', \"hasn't\", 'haven', \"haven't\", 'isn', \"isn't\", 'ma', 'mightn', \"mightn't\", 'mustn', \"mustn't\", 'needn', \"needn't\", 'shan', \"shan't\", 'shouldn', \"shouldn't\", 'wasn', \"wasn't\", 'weren', \"weren't\", 'won', \"won't\", 'wouldn', \"wouldn't\"]\n",
            "179\n"
          ],
          "name": "stdout"
        }
      ]
    },
    {
      "cell_type": "code",
      "metadata": {
        "id": "YjW_wwtcSAHz"
      },
      "source": [
        "def removeStopword(df,stop_words_):\n",
        "    for stop_word in stop_words_:\n",
        "        regex_stopword = r\"\\b\" + stop_word + r\"\\b\"\n",
        "        df = df.str.replace(regex_stopword, '')\n",
        "    return df"
      ],
      "execution_count": null,
      "outputs": []
    },
    {
      "cell_type": "code",
      "metadata": {
        "colab": {
          "base_uri": "https://localhost:8080/"
        },
        "id": "StDf-CM9SEb9",
        "outputId": "4e81e6e7-1006-43df-e8fd-5e64fe2fcbd6"
      },
      "source": [
        "data['review_stopword'] = removeStopword(data['review_clean'],stop_words)\n",
        "data = data[['label','review','review_clean','review_stopword']]\n",
        "data.head(1)"
      ],
      "execution_count": null,
      "outputs": [
        {
          "output_type": "execute_result",
          "data": {
            "text/html": [
              "<div>\n",
              "<style scoped>\n",
              "    .dataframe tbody tr th:only-of-type {\n",
              "        vertical-align: middle;\n",
              "    }\n",
              "\n",
              "    .dataframe tbody tr th {\n",
              "        vertical-align: top;\n",
              "    }\n",
              "\n",
              "    .dataframe thead th {\n",
              "        text-align: right;\n",
              "    }\n",
              "</style>\n",
              "<table border=\"1\" class=\"dataframe\">\n",
              "  <thead>\n",
              "    <tr style=\"text-align: right;\">\n",
              "      <th></th>\n",
              "      <th>label</th>\n",
              "      <th>review</th>\n",
              "      <th>review_clean</th>\n",
              "      <th>review_stopword</th>\n",
              "    </tr>\n",
              "  </thead>\n",
              "  <tbody>\n",
              "    <tr>\n",
              "      <th>0</th>\n",
              "      <td>1</td>\n",
              "      <td>One of the other reviewers has mentioned that after watching just 1 Oz episode you'll be hooked. They are right, as this is exactly what happened with me. The first thing that struck me about Oz was its brutality and unflinching scenes of violence, which set in right from the word GO. Trust me, this is not a show for the faint hearted or timid. This show pulls no punches with regards to drugs, sex or violence. Its is hardcore, in the classic use of the word. It is called OZ as that is the nickname given to the Oswald Maximum Security State Penitentary. It focuses mainly on Emerald City, an experimental section of the prison where all the cells have glass fronts and face inwards, so privacy is not high on the agenda. Em City is home to many..Aryans, Muslims, gangstas, Latinos, Christians, Italians, Irish and more....so scuffles, death stares, dodgy dealings and shady agreements are never far away. I would say the main appeal of the show is due to the fact that it goes where other shows wouldn't dare. Forget pretty pictures painted for mainstream audiences, forget charm, forget romance...OZ doesn't mess around. The first episode I ever saw struck me as so nasty it was surreal, I couldn't say I was ready for it, but as I watched more, I developed a taste for Oz, and got accustomed to the high levels of graphic violence. Not just violence, but injustice (crooked guards who'll be sold out for a nickel, inmates who'll kill on order and get away with it, well mannered, middle class inmates being turned into prison bitches due to their lack of street skills or prison experience) Watching Oz, you may become comfortable with what is uncomfortable viewing....thats if you can get in touch with your darker side.</td>\n",
              "      <td>one of the other reviewers has mentioned that after watching just  oz episode youll be hooked they are right as this is exactly what happened with me the first thing that struck me about oz was its brutality and unflinching scenes of violence which set in right from the word go trust me this is not a show for the faint hearted or timid this show pulls no punches with regards to drugs sex or violence its is hardcore in the classic use of the word it is called oz as that is the nickname given to the oswald maximum security state penitentary it focuses mainly on emerald city an experimental section of the prison where all the cells have glass fronts and face inwards so privacy is not high on the agenda em city is home to manyaryans muslims gangstas latinos christians italians irish and moreso scuffles death stares dodgy dealings and shady agreements are never far away i would say the main appeal of the show is due to the fact that it goes where other shows wouldnt dare forget pretty pictures painted for mainstream audiences forget charm forget romanceoz doesnt mess around the first episode i ever saw struck me as so nasty it was surreal i couldnt say i was ready for it but as i watched more i developed a taste for oz and got accustomed to the high levels of graphic violence not just violence but injustice crooked guards wholl be sold out for a nickel inmates wholl kill on order and get away with it well mannered middle class inmates being turned into prison bitches due to their lack of street skills or prison experience watching oz you may become comfortable with what is uncomfortable viewingthats if you can get in touch with your darker side</td>\n",
              "      <td>one    reviewers  mentioned   watching   oz episode youll  hooked   right    exactly  happened    first thing  struck   oz   brutality  unflinching scenes  violence  set  right   word go trust      show   faint hearted  timid  show pulls  punches  regards  drugs sex  violence   hardcore   classic use   word   called oz     nickname given   oswald maximum security state penitentary  focuses mainly  emerald city  experimental section   prison    cells  glass fronts  face inwards  privacy   high   agenda em city  home  manyaryans muslims gangstas latinos christians italians irish  moreso scuffles death stares dodgy dealings  shady agreements  never far away  would say  main appeal   show  due   fact   goes   shows wouldnt dare forget pretty pictures painted  mainstream audiences forget charm forget romanceoz doesnt mess around  first episode  ever saw struck    nasty   surreal  couldnt say   ready      watched   developed  taste  oz  got accustomed   high levels  graphic violence   violence  injustice crooked guards wholl  sold    nickel inmates wholl kill  order  get away   well mannered middle class inmates  turned  prison bitches due   lack  street skills  prison experience watching oz  may become comfortable    uncomfortable viewingthats    get  touch   darker side</td>\n",
              "    </tr>\n",
              "  </tbody>\n",
              "</table>\n",
              "</div>"
            ],
            "text/plain": [
              "   label  ...                                                                                                                                                                                                                                                                                                                                                                                                                                                                                                                                                                                                                                                                                                                                                                                                                                                                                                                                                                                                                                                                                                                                                                                                                                                                                                                         review_stopword\n",
              "0  1      ...  one    reviewers  mentioned   watching   oz episode youll  hooked   right    exactly  happened    first thing  struck   oz   brutality  unflinching scenes  violence  set  right   word go trust      show   faint hearted  timid  show pulls  punches  regards  drugs sex  violence   hardcore   classic use   word   called oz     nickname given   oswald maximum security state penitentary  focuses mainly  emerald city  experimental section   prison    cells  glass fronts  face inwards  privacy   high   agenda em city  home  manyaryans muslims gangstas latinos christians italians irish  moreso scuffles death stares dodgy dealings  shady agreements  never far away  would say  main appeal   show  due   fact   goes   shows wouldnt dare forget pretty pictures painted  mainstream audiences forget charm forget romanceoz doesnt mess around  first episode  ever saw struck    nasty   surreal  couldnt say   ready      watched   developed  taste  oz  got accustomed   high levels  graphic violence   violence  injustice crooked guards wholl  sold    nickel inmates wholl kill  order  get away   well mannered middle class inmates  turned  prison bitches due   lack  street skills  prison experience watching oz  may become comfortable    uncomfortable viewingthats    get  touch   darker side\n",
              "\n",
              "[1 rows x 4 columns]"
            ]
          },
          "metadata": {
            "tags": []
          },
          "execution_count": 15
        }
      ]
    },
    {
      "cell_type": "code",
      "metadata": {
        "colab": {
          "base_uri": "https://localhost:8080/"
        },
        "id": "JzEoj_h5kkVA",
        "outputId": "65ac4fd8-ba26-48a9-dcf2-681e56b5bd00"
      },
      "source": [
        "data.info()"
      ],
      "execution_count": null,
      "outputs": [
        {
          "output_type": "stream",
          "text": [
            "<class 'pandas.core.frame.DataFrame'>\n",
            "Int64Index: 15000 entries, 0 to 49999\n",
            "Data columns (total 4 columns):\n",
            " #   Column           Non-Null Count  Dtype \n",
            "---  ------           --------------  ----- \n",
            " 0   label            15000 non-null  int64 \n",
            " 1   review           15000 non-null  object\n",
            " 2   review_clean     15000 non-null  object\n",
            " 3   review_stopword  15000 non-null  object\n",
            "dtypes: int64(1), object(3)\n",
            "memory usage: 585.9+ KB\n"
          ],
          "name": "stdout"
        }
      ]
    },
    {
      "cell_type": "markdown",
      "metadata": {
        "id": "ylEVOoNBTyx1"
      },
      "source": [
        "### Lemmatization"
      ]
    },
    {
      "cell_type": "code",
      "metadata": {
        "colab": {
          "base_uri": "https://localhost:8080/"
        },
        "id": "3m4msRBNTye5",
        "outputId": "423c77cd-334f-4474-ed90-96114cb5232c"
      },
      "source": [
        "nltk.download('wordnet')\n",
        "from nltk.stem import WordNetLemmatizer"
      ],
      "execution_count": null,
      "outputs": [
        {
          "output_type": "stream",
          "text": [
            "[nltk_data] Downloading package wordnet to /root/nltk_data...\n",
            "[nltk_data]   Package wordnet is already up-to-date!\n"
          ],
          "name": "stdout"
        }
      ]
    },
    {
      "cell_type": "code",
      "metadata": {
        "id": "4d0ZmnvRUZK5"
      },
      "source": [
        "stemmer_en = WordNetLemmatizer() # nltk"
      ],
      "execution_count": null,
      "outputs": []
    },
    {
      "cell_type": "code",
      "metadata": {
        "id": "YFdb9ssSUd4A"
      },
      "source": [
        "def stemming(text, stemmer_en):\n",
        "    text_split = text.split(\" \")\n",
        "    stemmed_list = []\n",
        "    for i in text_split:\n",
        "        stem_text1 = stemmer_en.lemmatize(i, pos=\"v\")\n",
        "        stem_text2 = stemmer_en.lemmatize(stem_text1, pos=\"n\")\n",
        "        stem_text3 = stemmer_en.lemmatize(stem_text2, pos=\"a\")\n",
        "        stemmed_list.append(stem_text3)\n",
        "    stemmed = ' '.join(map(str,stemmed_list))\n",
        "    return stemmed\n",
        "\n",
        "def stemData(data, stemmer_en):\n",
        "    data = data.map(lambda com : stemming(com,stemmer_en))\n",
        "    return data"
      ],
      "execution_count": null,
      "outputs": []
    },
    {
      "cell_type": "code",
      "metadata": {
        "colab": {
          "base_uri": "https://localhost:8080/"
        },
        "id": "f1yQh0uBVxdM",
        "outputId": "7d0822e7-c93b-42c3-c6a2-b195c19b6823"
      },
      "source": [
        "data['review_stem'] = stemData(data['review_stopword'], stemmer_en)\n",
        "data.head(1)"
      ],
      "execution_count": null,
      "outputs": [
        {
          "output_type": "execute_result",
          "data": {
            "text/html": [
              "<div>\n",
              "<style scoped>\n",
              "    .dataframe tbody tr th:only-of-type {\n",
              "        vertical-align: middle;\n",
              "    }\n",
              "\n",
              "    .dataframe tbody tr th {\n",
              "        vertical-align: top;\n",
              "    }\n",
              "\n",
              "    .dataframe thead th {\n",
              "        text-align: right;\n",
              "    }\n",
              "</style>\n",
              "<table border=\"1\" class=\"dataframe\">\n",
              "  <thead>\n",
              "    <tr style=\"text-align: right;\">\n",
              "      <th></th>\n",
              "      <th>label</th>\n",
              "      <th>review</th>\n",
              "      <th>review_clean</th>\n",
              "      <th>review_stopword</th>\n",
              "      <th>review_stem</th>\n",
              "    </tr>\n",
              "  </thead>\n",
              "  <tbody>\n",
              "    <tr>\n",
              "      <th>0</th>\n",
              "      <td>1</td>\n",
              "      <td>One of the other reviewers has mentioned that after watching just 1 Oz episode you'll be hooked. They are right, as this is exactly what happened with me. The first thing that struck me about Oz was its brutality and unflinching scenes of violence, which set in right from the word GO. Trust me, this is not a show for the faint hearted or timid. This show pulls no punches with regards to drugs, sex or violence. Its is hardcore, in the classic use of the word. It is called OZ as that is the nickname given to the Oswald Maximum Security State Penitentary. It focuses mainly on Emerald City, an experimental section of the prison where all the cells have glass fronts and face inwards, so privacy is not high on the agenda. Em City is home to many..Aryans, Muslims, gangstas, Latinos, Christians, Italians, Irish and more....so scuffles, death stares, dodgy dealings and shady agreements are never far away. I would say the main appeal of the show is due to the fact that it goes where other shows wouldn't dare. Forget pretty pictures painted for mainstream audiences, forget charm, forget romance...OZ doesn't mess around. The first episode I ever saw struck me as so nasty it was surreal, I couldn't say I was ready for it, but as I watched more, I developed a taste for Oz, and got accustomed to the high levels of graphic violence. Not just violence, but injustice (crooked guards who'll be sold out for a nickel, inmates who'll kill on order and get away with it, well mannered, middle class inmates being turned into prison bitches due to their lack of street skills or prison experience) Watching Oz, you may become comfortable with what is uncomfortable viewing....thats if you can get in touch with your darker side.</td>\n",
              "      <td>one of the other reviewers has mentioned that after watching just  oz episode youll be hooked they are right as this is exactly what happened with me the first thing that struck me about oz was its brutality and unflinching scenes of violence which set in right from the word go trust me this is not a show for the faint hearted or timid this show pulls no punches with regards to drugs sex or violence its is hardcore in the classic use of the word it is called oz as that is the nickname given to the oswald maximum security state penitentary it focuses mainly on emerald city an experimental section of the prison where all the cells have glass fronts and face inwards so privacy is not high on the agenda em city is home to manyaryans muslims gangstas latinos christians italians irish and moreso scuffles death stares dodgy dealings and shady agreements are never far away i would say the main appeal of the show is due to the fact that it goes where other shows wouldnt dare forget pretty pictures painted for mainstream audiences forget charm forget romanceoz doesnt mess around the first episode i ever saw struck me as so nasty it was surreal i couldnt say i was ready for it but as i watched more i developed a taste for oz and got accustomed to the high levels of graphic violence not just violence but injustice crooked guards wholl be sold out for a nickel inmates wholl kill on order and get away with it well mannered middle class inmates being turned into prison bitches due to their lack of street skills or prison experience watching oz you may become comfortable with what is uncomfortable viewingthats if you can get in touch with your darker side</td>\n",
              "      <td>one    reviewers  mentioned   watching   oz episode youll  hooked   right    exactly  happened    first thing  struck   oz   brutality  unflinching scenes  violence  set  right   word go trust      show   faint hearted  timid  show pulls  punches  regards  drugs sex  violence   hardcore   classic use   word   called oz     nickname given   oswald maximum security state penitentary  focuses mainly  emerald city  experimental section   prison    cells  glass fronts  face inwards  privacy   high   agenda em city  home  manyaryans muslims gangstas latinos christians italians irish  moreso scuffles death stares dodgy dealings  shady agreements  never far away  would say  main appeal   show  due   fact   goes   shows wouldnt dare forget pretty pictures painted  mainstream audiences forget charm forget romanceoz doesnt mess around  first episode  ever saw struck    nasty   surreal  couldnt say   ready      watched   developed  taste  oz  got accustomed   high levels  graphic violence   violence  injustice crooked guards wholl  sold    nickel inmates wholl kill  order  get away   well mannered middle class inmates  turned  prison bitches due   lack  street skills  prison experience watching oz  may become comfortable    uncomfortable viewingthats    get  touch   darker side</td>\n",
              "      <td>one    reviewer  mention   watch   oz episode youll  hook   right    exactly  happen    first thing  strike   oz   brutality  unflinching scene  violence  set  right   word go trust      show   faint hearted  timid  show pull  punch  regard  drug sex  violence   hardcore   classic use   word   call oz     nickname give   oswald maximum security state penitentary  focus mainly  emerald city  experimental section   prison    cell  glass front  face inwards  privacy   high   agenda em city  home  manyaryans muslim gangsta latino christian italian irish  moreso scuffle death star dodgy deal  shady agreement  never far away  would say  main appeal   show  due   fact   go   show wouldnt dare forget pretty picture paint  mainstream audience forget charm forget romanceoz doesnt mess around  first episode  ever saw strike    nasty   surreal  couldnt say   ready      watch   develop  taste  oz  get accustom   high level  graphic violence   violence  injustice crook guard wholl  sell    nickel inmate wholl kill  order  get away   well mannered middle class inmate  turn  prison bitch due   lack  street skill  prison experience watch oz  may become comfortable    uncomfortable viewingthats    get  touch   dark side</td>\n",
              "    </tr>\n",
              "  </tbody>\n",
              "</table>\n",
              "</div>"
            ],
            "text/plain": [
              "   label  ...                                                                                                                                                                                                                                                                                                                                                                                                                                                                                                                                                                                                                                                                                                                                                                                                                                                                                                                                                                                                                                                                                                                                                                                                                                                            review_stem\n",
              "0  1      ...  one    reviewer  mention   watch   oz episode youll  hook   right    exactly  happen    first thing  strike   oz   brutality  unflinching scene  violence  set  right   word go trust      show   faint hearted  timid  show pull  punch  regard  drug sex  violence   hardcore   classic use   word   call oz     nickname give   oswald maximum security state penitentary  focus mainly  emerald city  experimental section   prison    cell  glass front  face inwards  privacy   high   agenda em city  home  manyaryans muslim gangsta latino christian italian irish  moreso scuffle death star dodgy deal  shady agreement  never far away  would say  main appeal   show  due   fact   go   show wouldnt dare forget pretty picture paint  mainstream audience forget charm forget romanceoz doesnt mess around  first episode  ever saw strike    nasty   surreal  couldnt say   ready      watch   develop  taste  oz  get accustom   high level  graphic violence   violence  injustice crook guard wholl  sell    nickel inmate wholl kill  order  get away   well mannered middle class inmate  turn  prison bitch due   lack  street skill  prison experience watch oz  may become comfortable    uncomfortable viewingthats    get  touch   dark side\n",
              "\n",
              "[1 rows x 5 columns]"
            ]
          },
          "metadata": {
            "tags": []
          },
          "execution_count": 20
        }
      ]
    },
    {
      "cell_type": "code",
      "metadata": {
        "colab": {
          "base_uri": "https://localhost:8080/"
        },
        "id": "66PbXn6GkoFU",
        "outputId": "05180817-e9c5-49f4-bd2e-1292e0e6a5cc"
      },
      "source": [
        "data.info()"
      ],
      "execution_count": null,
      "outputs": [
        {
          "output_type": "stream",
          "text": [
            "<class 'pandas.core.frame.DataFrame'>\n",
            "Int64Index: 15000 entries, 0 to 49999\n",
            "Data columns (total 5 columns):\n",
            " #   Column           Non-Null Count  Dtype \n",
            "---  ------           --------------  ----- \n",
            " 0   label            15000 non-null  int64 \n",
            " 1   review           15000 non-null  object\n",
            " 2   review_clean     15000 non-null  object\n",
            " 3   review_stopword  15000 non-null  object\n",
            " 4   review_stem      15000 non-null  object\n",
            "dtypes: int64(1), object(4)\n",
            "memory usage: 703.1+ KB\n"
          ],
          "name": "stdout"
        }
      ]
    },
    {
      "cell_type": "code",
      "metadata": {
        "id": "BCrDSvIQe_bZ"
      },
      "source": [
        "data_prep_stem = data[['review_stem','label']]\n",
        "data_prep_stem = data_prep_stem.rename(columns={'review_stem' : 'review'})\n",
        "\n",
        "data_prep_stem.to_csv(\"/content/drive/My Drive/TA/prep/data_prep_stem.csv\")"
      ],
      "execution_count": null,
      "outputs": []
    },
    {
      "cell_type": "code",
      "metadata": {
        "id": "kuzsDZzhgmqD"
      },
      "source": [
        "data_prep_unstem = data[['review_stopword','label']]\n",
        "data_prep_unstem = data_prep_stem.rename(columns={'review_stopword' : 'review'})\n",
        "\n",
        "data_prep_unstem.to_csv(\"/content/drive/My Drive/TA/prep/data_prep_unstem.csv\")"
      ],
      "execution_count": null,
      "outputs": []
    },
    {
      "cell_type": "markdown",
      "metadata": {
        "id": "TjlHrCklgy0n"
      },
      "source": [
        "# Feature Extraction"
      ]
    },
    {
      "cell_type": "code",
      "metadata": {
        "id": "ubb7qGDKhDNM"
      },
      "source": [
        "df_stem = pd.read_csv(\"/content/drive/My Drive/TA/prep/data_prep_stem.csv\",index_col=0)\n",
        "df_unstem = pd.read_csv(\"/content/drive/My Drive/TA/prep/data_prep_unstem.csv\",index_col=0)"
      ],
      "execution_count": null,
      "outputs": []
    },
    {
      "cell_type": "code",
      "metadata": {
        "colab": {
          "base_uri": "https://localhost:8080/"
        },
        "id": "vvcWuTeVi7q5",
        "outputId": "6a6c8331-a6ce-4103-8c31-9ddcbb9ae9cf"
      },
      "source": [
        "df_stem.info()"
      ],
      "execution_count": null,
      "outputs": [
        {
          "output_type": "stream",
          "text": [
            "<class 'pandas.core.frame.DataFrame'>\n",
            "Int64Index: 15000 entries, 0 to 49999\n",
            "Data columns (total 2 columns):\n",
            " #   Column  Non-Null Count  Dtype \n",
            "---  ------  --------------  ----- \n",
            " 0   review  15000 non-null  object\n",
            " 1   label   15000 non-null  int64 \n",
            "dtypes: int64(1), object(1)\n",
            "memory usage: 351.6+ KB\n"
          ],
          "name": "stdout"
        }
      ]
    },
    {
      "cell_type": "code",
      "metadata": {
        "colab": {
          "base_uri": "https://localhost:8080/"
        },
        "id": "KFcQ8wpxi-Zw",
        "outputId": "220c8088-21d5-4cd1-b747-f66c91c69160"
      },
      "source": [
        "df_unstem.info()"
      ],
      "execution_count": null,
      "outputs": [
        {
          "output_type": "stream",
          "text": [
            "<class 'pandas.core.frame.DataFrame'>\n",
            "Int64Index: 15000 entries, 0 to 49999\n",
            "Data columns (total 2 columns):\n",
            " #   Column  Non-Null Count  Dtype \n",
            "---  ------  --------------  ----- \n",
            " 0   review  15000 non-null  object\n",
            " 1   label   15000 non-null  int64 \n",
            "dtypes: int64(1), object(1)\n",
            "memory usage: 351.6+ KB\n"
          ],
          "name": "stdout"
        }
      ]
    },
    {
      "cell_type": "markdown",
      "metadata": {
        "id": "a_Wbo6kGkKiP"
      },
      "source": [
        "## Data Splitting"
      ]
    },
    {
      "cell_type": "code",
      "metadata": {
        "id": "nkiY3u2niHcF"
      },
      "source": [
        "from sklearn.model_selection import train_test_split\n",
        "\n",
        "def splitData(df):\n",
        "    X_train, X_test, y_train, y_test = train_test_split(df['review'], df[['label']], test_size = 0.5, random_state= 42, shuffle = True)\n",
        "\n",
        "    df_train = y_train.copy() \n",
        "    df_train = df_train.join(X_train)\n",
        "\n",
        "    df_test = y_test.copy() \n",
        "    df_test = df_test.join(X_test)\n",
        "\n",
        "    return df_train, df_test\n",
        "\n",
        "data_train_stem, data_test_stem = splitData(df_stem)\n",
        "data_train_unstem, data_test_unstem= splitData(df_unstem)"
      ],
      "execution_count": null,
      "outputs": []
    },
    {
      "cell_type": "code",
      "metadata": {
        "colab": {
          "base_uri": "https://localhost:8080/"
        },
        "id": "I7estqlHi1Yb",
        "outputId": "ac073b12-86ee-4baa-cb12-19f2452a4325"
      },
      "source": [
        "print(\"#STEM\")\n",
        "print(\"Data Train\")\n",
        "print('Jumlah Data :', len(data_train_stem))\n",
        "print('Label : ', data_train_stem.groupby(['label'])['label'].count())\n",
        "print()\n",
        "print(\"Data Test\")\n",
        "print('Jumlah Data :', len(data_test_stem))\n",
        "print('Label : ', data_test_stem.groupby(['label'])['label'].count())\n",
        "\n",
        "print()\n",
        "print()\n",
        "\n",
        "print(\"#UNSTEM\")\n",
        "print(\"Data Train\")\n",
        "print('Jumlah Data :', len(data_train_unstem))\n",
        "print('Label : ', data_train_unstem.groupby(['label'])['label'].count())\n",
        "print()\n",
        "print(\"Data Test\")\n",
        "print('Jumlah Data :', len(data_test_unstem))\n",
        "print('Label : ', data_test_unstem.groupby(['label'])['label'].count())"
      ],
      "execution_count": null,
      "outputs": [
        {
          "output_type": "stream",
          "text": [
            "#STEM\n",
            "Data Train\n",
            "Jumlah Data : 7500\n",
            "Label :  label\n",
            "0    3709\n",
            "1    3791\n",
            "Name: label, dtype: int64\n",
            "\n",
            "Data Test\n",
            "Jumlah Data : 7500\n",
            "Label :  label\n",
            "0    3776\n",
            "1    3724\n",
            "Name: label, dtype: int64\n",
            "\n",
            "\n",
            "#UNSTEM\n",
            "Data Train\n",
            "Jumlah Data : 7500\n",
            "Label :  label\n",
            "0    3709\n",
            "1    3791\n",
            "Name: label, dtype: int64\n",
            "\n",
            "Data Test\n",
            "Jumlah Data : 7500\n",
            "Label :  label\n",
            "0    3776\n",
            "1    3724\n",
            "Name: label, dtype: int64\n"
          ],
          "name": "stdout"
        }
      ]
    },
    {
      "cell_type": "code",
      "metadata": {
        "id": "awD5rS9to7Rv"
      },
      "source": [
        "data_train_stem.to_csv(\"data_train_stem.csv\")\n",
        "data_test_stem.to_csv(\"data_test_stem.csv\")\n",
        "\n",
        "data_train_unstem.to_csv(\"data_train_unstem.csv\")\n",
        "data_test_unstem.to_csv(\"data_test_unstem.csv\")"
      ],
      "execution_count": null,
      "outputs": []
    },
    {
      "cell_type": "code",
      "metadata": {
        "id": "J1XrHMvhpNyG"
      },
      "source": [
        "x_train_stem = data_train_stem['review']\n",
        "x_test_stem = data_test_stem['review']\n",
        "y_train_stem = data_train_stem.drop(['review'],axis=1)\n",
        "y_test_stem = data_test_stem.drop(['review'],axis=1)"
      ],
      "execution_count": null,
      "outputs": []
    },
    {
      "cell_type": "code",
      "metadata": {
        "id": "bSV2yF1HpUwF"
      },
      "source": [
        "x_train_unstem = data_train_unstem['review']\n",
        "x_test_unstem = data_test_unstem['review']\n",
        "y_train_unstem = data_train_unstem.drop(['review'],axis=1)\n",
        "y_test_unstem = data_test_unstem.drop(['review'],axis=1)"
      ],
      "execution_count": null,
      "outputs": []
    },
    {
      "cell_type": "markdown",
      "metadata": {
        "id": "fDqyoy4vrizt"
      },
      "source": [
        "## Word2Vec"
      ]
    },
    {
      "cell_type": "code",
      "metadata": {
        "colab": {
          "base_uri": "https://localhost:8080/"
        },
        "id": "0FZBA6uhrmCC",
        "outputId": "e2229c78-6b3b-4e13-eb09-d8afbf8a659e"
      },
      "source": [
        "!pip install gensim\n",
        "\n",
        "import re\n",
        "\n",
        "from gensim.models import Word2Vec\n",
        "from gensim.models import KeyedVectors\n",
        "\n",
        "import warnings\n",
        "warnings.filterwarnings(\"ignore\")"
      ],
      "execution_count": null,
      "outputs": [
        {
          "output_type": "stream",
          "text": [
            "Requirement already satisfied: gensim in /usr/local/lib/python3.7/dist-packages (3.6.0)\n",
            "Requirement already satisfied: smart-open>=1.2.1 in /usr/local/lib/python3.7/dist-packages (from gensim) (5.0.0)\n",
            "Requirement already satisfied: numpy>=1.11.3 in /usr/local/lib/python3.7/dist-packages (from gensim) (1.19.5)\n",
            "Requirement already satisfied: six>=1.5.0 in /usr/local/lib/python3.7/dist-packages (from gensim) (1.15.0)\n",
            "Requirement already satisfied: scipy>=0.18.1 in /usr/local/lib/python3.7/dist-packages (from gensim) (1.4.1)\n"
          ],
          "name": "stdout"
        }
      ]
    },
    {
      "cell_type": "markdown",
      "metadata": {
        "id": "NZPIUcIwxmdk"
      },
      "source": [
        "### Dimension = 100"
      ]
    },
    {
      "cell_type": "code",
      "metadata": {
        "id": "2GboI3sBr752"
      },
      "source": [
        "modelword2vec_100 = KeyedVectors.load_word2vec_format(\"/content/drive/My Drive/TA/ws_model100.txt\")"
      ],
      "execution_count": null,
      "outputs": []
    },
    {
      "cell_type": "markdown",
      "metadata": {
        "id": "KbsV76AvtF3E"
      },
      "source": [
        "#### Tokenization"
      ]
    },
    {
      "cell_type": "code",
      "metadata": {
        "id": "-wufEowCtC6f"
      },
      "source": [
        "class MyTokenizer:\n",
        "    def __init__(self):\n",
        "        pass\n",
        "    \n",
        "    def fit(self, X, y=None):\n",
        "        return self\n",
        "    \n",
        "    def transform(self, X):\n",
        "        transformed_X = []\n",
        "        for document in X:\n",
        "            tokenized_doc = []\n",
        "            for sent in nltk.sent_tokenize(document):\n",
        "                tokenized_doc += nltk.word_tokenize(sent)\n",
        "            transformed_X.append(np.array(tokenized_doc))\n",
        "        return np.array(transformed_X)\n",
        "    \n",
        "    def fit_transform(self, X, y=None):\n",
        "        return self.transform(X)"
      ],
      "execution_count": null,
      "outputs": []
    },
    {
      "cell_type": "markdown",
      "metadata": {
        "id": "m4LX79_NtLz-"
      },
      "source": [
        "#### Mean Embedding Vectorizer"
      ]
    },
    {
      "cell_type": "code",
      "metadata": {
        "id": "n4nwPeSStPRF"
      },
      "source": [
        "class MeanEmbeddingVectorizer(object):\n",
        "    def __init__(self, word2vec):\n",
        "        self.word2vec = word2vec\n",
        "        # bila kata kosong akan return vecktor 0 dengan dimensi yang sama untuk semua vektor lainnya\n",
        "        self.dim = len(word2vec.wv.syn0[0])\n",
        "\n",
        "    def fit(self, X, y=None):\n",
        "        return self\n",
        "\n",
        "    def transform(self, X):\n",
        "        X = MyTokenizer().fit_transform(X)\n",
        "        return np.array([\n",
        "            np.mean([self.word2vec.wv[w] for w in words if w in self.word2vec.wv]\n",
        "                    or [np.zeros(self.dim)], axis=0)\n",
        "            for words in X\n",
        "        ])\n",
        "    def cek(self,xx):\n",
        "      return self.word2vec.wv[xx]\n",
        "    def fit_transform(self, X, y=None):\n",
        "        return self.transform(X)"
      ],
      "execution_count": null,
      "outputs": []
    },
    {
      "cell_type": "code",
      "metadata": {
        "id": "Muh7CXMttsxh"
      },
      "source": [
        "mean_embedding_vectorizer = MeanEmbeddingVectorizer(modelword2vec_100)"
      ],
      "execution_count": null,
      "outputs": []
    },
    {
      "cell_type": "markdown",
      "metadata": {
        "id": "_X-xfQ1Et8R6"
      },
      "source": [
        "#### Implementation"
      ]
    },
    {
      "cell_type": "code",
      "metadata": {
        "colab": {
          "base_uri": "https://localhost:8080/"
        },
        "id": "kYW5T-uyt7j9",
        "outputId": "1954a0c7-42a6-4f83-af81-cc649e23db65"
      },
      "source": [
        "nltk.download('punkt')\n",
        "\n",
        "def word2vec (X_train_,X_test_,y_train_,y_test_):\n",
        "    features_train = mean_embedding_vectorizer.fit_transform(X_train_)\n",
        "    labels_train = y_train_.values\n",
        "    features_test = mean_embedding_vectorizer.transform(X_test_)\n",
        "    labels_test = y_test_.values\n",
        "    data_train_w2v = pd.DataFrame(data=features_train)\n",
        "    data_train_w2v = data_train_w2v.join(pd.DataFrame(data=labels_train,columns=['label']))\n",
        "    data_test_w2v = pd.DataFrame(data=features_test)\n",
        "    data_test_w2v = data_test_w2v.join(pd.DataFrame(data=labels_test,columns=['label']))\n",
        "    return data_train_w2v, data_test_w2v"
      ],
      "execution_count": null,
      "outputs": [
        {
          "output_type": "stream",
          "text": [
            "[nltk_data] Downloading package punkt to /root/nltk_data...\n",
            "[nltk_data]   Package punkt is already up-to-date!\n"
          ],
          "name": "stdout"
        }
      ]
    },
    {
      "cell_type": "code",
      "metadata": {
        "id": "cqqXtuMnuODU"
      },
      "source": [
        "#Stemmed\n",
        "data_train_stem_w2v, data_test_stem_w2v = word2vec(x_train_stem, x_test_stem, y_train_stem,y_test_stem)\n",
        "\n",
        "#Un-Stemmed\n",
        "data_train_unstem_w2v, data_test_unstem_w2v = word2vec(x_train_unstem, x_test_unstem, y_train_unstem,y_test_unstem)"
      ],
      "execution_count": null,
      "outputs": []
    },
    {
      "cell_type": "markdown",
      "metadata": {
        "id": "FraJLujPwqgd"
      },
      "source": [
        "#### Save Data"
      ]
    },
    {
      "cell_type": "code",
      "metadata": {
        "id": "Hf4pSOd0wtKu"
      },
      "source": [
        "#Stemmed\n",
        "data_train_stem_w2v.to_csv(\"/content/drive/My Drive/TA/w2v/data_train_stem_w2v_100.csv\")\n",
        "data_test_stem_w2v.to_csv(\"/content/drive/My Drive/TA/w2v/data_test_stem_w2v_100.csv\")\n",
        "\n",
        "#Un-Stemmed\n",
        "data_train_unstem_w2v.to_csv(\"/content/drive/My Drive/TA/w2v/data_train_unstem_w2v_100.csv\")\n",
        "data_test_unstem_w2v.to_csv(\"/content/drive/My Drive/TA/w2v/data_test_unstem_w2v_100.csv\")"
      ],
      "execution_count": null,
      "outputs": []
    },
    {
      "cell_type": "markdown",
      "metadata": {
        "id": "CJizJtW4x56m"
      },
      "source": [
        "### Dimension = 300"
      ]
    },
    {
      "cell_type": "code",
      "metadata": {
        "id": "G0UBCbUXx_DF"
      },
      "source": [
        "modelword2vec_300 = KeyedVectors.load_word2vec_format(\"/content/drive/My Drive/TA/ws_model300.txt\")"
      ],
      "execution_count": null,
      "outputs": []
    },
    {
      "cell_type": "markdown",
      "metadata": {
        "id": "MystUE2lyHlK"
      },
      "source": [
        "#### Tokenization"
      ]
    },
    {
      "cell_type": "code",
      "metadata": {
        "id": "kVASPFcnyErI"
      },
      "source": [
        "class MyTokenizer:\n",
        "    def __init__(self):\n",
        "        pass\n",
        "    \n",
        "    def fit(self, X, y=None):\n",
        "        return self\n",
        "    \n",
        "    def transform(self, X):\n",
        "        transformed_X = []\n",
        "        for document in X:\n",
        "            tokenized_doc = []\n",
        "            for sent in nltk.sent_tokenize(document):\n",
        "                tokenized_doc += nltk.word_tokenize(sent)\n",
        "            transformed_X.append(np.array(tokenized_doc))\n",
        "        return np.array(transformed_X)\n",
        "    \n",
        "    def fit_transform(self, X, y=None):\n",
        "        return self.transform(X)"
      ],
      "execution_count": null,
      "outputs": []
    },
    {
      "cell_type": "markdown",
      "metadata": {
        "id": "LL4UmslKyL6C"
      },
      "source": [
        "#### Mean Embedding Vectorizer"
      ]
    },
    {
      "cell_type": "code",
      "metadata": {
        "id": "XlkSXSUkyMiP"
      },
      "source": [
        "class MeanEmbeddingVectorizer(object):\n",
        "    def __init__(self, word2vec):\n",
        "        self.word2vec = word2vec\n",
        "        # bila kata kosong akan return vecktor 0 dengan dimensi yang sama untuk semua vektor lainnya\n",
        "        self.dim = len(word2vec.wv.syn0[0])\n",
        "\n",
        "    def fit(self, X, y=None):\n",
        "        return self\n",
        "\n",
        "    def transform(self, X):\n",
        "        X = MyTokenizer().fit_transform(X)\n",
        "        return np.array([\n",
        "            np.mean([self.word2vec.wv[w] for w in words if w in self.word2vec.wv]\n",
        "                    or [np.zeros(self.dim)], axis=0)\n",
        "            for words in X\n",
        "        ])\n",
        "    def cek(self,xx):\n",
        "      return self.word2vec.wv[xx]\n",
        "    def fit_transform(self, X, y=None):\n",
        "        return self.transform(X)"
      ],
      "execution_count": null,
      "outputs": []
    },
    {
      "cell_type": "code",
      "metadata": {
        "id": "hnna0jr0yOy6"
      },
      "source": [
        "mean_embedding_vectorizer = MeanEmbeddingVectorizer(modelword2vec_300)"
      ],
      "execution_count": null,
      "outputs": []
    },
    {
      "cell_type": "markdown",
      "metadata": {
        "id": "cift2llIyT4x"
      },
      "source": [
        "#### Implementation"
      ]
    },
    {
      "cell_type": "code",
      "metadata": {
        "id": "gklbFtkFyXFO"
      },
      "source": [
        "def word2vec (X_train_,X_test_,y_train_,y_test_):\n",
        "    features_train = mean_embedding_vectorizer.fit_transform(X_train_)\n",
        "    labels_train = y_train_.values\n",
        "    features_test = mean_embedding_vectorizer.transform(X_test_)\n",
        "    labels_test = y_test_.values\n",
        "    data_train_w2v = pd.DataFrame(data=features_train)\n",
        "    data_train_w2v = data_train_w2v.join(pd.DataFrame(data=labels_train,columns=['label']))\n",
        "    data_test_w2v = pd.DataFrame(data=features_test)\n",
        "    data_test_w2v = data_test_w2v.join(pd.DataFrame(data=labels_test,columns=['label']))\n",
        "    return data_train_w2v, data_test_w2v"
      ],
      "execution_count": null,
      "outputs": []
    },
    {
      "cell_type": "code",
      "metadata": {
        "id": "LWMs4-8KyZW0"
      },
      "source": [
        "#Stemmed\n",
        "data_train_stem_w2v, data_test_stem_w2v = word2vec(x_train_stem, x_test_stem, y_train_stem,y_test_stem)\n",
        "\n",
        "#Un-Stemmed\n",
        "data_train_unstem_w2v, data_test_unstem_w2v = word2vec(x_train_unstem, x_test_unstem, y_train_unstem,y_test_unstem)"
      ],
      "execution_count": null,
      "outputs": []
    },
    {
      "cell_type": "markdown",
      "metadata": {
        "id": "MSyyv9QVycSM"
      },
      "source": [
        "#### Save Data"
      ]
    },
    {
      "cell_type": "code",
      "metadata": {
        "id": "qOxHV4akyezp"
      },
      "source": [
        "#Stemmed\n",
        "data_train_stem_w2v.to_csv(\"/content/drive/My Drive/TA/w2v/data_train_stem_w2v_300.csv\")\n",
        "data_test_stem_w2v.to_csv(\"/content/drive/My Drive/TA/w2v/data_test_stem_w2v_300.csv\")\n",
        "\n",
        "#Un-Stemmed\n",
        "data_train_unstem_w2v.to_csv(\"/content/drive/My Drive/TA/w2v/data_train_unstem_w2v_300.csv\")\n",
        "data_test_unstem_w2v.to_csv(\"/content/drive/My Drive/TA/w2v/data_test_unstem_w2v_300.csv\")"
      ],
      "execution_count": null,
      "outputs": []
    },
    {
      "cell_type": "markdown",
      "metadata": {
        "id": "whDWLzT4_phP"
      },
      "source": [
        "# Classification"
      ]
    },
    {
      "cell_type": "code",
      "metadata": {
        "id": "xoYc4Doj_7qm"
      },
      "source": [
        "import sklearn\n",
        "import sklearn.linear_model\n",
        "from sklearn.model_selection import train_test_split, GridSearchCV\n",
        "from sklearn import tree\n",
        "from sklearn import model_selection\n",
        "from sklearn.feature_selection import SelectFromModel\n",
        "from sklearn.ensemble import RandomForestClassifier\n",
        "from sklearn.ensemble import AdaBoostClassifier\n",
        "from sklearn.ensemble import GradientBoostingClassifier\n",
        "from sklearn.metrics import classification_report, confusion_matrix"
      ],
      "execution_count": null,
      "outputs": []
    },
    {
      "cell_type": "markdown",
      "metadata": {
        "id": "Mc2nnuLdCuj8"
      },
      "source": [
        "## Dimension = 100"
      ]
    },
    {
      "cell_type": "code",
      "metadata": {
        "id": "lKGxxF4gBReX"
      },
      "source": [
        "data_train_stem_w2v = pd.read_csv(\"/content/drive/MyDrive/TA/w2v/data_train_stem_w2v_100.csv\",index_col=0)\n",
        "data_test_stem_w2v = pd.read_csv(\"/content/drive/MyDrive/TA/w2v/data_test_stem_w2v_100.csv\",index_col=0)\n",
        "\n",
        "data_train_unstem_w2v = pd.read_csv(\"/content/drive/MyDrive/TA/w2v/data_train_unstem_w2v_100.csv\",index_col=0)\n",
        "data_test_unstem_w2v = pd.read_csv(\"/content/drive/MyDrive/TA/w2v/data_test_unstem_w2v_100.csv\",index_col=0)"
      ],
      "execution_count": null,
      "outputs": []
    },
    {
      "cell_type": "code",
      "metadata": {
        "id": "FSERTOCPCUEa"
      },
      "source": [
        "x_train_stem = data_train_stem_w2v.drop(['label'],axis=1)\n",
        "x_test_stem = data_test_stem_w2v.drop(['label'],axis=1)\n",
        "y_train_stem = data_train_stem_w2v[['label']]\n",
        "y_test_stem = data_test_stem_w2v[['label']]"
      ],
      "execution_count": null,
      "outputs": []
    },
    {
      "cell_type": "code",
      "metadata": {
        "id": "SYNuuYvVCXtE"
      },
      "source": [
        "x_train_unstem = data_train_unstem_w2v.drop(['label'],axis=1)\n",
        "x_test_unstem = data_test_unstem_w2v.drop(['label'],axis=1)\n",
        "y_train_unstem = data_train_unstem_w2v[['label']]\n",
        "y_test_unstem = data_test_unstem_w2v[['label']]"
      ],
      "execution_count": null,
      "outputs": []
    },
    {
      "cell_type": "markdown",
      "metadata": {
        "id": "IscpGiAU_zxL"
      },
      "source": [
        "### Single Decision Tree"
      ]
    },
    {
      "cell_type": "code",
      "metadata": {
        "colab": {
          "base_uri": "https://localhost:8080/"
        },
        "id": "M-nrK8kmAfN2",
        "outputId": "e75086cb-845c-4205-a4b8-901edf1c452e"
      },
      "source": [
        "print(\"STEMMED\")\n",
        "print()\n",
        "dt_clf = tree.DecisionTreeClassifier(criterion='entropy')\n",
        "dt_clf.fit(x_train_stem, y_train_stem)\n",
        "print(\"Training acc:\", dt_clf.score(x_train_stem, y_train_stem), \"\\nTesting acc:\", dt_clf.score(x_test_stem, y_test_stem))\n",
        "print()\n",
        "\n",
        "print(\"UN-STEMMED\")\n",
        "print()\n",
        "dt_clf = tree.DecisionTreeClassifier(criterion='entropy')\n",
        "dt_clf.fit(x_train_unstem, y_train_unstem)\n",
        "print(\"Training acc:\", dt_clf.score(x_train_unstem, y_train_unstem), \"\\nTesting acc:\", dt_clf.score(x_test_unstem, y_test_unstem))\n",
        "print()"
      ],
      "execution_count": null,
      "outputs": [
        {
          "output_type": "stream",
          "text": [
            "STEMMED\n",
            "\n",
            "Training acc: 1.0 \n",
            "Testing acc: 0.6109333333333333\n",
            "\n",
            "UN-STEMMED\n",
            "\n",
            "Training acc: 1.0 \n",
            "Testing acc: 0.6113333333333333\n",
            "\n"
          ],
          "name": "stdout"
        }
      ]
    },
    {
      "cell_type": "markdown",
      "metadata": {
        "id": "3wsCFQvduYAE"
      },
      "source": [
        "#### Stemmed"
      ]
    },
    {
      "cell_type": "markdown",
      "metadata": {
        "id": "BSJv9cc_C2sx"
      },
      "source": [
        "##### Changing Parameters"
      ]
    },
    {
      "cell_type": "code",
      "metadata": {
        "colab": {
          "base_uri": "https://localhost:8080/"
        },
        "id": "VBCeSdz7C6WE",
        "outputId": "151cc084-6418-45e9-869d-945abe1a4fb8"
      },
      "source": [
        "parameters = {\"max_depth\": [None, 10, 100, 1000, 10000],\n",
        "              \"min_samples_split\": [5, 10, 50, 100, 500, 1000],\n",
        "              \"min_samples_leaf\": [10, 100, 1000, 10000],\n",
        "              \"max_leaf_nodes\": [None, 10, 100, 1000, 10000],\n",
        "              }\n",
        "gridsearch = GridSearchCV(dt_clf, parameters)\n",
        "gridsearch.fit(x_train_stem, y_train_stem)"
      ],
      "execution_count": null,
      "outputs": [
        {
          "output_type": "execute_result",
          "data": {
            "text/plain": [
              "GridSearchCV(cv=None, error_score=nan,\n",
              "             estimator=DecisionTreeClassifier(ccp_alpha=0.0, class_weight=None,\n",
              "                                              criterion='entropy',\n",
              "                                              max_depth=None, max_features=None,\n",
              "                                              max_leaf_nodes=None,\n",
              "                                              min_impurity_decrease=0.0,\n",
              "                                              min_impurity_split=None,\n",
              "                                              min_samples_leaf=1,\n",
              "                                              min_samples_split=2,\n",
              "                                              min_weight_fraction_leaf=0.0,\n",
              "                                              presort='deprecated',\n",
              "                                              random_state=None,\n",
              "                                              splitter='best'),\n",
              "             iid='deprecated', n_jobs=None,\n",
              "             param_grid={'max_depth': [None, 10, 100, 1000, 10000],\n",
              "                         'max_leaf_nodes': [None, 10, 100, 1000, 10000],\n",
              "                         'min_samples_leaf': [10, 100, 1000, 10000],\n",
              "                         'min_samples_split': [5, 10, 50, 100, 500, 1000]},\n",
              "             pre_dispatch='2*n_jobs', refit=True, return_train_score=False,\n",
              "             scoring=None, verbose=0)"
            ]
          },
          "metadata": {
            "tags": []
          },
          "execution_count": 52
        }
      ]
    },
    {
      "cell_type": "code",
      "metadata": {
        "colab": {
          "base_uri": "https://localhost:8080/"
        },
        "id": "yMJMtFcLEQ5T",
        "outputId": "1f022b2a-2739-4d31-bf68-4cea3a49fad9"
      },
      "source": [
        "# show the best parameters of the gridsearchCV regularized decision tree\n",
        "gridsearch.best_params_"
      ],
      "execution_count": null,
      "outputs": [
        {
          "output_type": "execute_result",
          "data": {
            "text/plain": [
              "{'max_depth': None,\n",
              " 'max_leaf_nodes': None,\n",
              " 'min_samples_leaf': 100,\n",
              " 'min_samples_split': 5}"
            ]
          },
          "metadata": {
            "tags": []
          },
          "execution_count": 53
        }
      ]
    },
    {
      "cell_type": "code",
      "metadata": {
        "colab": {
          "base_uri": "https://localhost:8080/"
        },
        "id": "FiF5jgl0ETuM",
        "outputId": "d4b6c25d-5607-4a46-826c-e53a63fab8db"
      },
      "source": [
        "# use parameters from gridsearchCV above in new decision tree model\n",
        "reg_tree = gridsearch.best_estimator_\n",
        "\n",
        "print(\"Training acc:\", reg_tree.score(x_train_stem, y_train_stem), \"\\nTesting acc:\",\n",
        "      reg_tree.score(x_test_stem, y_test_stem))"
      ],
      "execution_count": null,
      "outputs": [
        {
          "output_type": "stream",
          "text": [
            "Training acc: 0.7110666666666666 \n",
            "Testing acc: 0.6484\n"
          ],
          "name": "stdout"
        }
      ]
    },
    {
      "cell_type": "code",
      "metadata": {
        "id": "zPljeStTHFh6"
      },
      "source": [
        "def print_results(estimator, X, y, leadingString=''):\n",
        "    print(leadingString, estimator.score(X, y))"
      ],
      "execution_count": null,
      "outputs": []
    },
    {
      "cell_type": "code",
      "metadata": {
        "colab": {
          "base_uri": "https://localhost:8080/"
        },
        "id": "eiGVLqTAErll",
        "outputId": "d2c62cb3-a91c-45c6-ce1c-70c556295736"
      },
      "source": [
        "# create decision tree model with manually searched parameters (best in class)\n",
        "reg_tree2 = tree.DecisionTreeClassifier(criterion = \"entropy\", max_depth = None, max_leaf_nodes = 125, min_samples_leaf = 2, min_samples_split = 60)\n",
        "reg_tree2.fit(x_train_stem, y_train_stem)\n",
        "\n",
        "# print model training and test accuracies\n",
        "print_results(reg_tree2, x_train_stem, y_train_stem, \"Training score: \")\n",
        "print_results(reg_tree2, x_test_stem, y_test_stem, \"Testing score: \")"
      ],
      "execution_count": null,
      "outputs": [
        {
          "output_type": "stream",
          "text": [
            "Training score:  0.7605333333333333\n",
            "Testing score:  0.6362666666666666\n"
          ],
          "name": "stdout"
        }
      ]
    },
    {
      "cell_type": "markdown",
      "metadata": {
        "id": "NivHhWRpFOQT"
      },
      "source": [
        "##### Improving Decision Tree Classifer Accuracy using Adaptive Boosting"
      ]
    },
    {
      "cell_type": "markdown",
      "metadata": {
        "id": "af4QpMKyrBfT"
      },
      "source": [
        "###### Adaptive Boosting"
      ]
    },
    {
      "cell_type": "code",
      "metadata": {
        "colab": {
          "base_uri": "https://localhost:8080/"
        },
        "id": "jx6ddVW0Fr2V",
        "outputId": "3d6c07b0-8b5c-4aea-b379-407dc3b57871"
      },
      "source": [
        "# train an AdaBoost classifier using the tuned random forest model above as the base estimator\n",
        "boost_clf = AdaBoostClassifier(base_estimator=reg_tree2, n_estimators=100)\n",
        "boost_clf.fit(x_train_stem, y_train_stem)"
      ],
      "execution_count": null,
      "outputs": [
        {
          "output_type": "execute_result",
          "data": {
            "text/plain": [
              "AdaBoostClassifier(algorithm='SAMME.R',\n",
              "                   base_estimator=DecisionTreeClassifier(ccp_alpha=0.0,\n",
              "                                                         class_weight=None,\n",
              "                                                         criterion='entropy',\n",
              "                                                         max_depth=None,\n",
              "                                                         max_features=None,\n",
              "                                                         max_leaf_nodes=125,\n",
              "                                                         min_impurity_decrease=0.0,\n",
              "                                                         min_impurity_split=None,\n",
              "                                                         min_samples_leaf=2,\n",
              "                                                         min_samples_split=60,\n",
              "                                                         min_weight_fraction_leaf=0.0,\n",
              "                                                         presort='deprecated',\n",
              "                                                         random_state=None,\n",
              "                                                         splitter='best'),\n",
              "                   learning_rate=1.0, n_estimators=100, random_state=None)"
            ]
          },
          "metadata": {
            "tags": []
          },
          "execution_count": 57
        }
      ]
    },
    {
      "cell_type": "code",
      "metadata": {
        "colab": {
          "base_uri": "https://localhost:8080/"
        },
        "id": "Nq1z-g6EFyg6",
        "outputId": "a4adfda8-0020-4ce8-bc1b-d6494dea2717"
      },
      "source": [
        "print(\"Training acc:\", boost_clf.score(x_train_stem, y_train_stem), \"\\nTesting acc:\",\n",
        "      boost_clf.score(x_test_stem, y_test_stem))"
      ],
      "execution_count": null,
      "outputs": [
        {
          "output_type": "stream",
          "text": [
            "Training acc: 1.0 \n",
            "Testing acc: 0.7006666666666667\n"
          ],
          "name": "stdout"
        }
      ]
    },
    {
      "cell_type": "markdown",
      "metadata": {
        "id": "eB5V_27SuZe5"
      },
      "source": [
        "#### Un-Stemmed"
      ]
    },
    {
      "cell_type": "markdown",
      "metadata": {
        "id": "AFOZCp_MD6pf"
      },
      "source": [
        "##### Changing Parameters"
      ]
    },
    {
      "cell_type": "code",
      "metadata": {
        "colab": {
          "base_uri": "https://localhost:8080/"
        },
        "id": "Y1jR7rTLEKfM",
        "outputId": "ab30ce0e-ac7b-4028-c4bc-7d87be38595a"
      },
      "source": [
        "parameters = {\"max_depth\": [None, 10, 100, 1000, 10000],\n",
        "              \"min_samples_split\": [5, 10, 50, 100, 500, 1000],\n",
        "              \"min_samples_leaf\": [10, 100, 1000, 10000],\n",
        "              \"max_leaf_nodes\": [None, 10, 100, 1000, 10000],\n",
        "              }\n",
        "gridsearch = GridSearchCV(dt_clf, parameters)\n",
        "gridsearch.fit(x_train_unstem, y_train_unstem)"
      ],
      "execution_count": null,
      "outputs": [
        {
          "output_type": "execute_result",
          "data": {
            "text/plain": [
              "GridSearchCV(cv=None, error_score=nan,\n",
              "             estimator=DecisionTreeClassifier(ccp_alpha=0.0, class_weight=None,\n",
              "                                              criterion='entropy',\n",
              "                                              max_depth=None, max_features=None,\n",
              "                                              max_leaf_nodes=None,\n",
              "                                              min_impurity_decrease=0.0,\n",
              "                                              min_impurity_split=None,\n",
              "                                              min_samples_leaf=1,\n",
              "                                              min_samples_split=2,\n",
              "                                              min_weight_fraction_leaf=0.0,\n",
              "                                              presort='deprecated',\n",
              "                                              random_state=None,\n",
              "                                              splitter='best'),\n",
              "             iid='deprecated', n_jobs=None,\n",
              "             param_grid={'max_depth': [None, 10, 100, 1000, 10000],\n",
              "                         'max_leaf_nodes': [None, 10, 100, 1000, 10000],\n",
              "                         'min_samples_leaf': [10, 100, 1000, 10000],\n",
              "                         'min_samples_split': [5, 10, 50, 100, 500, 1000]},\n",
              "             pre_dispatch='2*n_jobs', refit=True, return_train_score=False,\n",
              "             scoring=None, verbose=0)"
            ]
          },
          "metadata": {
            "tags": []
          },
          "execution_count": 65
        }
      ]
    },
    {
      "cell_type": "code",
      "metadata": {
        "colab": {
          "base_uri": "https://localhost:8080/"
        },
        "id": "rYEl5_w_E4P7",
        "outputId": "5ad400c5-89e7-4df4-ca7e-edbc66ae420b"
      },
      "source": [
        "# show the best parameters of the gridsearchCV regularized decision tree\n",
        "gridsearch.best_params_"
      ],
      "execution_count": null,
      "outputs": [
        {
          "output_type": "execute_result",
          "data": {
            "text/plain": [
              "{'max_depth': None,\n",
              " 'max_leaf_nodes': None,\n",
              " 'min_samples_leaf': 100,\n",
              " 'min_samples_split': 50}"
            ]
          },
          "metadata": {
            "tags": []
          },
          "execution_count": 66
        }
      ]
    },
    {
      "cell_type": "code",
      "metadata": {
        "colab": {
          "base_uri": "https://localhost:8080/"
        },
        "id": "VOn8NK3IE45Q",
        "outputId": "59b70ca1-783d-4124-dd1f-23cb32b8c628"
      },
      "source": [
        "# use parameters from gridsearchCV above in new decision tree model\n",
        "reg_tree = gridsearch.best_estimator_\n",
        "\n",
        "print(\"Training acc:\", reg_tree.score(x_train_unstem, y_train_unstem), \"\\nTesting acc:\",\n",
        "      reg_tree.score(x_test_unstem, y_test_unstem))"
      ],
      "execution_count": null,
      "outputs": [
        {
          "output_type": "stream",
          "text": [
            "Training acc: 0.7110666666666666 \n",
            "Testing acc: 0.6484\n"
          ],
          "name": "stdout"
        }
      ]
    },
    {
      "cell_type": "code",
      "metadata": {
        "colab": {
          "base_uri": "https://localhost:8080/"
        },
        "id": "u-4pUsLhE__V",
        "outputId": "3e12fb9f-1290-40f1-9b7c-e8d553869bc7"
      },
      "source": [
        "# create decision tree model with manually searched parameters (best in class)\n",
        "reg_tree2 = tree.DecisionTreeClassifier(criterion = \"entropy\", max_depth = None, max_leaf_nodes = 125, min_samples_leaf = 2, min_samples_split = 60)\n",
        "reg_tree2.fit(x_train_unstem, y_train_unstem)\n",
        "\n",
        "# print model training and test accuracies\n",
        "print_results(reg_tree2, x_train_unstem, y_train_unstem, \"Training score: \")\n",
        "print_results(reg_tree2, x_test_unstem, y_test_unstem, \"Testing score: \")"
      ],
      "execution_count": null,
      "outputs": [
        {
          "output_type": "stream",
          "text": [
            "Training score:  0.7605333333333333\n",
            "Testing score:  0.6362666666666666\n"
          ],
          "name": "stdout"
        }
      ]
    },
    {
      "cell_type": "markdown",
      "metadata": {
        "id": "44O5mrTjFkOL"
      },
      "source": [
        "##### Improving Decision Tree Classifer Accuracy using Adaptive Boosting"
      ]
    },
    {
      "cell_type": "markdown",
      "metadata": {
        "id": "NSBbYQc5sh7I"
      },
      "source": [
        "###### Adaptive Boosting"
      ]
    },
    {
      "cell_type": "code",
      "metadata": {
        "colab": {
          "base_uri": "https://localhost:8080/"
        },
        "id": "RQ-_xu-UF-gW",
        "outputId": "42238a36-e329-4ee6-c09b-dfaac5606b76"
      },
      "source": [
        "# train an AdaBoost classifier using the tuned random forest model above as the base estimator\n",
        "boost_clf = AdaBoostClassifier(base_estimator=reg_tree2, n_estimators=100)\n",
        "boost_clf.fit(x_train_unstem, y_train_unstem)"
      ],
      "execution_count": null,
      "outputs": [
        {
          "output_type": "execute_result",
          "data": {
            "text/plain": [
              "AdaBoostClassifier(algorithm='SAMME.R',\n",
              "                   base_estimator=DecisionTreeClassifier(ccp_alpha=0.0,\n",
              "                                                         class_weight=None,\n",
              "                                                         criterion='entropy',\n",
              "                                                         max_depth=None,\n",
              "                                                         max_features=None,\n",
              "                                                         max_leaf_nodes=125,\n",
              "                                                         min_impurity_decrease=0.0,\n",
              "                                                         min_impurity_split=None,\n",
              "                                                         min_samples_leaf=2,\n",
              "                                                         min_samples_split=60,\n",
              "                                                         min_weight_fraction_leaf=0.0,\n",
              "                                                         presort='deprecated',\n",
              "                                                         random_state=None,\n",
              "                                                         splitter='best'),\n",
              "                   learning_rate=1.0, n_estimators=100, random_state=None)"
            ]
          },
          "metadata": {
            "tags": []
          },
          "execution_count": 69
        }
      ]
    },
    {
      "cell_type": "code",
      "metadata": {
        "colab": {
          "base_uri": "https://localhost:8080/"
        },
        "id": "jh5KPPvlF_he",
        "outputId": "82c4ae72-22fd-422a-bc63-40b6c5e62ece"
      },
      "source": [
        "print(\"Training acc:\", boost_clf.score(x_train_stem, y_train_stem), \"\\nTesting acc:\",\n",
        "      boost_clf.score(x_test_unstem, y_test_unstem))"
      ],
      "execution_count": null,
      "outputs": [
        {
          "output_type": "stream",
          "text": [
            "Training acc: 1.0 \n",
            "Testing acc: 0.7041333333333334\n"
          ],
          "name": "stdout"
        }
      ]
    },
    {
      "cell_type": "markdown",
      "metadata": {
        "id": "itFzJdpUL_bB"
      },
      "source": [
        "### Random Forest Classifier"
      ]
    },
    {
      "cell_type": "code",
      "metadata": {
        "colab": {
          "base_uri": "https://localhost:8080/"
        },
        "id": "ETkjE-e3MEUO",
        "outputId": "150624d4-89a7-4bde-f754-8085884cef90"
      },
      "source": [
        "rfc = RandomForestClassifier(criterion = 'entropy', n_estimators=100)\n",
        "rfc.fit(x_train_stem, y_train_stem)\n",
        "print(\"Training acc:\", rfc.score(x_train_stem, y_train_stem), \"\\nTesting acc:\",\n",
        "      rfc.score(x_test_stem, y_test_stem))"
      ],
      "execution_count": null,
      "outputs": [
        {
          "output_type": "stream",
          "text": [
            "Training acc: 1.0 \n",
            "Testing acc: 0.7144\n"
          ],
          "name": "stdout"
        }
      ]
    },
    {
      "cell_type": "markdown",
      "metadata": {
        "id": "ZihhxxfIvKQj"
      },
      "source": [
        "#### Stemmed"
      ]
    },
    {
      "cell_type": "markdown",
      "metadata": {
        "id": "0rJX7nffMkQQ"
      },
      "source": [
        "##### Changing Parameters"
      ]
    },
    {
      "cell_type": "code",
      "metadata": {
        "colab": {
          "base_uri": "https://localhost:8080/"
        },
        "id": "IjU5Zx-YMmoO",
        "outputId": "db44200c-2b36-4777-d7fb-e735da3697cf"
      },
      "source": [
        "parameters = {\"min_samples_split\": [2, 5, 10], \n",
        "              \"max_depth\": [None, 2, 5, 10], \n",
        "              \"min_samples_leaf\": [1, 5, 10], \n",
        "              \"max_leaf_nodes\": [None, 5, 10, 20], \n",
        "              }\n",
        "gridsearch2 = GridSearchCV(rfc, parameters) \n",
        "gridsearch2.fit(x_train_stem, y_train_stem)\n",
        "\n",
        "gridsearch2.best_params_"
      ],
      "execution_count": null,
      "outputs": [
        {
          "output_type": "execute_result",
          "data": {
            "text/plain": [
              "{'max_depth': None,\n",
              " 'max_leaf_nodes': None,\n",
              " 'min_samples_leaf': 5,\n",
              " 'min_samples_split': 2}"
            ]
          },
          "metadata": {
            "tags": []
          },
          "execution_count": 82
        }
      ]
    },
    {
      "cell_type": "code",
      "metadata": {
        "colab": {
          "base_uri": "https://localhost:8080/"
        },
        "id": "hqO8gidHMzhC",
        "outputId": "ea82b3a4-186c-4476-a5f1-099f6b1ed323"
      },
      "source": [
        "reg_forest = gridsearch2.best_estimator_\n",
        "reg_forest.fit(x_train_stem, y_train_stem)\n",
        "print(\"Training acc:\", reg_forest.score(x_train_stem, y_train_stem), \"\\nTesting acc:\",\n",
        "      reg_forest.score(x_test_stem, y_test_stem))"
      ],
      "execution_count": null,
      "outputs": [
        {
          "output_type": "stream",
          "text": [
            "Training acc: 0.9962666666666666 \n",
            "Testing acc: 0.7137333333333333\n"
          ],
          "name": "stdout"
        }
      ]
    },
    {
      "cell_type": "markdown",
      "metadata": {
        "id": "gyMqLrNJNrem"
      },
      "source": [
        "##### Improving Random Forest model accuracy using Adaptive Boost"
      ]
    },
    {
      "cell_type": "code",
      "metadata": {
        "colab": {
          "base_uri": "https://localhost:8080/"
        },
        "id": "r_fEyhyVNzla",
        "outputId": "648914a5-a045-4cdd-c38a-c6f331c09b37"
      },
      "source": [
        "boost_reg2 = AdaBoostClassifier(base_estimator=reg_forest)\n",
        "boost_reg2.fit(x_train_stem, y_train_stem)\n",
        "print(\"Training acc:\", boost_reg2.score(x_train_stem, y_train_stem), \"\\nTesting acc:\",\n",
        "      boost_reg2.score(x_test_stem, y_test_stem))"
      ],
      "execution_count": null,
      "outputs": [
        {
          "output_type": "stream",
          "text": [
            "Training acc: 1.0 \n",
            "Testing acc: 0.7286666666666667\n"
          ],
          "name": "stdout"
        }
      ]
    },
    {
      "cell_type": "markdown",
      "metadata": {
        "id": "KE1E00m8vLwW"
      },
      "source": [
        "#### Un-Stemmed"
      ]
    },
    {
      "cell_type": "markdown",
      "metadata": {
        "id": "pK516JKrOKGe"
      },
      "source": [
        "##### Changing Parameters"
      ]
    },
    {
      "cell_type": "code",
      "metadata": {
        "colab": {
          "base_uri": "https://localhost:8080/"
        },
        "id": "I21lG2-DOPtT",
        "outputId": "53b9d314-54ad-4719-cbc5-a64407321b63"
      },
      "source": [
        "parameters = {\"min_samples_split\": [2, 5, 10], \n",
        "              \"max_depth\": [None, 2, 5, 10], \n",
        "              \"min_samples_leaf\": [1, 5, 10], \n",
        "              \"max_leaf_nodes\": [None, 5, 10, 20], \n",
        "              }\n",
        "gridsearch2 = GridSearchCV(rfc, parameters) \n",
        "gridsearch2.fit(x_train_unstem, y_train_unstem)\n",
        "\n",
        "gridsearch2.best_params_"
      ],
      "execution_count": null,
      "outputs": [
        {
          "output_type": "execute_result",
          "data": {
            "text/plain": [
              "{'max_depth': None,\n",
              " 'max_leaf_nodes': None,\n",
              " 'min_samples_leaf': 10,\n",
              " 'min_samples_split': 10}"
            ]
          },
          "metadata": {
            "tags": []
          },
          "execution_count": 85
        }
      ]
    },
    {
      "cell_type": "code",
      "metadata": {
        "colab": {
          "base_uri": "https://localhost:8080/"
        },
        "id": "YkAbg11ZOV-A",
        "outputId": "710a71ca-aefe-4d80-f99d-027b324d8224"
      },
      "source": [
        "reg_forest = gridsearch2.best_estimator_\n",
        "reg_forest.fit(x_train_unstem, y_train_unstem)\n",
        "print(\"Training acc:\", reg_forest.score(x_train_unstem, y_train_unstem), \"\\nTesting acc:\",\n",
        "      reg_forest.score(x_test_unstem, y_test_unstem))"
      ],
      "execution_count": null,
      "outputs": [
        {
          "output_type": "stream",
          "text": [
            "Training acc: 0.948 \n",
            "Testing acc: 0.7152\n"
          ],
          "name": "stdout"
        }
      ]
    },
    {
      "cell_type": "markdown",
      "metadata": {
        "id": "DfsTvSEJOczu"
      },
      "source": [
        "##### Improving Random Forest model accuracy using Adaptive Boost"
      ]
    },
    {
      "cell_type": "code",
      "metadata": {
        "colab": {
          "base_uri": "https://localhost:8080/"
        },
        "id": "RbbOIy1AOhVy",
        "outputId": "32014ea7-16a6-482f-e4d1-3e33629613d2"
      },
      "source": [
        "boost_reg2 = AdaBoostClassifier(base_estimator=reg_forest)\n",
        "boost_reg2.fit(x_train_unstem, y_train_unstem)\n",
        "print(\"Training acc:\", boost_reg2.score(x_train_unstem, y_train_unstem), \"\\nTesting acc:\",\n",
        "      boost_reg2.score(x_test_unstem, y_test_unstem))"
      ],
      "execution_count": null,
      "outputs": [
        {
          "output_type": "stream",
          "text": [
            "Training acc: 0.9997333333333334 \n",
            "Testing acc: 0.7321333333333333\n"
          ],
          "name": "stdout"
        }
      ]
    },
    {
      "cell_type": "markdown",
      "metadata": {
        "id": "ftjsL2lyu0LG"
      },
      "source": [
        "## Dimension = 300"
      ]
    },
    {
      "cell_type": "code",
      "metadata": {
        "id": "Cm6uljUOu5xt"
      },
      "source": [
        "data_train_stem_w2v = pd.read_csv(\"/content/drive/MyDrive/TA/w2v/data_train_stem_w2v_300.csv\",index_col=0)\n",
        "data_test_stem_w2v = pd.read_csv(\"/content/drive/MyDrive/TA/w2v/data_test_stem_w2v_300.csv\",index_col=0)\n",
        "\n",
        "data_train_unstem_w2v = pd.read_csv(\"/content/drive/MyDrive/TA/w2v/data_train_unstem_w2v_300.csv\",index_col=0)\n",
        "data_test_unstem_w2v = pd.read_csv(\"/content/drive/MyDrive/TA/w2v/data_test_unstem_w2v_300.csv\",index_col=0)"
      ],
      "execution_count": null,
      "outputs": []
    },
    {
      "cell_type": "code",
      "metadata": {
        "id": "pfkeuRxsu_gj"
      },
      "source": [
        "x_train_stem = data_train_stem_w2v.drop(['label'],axis=1)\n",
        "x_test_stem = data_test_stem_w2v.drop(['label'],axis=1)\n",
        "y_train_stem = data_train_stem_w2v[['label']]\n",
        "y_test_stem = data_test_stem_w2v[['label']]"
      ],
      "execution_count": null,
      "outputs": []
    },
    {
      "cell_type": "code",
      "metadata": {
        "id": "EdvWj7_PvBer"
      },
      "source": [
        "x_train_unstem = data_train_unstem_w2v.drop(['label'],axis=1)\n",
        "x_test_unstem = data_test_unstem_w2v.drop(['label'],axis=1)\n",
        "y_train_unstem = data_train_unstem_w2v[['label']]\n",
        "y_test_unstem = data_test_unstem_w2v[['label']]"
      ],
      "execution_count": null,
      "outputs": []
    },
    {
      "cell_type": "markdown",
      "metadata": {
        "id": "q4jG_SrpvJHv"
      },
      "source": [
        "### Single Decision Tree"
      ]
    },
    {
      "cell_type": "code",
      "metadata": {
        "colab": {
          "base_uri": "https://localhost:8080/"
        },
        "id": "NsqIOxMqvKTb",
        "outputId": "e3194ba1-8334-44b1-c57b-d06e32b18b34"
      },
      "source": [
        "print(\"STEMMED\")\n",
        "print()\n",
        "dt_clf = tree.DecisionTreeClassifier(criterion='entropy')\n",
        "dt_clf.fit(x_train_stem, y_train_stem)\n",
        "print(\"Training acc:\", dt_clf.score(x_train_stem, y_train_stem), \"\\nTesting acc:\", dt_clf.score(x_test_stem, y_test_stem))\n",
        "print()\n",
        "\n",
        "print(\"UN-STEMMED\")\n",
        "print()\n",
        "dt_clf = tree.DecisionTreeClassifier(criterion='entropy')\n",
        "dt_clf.fit(x_train_unstem, y_train_unstem)\n",
        "print(\"Training acc:\", dt_clf.score(x_train_unstem, y_train_unstem), \"\\nTesting acc:\", dt_clf.score(x_test_unstem, y_test_unstem))\n",
        "print()"
      ],
      "execution_count": null,
      "outputs": [
        {
          "output_type": "stream",
          "text": [
            "STEMMED\n",
            "\n",
            "Training acc: 1.0 \n",
            "Testing acc: 0.6058666666666667\n",
            "\n",
            "UN-STEMMED\n",
            "\n",
            "Training acc: 1.0 \n",
            "Testing acc: 0.6144\n",
            "\n"
          ],
          "name": "stdout"
        }
      ]
    },
    {
      "cell_type": "markdown",
      "metadata": {
        "id": "VCzuvFfFve4w"
      },
      "source": [
        "#### Stemmed"
      ]
    },
    {
      "cell_type": "markdown",
      "metadata": {
        "id": "vJ9wvWqAvW1z"
      },
      "source": [
        "##### Changing Parameters"
      ]
    },
    {
      "cell_type": "code",
      "metadata": {
        "colab": {
          "base_uri": "https://localhost:8080/"
        },
        "id": "SFxAMjNIvX0w",
        "outputId": "b04e9346-acc2-4d63-e5cb-40628ea19acd"
      },
      "source": [
        "parameters = {\"max_depth\": [None, 10, 100, 1000, 10000],\n",
        "              \"min_samples_split\": [5, 10, 50, 100, 500, 1000],\n",
        "              \"min_samples_leaf\": [10, 100, 1000, 10000],\n",
        "              \"max_leaf_nodes\": [None, 10, 100, 1000, 10000],\n",
        "              }\n",
        "gridsearch = GridSearchCV(dt_clf, parameters)\n",
        "gridsearch.fit(x_train_stem, y_train_stem)"
      ],
      "execution_count": null,
      "outputs": [
        {
          "output_type": "execute_result",
          "data": {
            "text/plain": [
              "GridSearchCV(cv=None, error_score=nan,\n",
              "             estimator=DecisionTreeClassifier(ccp_alpha=0.0, class_weight=None,\n",
              "                                              criterion='entropy',\n",
              "                                              max_depth=None, max_features=None,\n",
              "                                              max_leaf_nodes=None,\n",
              "                                              min_impurity_decrease=0.0,\n",
              "                                              min_impurity_split=None,\n",
              "                                              min_samples_leaf=1,\n",
              "                                              min_samples_split=2,\n",
              "                                              min_weight_fraction_leaf=0.0,\n",
              "                                              presort='deprecated',\n",
              "                                              random_state=None,\n",
              "                                              splitter='best'),\n",
              "             iid='deprecated', n_jobs=None,\n",
              "             param_grid={'max_depth': [None, 10, 100, 1000, 10000],\n",
              "                         'max_leaf_nodes': [None, 10, 100, 1000, 10000],\n",
              "                         'min_samples_leaf': [10, 100, 1000, 10000],\n",
              "                         'min_samples_split': [5, 10, 50, 100, 500, 1000]},\n",
              "             pre_dispatch='2*n_jobs', refit=True, return_train_score=False,\n",
              "             scoring=None, verbose=0)"
            ]
          },
          "metadata": {
            "tags": []
          },
          "execution_count": 92
        }
      ]
    },
    {
      "cell_type": "code",
      "metadata": {
        "colab": {
          "base_uri": "https://localhost:8080/"
        },
        "id": "LUoA_ZS3E-hv",
        "outputId": "276e0341-17c8-4050-cf8e-d55f48c95a5c"
      },
      "source": [
        "# show the best parameters of the gridsearchCV regularized decision tree\n",
        "gridsearch.best_params_"
      ],
      "execution_count": null,
      "outputs": [
        {
          "output_type": "execute_result",
          "data": {
            "text/plain": [
              "{'max_depth': None,\n",
              " 'max_leaf_nodes': None,\n",
              " 'min_samples_leaf': 10,\n",
              " 'min_samples_split': 500}"
            ]
          },
          "metadata": {
            "tags": []
          },
          "execution_count": 93
        }
      ]
    },
    {
      "cell_type": "code",
      "metadata": {
        "colab": {
          "base_uri": "https://localhost:8080/"
        },
        "id": "bFjc4QJnFCip",
        "outputId": "8990e135-eb59-4871-957a-27b856bdb9b5"
      },
      "source": [
        "# use parameters from gridsearchCV above in new decision tree model\n",
        "reg_tree = gridsearch.best_estimator_\n",
        "\n",
        "print(\"Training acc:\", reg_tree.score(x_train_stem, y_train_stem), \"\\nTesting acc:\",\n",
        "      reg_tree.score(x_test_stem, y_test_stem))"
      ],
      "execution_count": null,
      "outputs": [
        {
          "output_type": "stream",
          "text": [
            "Training acc: 0.6925333333333333 \n",
            "Testing acc: 0.6481333333333333\n"
          ],
          "name": "stdout"
        }
      ]
    },
    {
      "cell_type": "code",
      "metadata": {
        "id": "QXLBxsGPFH02"
      },
      "source": [
        "def print_results(estimator, X, y, leadingString=''):\n",
        "    print(leadingString, estimator.score(X, y))"
      ],
      "execution_count": null,
      "outputs": []
    },
    {
      "cell_type": "code",
      "metadata": {
        "colab": {
          "base_uri": "https://localhost:8080/"
        },
        "id": "NlsUeliyFKcJ",
        "outputId": "ccc94b71-63b8-47de-eb22-2daf58057a5d"
      },
      "source": [
        "# create decision tree model with manually searched parameters (best in class)\n",
        "reg_tree2 = tree.DecisionTreeClassifier(criterion = \"entropy\", max_depth = None, max_leaf_nodes = 125, min_samples_leaf = 2, min_samples_split = 60)\n",
        "reg_tree2.fit(x_train_stem, y_train_stem)\n",
        "\n",
        "# print model training and test accuracies\n",
        "print_results(reg_tree2, x_train_stem, y_train_stem, \"Training score: \")\n",
        "print_results(reg_tree2, x_test_stem, y_test_stem, \"Testing score: \")"
      ],
      "execution_count": null,
      "outputs": [
        {
          "output_type": "stream",
          "text": [
            "Training score:  0.7766666666666666\n",
            "Testing score:  0.6374666666666666\n"
          ],
          "name": "stdout"
        }
      ]
    },
    {
      "cell_type": "markdown",
      "metadata": {
        "id": "49U1M87lFkvu"
      },
      "source": [
        "##### Improving Decision Tree Classifer Accuracy using Adaptive Boosting"
      ]
    },
    {
      "cell_type": "code",
      "metadata": {
        "colab": {
          "base_uri": "https://localhost:8080/"
        },
        "id": "limLa8mRFnyZ",
        "outputId": "9835c5e3-e7ad-4922-d911-13c7d45de794"
      },
      "source": [
        "# train an AdaBoost classifier using the tuned random forest model above as the base estimator\n",
        "boost_clf = AdaBoostClassifier(base_estimator=reg_tree2, n_estimators=100)\n",
        "boost_clf.fit(x_train_stem, y_train_stem)"
      ],
      "execution_count": null,
      "outputs": [
        {
          "output_type": "execute_result",
          "data": {
            "text/plain": [
              "AdaBoostClassifier(algorithm='SAMME.R',\n",
              "                   base_estimator=DecisionTreeClassifier(ccp_alpha=0.0,\n",
              "                                                         class_weight=None,\n",
              "                                                         criterion='entropy',\n",
              "                                                         max_depth=None,\n",
              "                                                         max_features=None,\n",
              "                                                         max_leaf_nodes=125,\n",
              "                                                         min_impurity_decrease=0.0,\n",
              "                                                         min_impurity_split=None,\n",
              "                                                         min_samples_leaf=2,\n",
              "                                                         min_samples_split=60,\n",
              "                                                         min_weight_fraction_leaf=0.0,\n",
              "                                                         presort='deprecated',\n",
              "                                                         random_state=None,\n",
              "                                                         splitter='best'),\n",
              "                   learning_rate=1.0, n_estimators=100, random_state=None)"
            ]
          },
          "metadata": {
            "tags": []
          },
          "execution_count": 97
        }
      ]
    },
    {
      "cell_type": "code",
      "metadata": {
        "colab": {
          "base_uri": "https://localhost:8080/"
        },
        "id": "KHY1KnpKFp1y",
        "outputId": "3f23ef3e-be4a-473e-9f8f-f9bd0c34158c"
      },
      "source": [
        "print(\"Training acc:\", boost_clf.score(x_train_stem, y_train_stem), \"\\nTesting acc:\",\n",
        "      boost_clf.score(x_test_stem, y_test_stem))"
      ],
      "execution_count": null,
      "outputs": [
        {
          "output_type": "stream",
          "text": [
            "Training acc: 1.0 \n",
            "Testing acc: 0.7293333333333333\n"
          ],
          "name": "stdout"
        }
      ]
    },
    {
      "cell_type": "markdown",
      "metadata": {
        "id": "WfAV3zXzvcuB"
      },
      "source": [
        "#### Un-Stemmed"
      ]
    },
    {
      "cell_type": "markdown",
      "metadata": {
        "id": "blsbcAy3FPfQ"
      },
      "source": [
        "##### Changing Parameters"
      ]
    },
    {
      "cell_type": "code",
      "metadata": {
        "colab": {
          "base_uri": "https://localhost:8080/"
        },
        "id": "EuvhPmUTFR-N",
        "outputId": "3db1fc26-b8b5-4045-e172-1eaf0278d679"
      },
      "source": [
        "parameters = {\"max_depth\": [None, 10, 100, 1000, 10000],\n",
        "              \"min_samples_split\": [5, 10, 50, 100, 500, 1000],\n",
        "              \"min_samples_leaf\": [10, 100, 1000, 10000],\n",
        "              \"max_leaf_nodes\": [None, 10, 100, 1000, 10000],\n",
        "              }\n",
        "gridsearch = GridSearchCV(dt_clf, parameters)\n",
        "gridsearch.fit(x_train_unstem, y_train_unstem)"
      ],
      "execution_count": null,
      "outputs": [
        {
          "output_type": "execute_result",
          "data": {
            "text/plain": [
              "GridSearchCV(cv=None, error_score=nan,\n",
              "             estimator=DecisionTreeClassifier(ccp_alpha=0.0, class_weight=None,\n",
              "                                              criterion='entropy',\n",
              "                                              max_depth=None, max_features=None,\n",
              "                                              max_leaf_nodes=None,\n",
              "                                              min_impurity_decrease=0.0,\n",
              "                                              min_impurity_split=None,\n",
              "                                              min_samples_leaf=1,\n",
              "                                              min_samples_split=2,\n",
              "                                              min_weight_fraction_leaf=0.0,\n",
              "                                              presort='deprecated',\n",
              "                                              random_state=None,\n",
              "                                              splitter='best'),\n",
              "             iid='deprecated', n_jobs=None,\n",
              "             param_grid={'max_depth': [None, 10, 100, 1000, 10000],\n",
              "                         'max_leaf_nodes': [None, 10, 100, 1000, 10000],\n",
              "                         'min_samples_leaf': [10, 100, 1000, 10000],\n",
              "                         'min_samples_split': [5, 10, 50, 100, 500, 1000]},\n",
              "             pre_dispatch='2*n_jobs', refit=True, return_train_score=False,\n",
              "             scoring=None, verbose=0)"
            ]
          },
          "metadata": {
            "tags": []
          },
          "execution_count": 99
        }
      ]
    },
    {
      "cell_type": "code",
      "metadata": {
        "colab": {
          "base_uri": "https://localhost:8080/"
        },
        "id": "AedrOWoHFYO2",
        "outputId": "bcee70ba-caa4-455a-b228-b1d467b3def3"
      },
      "source": [
        "# show the best parameters of the gridsearchCV regularized decision tree\n",
        "gridsearch.best_params_"
      ],
      "execution_count": null,
      "outputs": [
        {
          "output_type": "execute_result",
          "data": {
            "text/plain": [
              "{'max_depth': None,\n",
              " 'max_leaf_nodes': None,\n",
              " 'min_samples_leaf': 10,\n",
              " 'min_samples_split': 500}"
            ]
          },
          "metadata": {
            "tags": []
          },
          "execution_count": 100
        }
      ]
    },
    {
      "cell_type": "code",
      "metadata": {
        "colab": {
          "base_uri": "https://localhost:8080/"
        },
        "id": "yK3fXYE2FdZP",
        "outputId": "4de72823-3e10-4c7c-f153-63537ed00891"
      },
      "source": [
        "# use parameters from gridsearchCV above in new decision tree model\n",
        "reg_tree = gridsearch.best_estimator_\n",
        "\n",
        "print(\"Training acc:\", reg_tree.score(x_train_unstem, y_train_unstem), \"\\nTesting acc:\",\n",
        "      reg_tree.score(x_test_unstem, y_test_unstem))"
      ],
      "execution_count": null,
      "outputs": [
        {
          "output_type": "stream",
          "text": [
            "Training acc: 0.6925333333333333 \n",
            "Testing acc: 0.6481333333333333\n"
          ],
          "name": "stdout"
        }
      ]
    },
    {
      "cell_type": "code",
      "metadata": {
        "colab": {
          "base_uri": "https://localhost:8080/"
        },
        "id": "EHVxFkbqFgKQ",
        "outputId": "c7f98f72-b2e1-4d38-874e-8bf8423e843c"
      },
      "source": [
        "# create decision tree model with manually searched parameters (best in class)\n",
        "reg_tree2 = tree.DecisionTreeClassifier(criterion = \"entropy\", max_depth = None, max_leaf_nodes = 125, min_samples_leaf = 2, min_samples_split = 60)\n",
        "reg_tree2.fit(x_train_unstem, y_train_unstem)\n",
        "\n",
        "# print model training and test accuracies\n",
        "print_results(reg_tree2, x_train_unstem, y_train_unstem, \"Training score: \")\n",
        "print_results(reg_tree2, x_test_unstem, y_test_unstem, \"Testing score: \")"
      ],
      "execution_count": null,
      "outputs": [
        {
          "output_type": "stream",
          "text": [
            "Training score:  0.7765333333333333\n",
            "Testing score:  0.6377333333333334\n"
          ],
          "name": "stdout"
        }
      ]
    },
    {
      "cell_type": "markdown",
      "metadata": {
        "id": "3WdO0sC-FsOL"
      },
      "source": [
        "##### Improving Decision Tree Classifer Accuracy using Adaptive Boosting"
      ]
    },
    {
      "cell_type": "code",
      "metadata": {
        "colab": {
          "base_uri": "https://localhost:8080/"
        },
        "id": "WBu-N4T4FtM1",
        "outputId": "faf91613-6ec1-457e-d42c-753fcfe05c7c"
      },
      "source": [
        "# train an AdaBoost classifier using the tuned random forest model above as the base estimator\n",
        "boost_clf = AdaBoostClassifier(base_estimator=reg_tree2, n_estimators=100)\n",
        "boost_clf.fit(x_train_unstem, y_train_unstem)"
      ],
      "execution_count": null,
      "outputs": [
        {
          "output_type": "execute_result",
          "data": {
            "text/plain": [
              "AdaBoostClassifier(algorithm='SAMME.R',\n",
              "                   base_estimator=DecisionTreeClassifier(ccp_alpha=0.0,\n",
              "                                                         class_weight=None,\n",
              "                                                         criterion='entropy',\n",
              "                                                         max_depth=None,\n",
              "                                                         max_features=None,\n",
              "                                                         max_leaf_nodes=125,\n",
              "                                                         min_impurity_decrease=0.0,\n",
              "                                                         min_impurity_split=None,\n",
              "                                                         min_samples_leaf=2,\n",
              "                                                         min_samples_split=60,\n",
              "                                                         min_weight_fraction_leaf=0.0,\n",
              "                                                         presort='deprecated',\n",
              "                                                         random_state=None,\n",
              "                                                         splitter='best'),\n",
              "                   learning_rate=1.0, n_estimators=100, random_state=None)"
            ]
          },
          "metadata": {
            "tags": []
          },
          "execution_count": 103
        }
      ]
    },
    {
      "cell_type": "code",
      "metadata": {
        "colab": {
          "base_uri": "https://localhost:8080/"
        },
        "id": "4S_yHjIlFviB",
        "outputId": "1eb11d3b-9348-4cfd-ff0e-b027abcd9892"
      },
      "source": [
        "print(\"Training acc:\", boost_clf.score(x_train_stem, y_train_stem), \"\\nTesting acc:\",\n",
        "      boost_clf.score(x_test_unstem, y_test_unstem))"
      ],
      "execution_count": null,
      "outputs": [
        {
          "output_type": "stream",
          "text": [
            "Training acc: 1.0 \n",
            "Testing acc: 0.7294666666666667\n"
          ],
          "name": "stdout"
        }
      ]
    },
    {
      "cell_type": "markdown",
      "metadata": {
        "id": "60i9TU2lEp3x"
      },
      "source": [
        "### Random Forest Classifier"
      ]
    },
    {
      "cell_type": "code",
      "metadata": {
        "colab": {
          "base_uri": "https://localhost:8080/"
        },
        "id": "3AdOnLCmEsrt",
        "outputId": "19a8a8e5-9a61-4730-a891-9e4eaf980a81"
      },
      "source": [
        "rfc = RandomForestClassifier(criterion = 'entropy', n_estimators=100)\n",
        "rfc.fit(x_train_stem, y_train_stem)\n",
        "print(\"Training acc:\", rfc.score(x_train_stem, y_train_stem), \"\\nTesting acc:\",\n",
        "      rfc.score(x_test_stem, y_test_stem))"
      ],
      "execution_count": null,
      "outputs": [
        {
          "output_type": "stream",
          "text": [
            "Training acc: 1.0 \n",
            "Testing acc: 0.7313333333333333\n"
          ],
          "name": "stdout"
        }
      ]
    },
    {
      "cell_type": "markdown",
      "metadata": {
        "id": "D8m8GOkbvx9K"
      },
      "source": [
        "#### Stemmed"
      ]
    },
    {
      "cell_type": "markdown",
      "metadata": {
        "id": "fibp448FE0_3"
      },
      "source": [
        "##### Changing Parameters"
      ]
    },
    {
      "cell_type": "code",
      "metadata": {
        "colab": {
          "base_uri": "https://localhost:8080/"
        },
        "id": "cteCkvzdEv-b",
        "outputId": "5dee4413-8663-4848-ce81-192a67b24d31"
      },
      "source": [
        "parameters = {\"min_samples_split\": [2, 5, 10], \n",
        "              \"max_depth\": [None, 2, 5, 10], \n",
        "              \"min_samples_leaf\": [1, 5, 10], \n",
        "              \"max_leaf_nodes\": [None, 5, 10, 20], \n",
        "              }\n",
        "gridsearch2 = GridSearchCV(rfc, parameters) \n",
        "gridsearch2.fit(x_train_stem, y_train_stem)\n",
        "\n",
        "gridsearch2.best_params_"
      ],
      "execution_count": null,
      "outputs": [
        {
          "output_type": "execute_result",
          "data": {
            "text/plain": [
              "{'max_depth': 10,\n",
              " 'max_leaf_nodes': None,\n",
              " 'min_samples_leaf': 5,\n",
              " 'min_samples_split': 2}"
            ]
          },
          "metadata": {
            "tags": []
          },
          "execution_count": 111
        }
      ]
    },
    {
      "cell_type": "code",
      "metadata": {
        "colab": {
          "base_uri": "https://localhost:8080/"
        },
        "id": "xmElv1k1ve74",
        "outputId": "3f646d1d-9366-4d20-aeec-9a5f65c8b5f6"
      },
      "source": [
        "reg_forest = gridsearch2.best_estimator_\n",
        "reg_forest.fit(x_train_stem, y_train_stem)\n",
        "print(\"Training acc:\", reg_forest.score(x_train_stem, y_train_stem), \"\\nTesting acc:\",\n",
        "      reg_forest.score(x_test_stem, y_test_stem))"
      ],
      "execution_count": null,
      "outputs": [
        {
          "output_type": "stream",
          "text": [
            "Training acc: 0.9590666666666666 \n",
            "Testing acc: 0.726\n"
          ],
          "name": "stdout"
        }
      ]
    },
    {
      "cell_type": "markdown",
      "metadata": {
        "id": "wzFtqAA8-ifq"
      },
      "source": [
        "##### Improving Random Forest model accuracy using Adaptive Boost"
      ]
    },
    {
      "cell_type": "code",
      "metadata": {
        "colab": {
          "base_uri": "https://localhost:8080/"
        },
        "id": "4RUKtfqr-jhb",
        "outputId": "d100b5b2-ffeb-492e-c480-204a3726a9ba"
      },
      "source": [
        "boost_reg2 = AdaBoostClassifier(base_estimator=reg_forest)\n",
        "boost_reg2.fit(x_train_stem, y_train_stem)\n",
        "print(\"Training acc:\", boost_reg2.score(x_train_stem, y_train_stem), \"\\nTesting acc:\",\n",
        "      boost_reg2.score(x_test_stem, y_test_stem))"
      ],
      "execution_count": null,
      "outputs": [
        {
          "output_type": "stream",
          "text": [
            "Training acc: 0.9998666666666667 \n",
            "Testing acc: 0.7617333333333334\n"
          ],
          "name": "stdout"
        }
      ]
    },
    {
      "cell_type": "markdown",
      "metadata": {
        "id": "0yh_hqhkv0SX"
      },
      "source": [
        "#### Un-Stemmed"
      ]
    },
    {
      "cell_type": "markdown",
      "metadata": {
        "id": "YkyZJ82H-AXP"
      },
      "source": [
        "##### Changing Parameters"
      ]
    },
    {
      "cell_type": "code",
      "metadata": {
        "colab": {
          "background_save": true
        },
        "id": "ne1epF2C-CX-",
        "outputId": "6ad154d1-8bc5-4a36-8667-41e8a4e3f698"
      },
      "source": [
        "parameters = {\"min_samples_split\": [2, 5, 10], \n",
        "              \"max_depth\": [None, 2, 5, 10], \n",
        "              \"min_samples_leaf\": [1, 5, 10], \n",
        "              \"max_leaf_nodes\": [None, 5, 10, 20], \n",
        "              }\n",
        "gridsearch2 = GridSearchCV(rfc, parameters) \n",
        "gridsearch2.fit(x_train_unstem, y_train_unstem)\n",
        "\n",
        "gridsearch2.best_params_"
      ],
      "execution_count": null,
      "outputs": [
        {
          "output_type": "execute_result",
          "data": {
            "text/plain": [
              "{'max_depth': None,\n",
              " 'max_leaf_nodes': None,\n",
              " 'min_samples_leaf': 10,\n",
              " 'min_samples_split': 5}"
            ]
          },
          "metadata": {
            "tags": []
          },
          "execution_count": 0
        }
      ]
    },
    {
      "cell_type": "code",
      "metadata": {
        "colab": {
          "background_save": true
        },
        "id": "PWm4OHej-HdQ",
        "outputId": "07e5f982-42d8-4adc-b4dd-f94813877563"
      },
      "source": [
        "reg_forest = gridsearch2.best_estimator_\n",
        "reg_forest.fit(x_train_unstem, y_train_unstem)\n",
        "print(\"Training acc:\", reg_forest.score(x_train_unstem, y_train_unstem), \"\\nTesting acc:\",\n",
        "      reg_forest.score(x_test_unstem, y_test_unstem))"
      ],
      "execution_count": null,
      "outputs": [
        {
          "output_type": "stream",
          "text": [
            "Training acc: 0.9729333333333333 \n",
            "Testing acc: 0.7378666666666667\n"
          ],
          "name": "stdout"
        }
      ]
    },
    {
      "cell_type": "markdown",
      "metadata": {
        "id": "JTCTMcW5-yKR"
      },
      "source": [
        "##### Improving Random Forest model accuracy using Adaptive Boost"
      ]
    },
    {
      "cell_type": "code",
      "metadata": {
        "colab": {
          "background_save": true
        },
        "id": "Td_O0Vzg-0et",
        "outputId": "c7daec2f-c539-4bb9-c7b8-3f956aad4dd3"
      },
      "source": [
        "boost_reg2 = AdaBoostClassifier(base_estimator=reg_forest)\n",
        "boost_reg2.fit(x_train_unstem, y_train_unstem)\n",
        "print(\"Training acc:\", boost_reg2.score(x_train_unstem, y_train_unstem), \"\\nTesting acc:\",\n",
        "      boost_reg2.score(x_test_unstem, y_test_unstem))"
      ],
      "execution_count": null,
      "outputs": [
        {
          "output_type": "stream",
          "text": [
            "Training acc: 0.9998666666666667 \n",
            "Testing acc: 0.7510666666666667\n"
          ],
          "name": "stdout"
        }
      ]
    }
  ]
}