{
  "nbformat": 4,
  "nbformat_minor": 0,
  "metadata": {
    "colab": {
      "name": "kerjain TA anj",
      "provenance": [],
      "collapsed_sections": [],
      "authorship_tag": "ABX9TyO6kJjURdzFS2mUS3RAleAt",
      "include_colab_link": true
    },
    "kernelspec": {
      "name": "python3",
      "display_name": "Python 3"
    }
  },
  "cells": [
    {
      "cell_type": "markdown",
      "metadata": {
        "id": "view-in-github",
        "colab_type": "text"
      },
      "source": [
        "<a href=\"https://colab.research.google.com/github/adnajihad/sentiment_analysis-moviereview/blob/main/kerjain_TA_anj.ipynb\" target=\"_parent\"><img src=\"https://colab.research.google.com/assets/colab-badge.svg\" alt=\"Open In Colab\"/></a>"
      ]
    },
    {
      "cell_type": "code",
      "metadata": {
        "id": "pjRND97tIPJm",
        "colab": {
          "base_uri": "https://localhost:8080/"
        },
        "outputId": "4e84696e-719d-49d2-df08-bc077fd48755"
      },
      "source": [
        "!git clone https://github.com/adnajihad/sentiment_analysis-moviereview"
      ],
      "execution_count": 1,
      "outputs": [
        {
          "output_type": "stream",
          "text": [
            "Cloning into 'sentiment_analysis-moviereview'...\n",
            "remote: Enumerating objects: 5, done.\u001b[K\n",
            "remote: Counting objects: 100% (5/5), done.\u001b[K\n",
            "remote: Compressing objects: 100% (5/5), done.\u001b[K\n",
            "remote: Total 5 (delta 0), reused 0 (delta 0), pack-reused 0\u001b[K\n",
            "Unpacking objects: 100% (5/5), done.\n"
          ],
          "name": "stdout"
        }
      ]
    },
    {
      "cell_type": "code",
      "metadata": {
        "id": "9F2HHlKzAwWd",
        "colab": {
          "base_uri": "https://localhost:8080/"
        },
        "outputId": "da8d8704-5958-4166-ef36-599c23edf3a6"
      },
      "source": [
        "import pandas as pd\n",
        "pd.set_option('display.max_colwidth', -1)"
      ],
      "execution_count": 2,
      "outputs": [
        {
          "output_type": "stream",
          "text": [
            "/usr/local/lib/python3.7/dist-packages/ipykernel_launcher.py:2: FutureWarning: Passing a negative integer is deprecated in version 1.0 and will not be supported in future version. Instead, use None to not limit the column width.\n",
            "  \n"
          ],
          "name": "stderr"
        }
      ]
    },
    {
      "cell_type": "code",
      "metadata": {
        "id": "6zI8Yv4G_h_0",
        "colab": {
          "base_uri": "https://localhost:8080/",
          "height": 207
        },
        "outputId": "c50bc0b2-0b16-4de0-908a-d85e4bcb57ec"
      },
      "source": [
        "data = pd.read_csv('/content/sentiment_analysis-moviereview/valid.csv')\n",
        "data.head(3)"
      ],
      "execution_count": 3,
      "outputs": [
        {
          "output_type": "execute_result",
          "data": {
            "text/html": [
              "<div>\n",
              "<style scoped>\n",
              "    .dataframe tbody tr th:only-of-type {\n",
              "        vertical-align: middle;\n",
              "    }\n",
              "\n",
              "    .dataframe tbody tr th {\n",
              "        vertical-align: top;\n",
              "    }\n",
              "\n",
              "    .dataframe thead th {\n",
              "        text-align: right;\n",
              "    }\n",
              "</style>\n",
              "<table border=\"1\" class=\"dataframe\">\n",
              "  <thead>\n",
              "    <tr style=\"text-align: right;\">\n",
              "      <th></th>\n",
              "      <th>review</th>\n",
              "      <th>label</th>\n",
              "    </tr>\n",
              "  </thead>\n",
              "  <tbody>\n",
              "    <tr>\n",
              "      <th>0</th>\n",
              "      <td>Encouraged by the positive comments about this film on here I was looking forward to watching this film. Bad mistake. I've seen 950+ films and this is truly one of the worst of them - it's awful in almost every way: editing, pacing, storyline, 'acting,' soundtrack (the film's only song - a lame country tune - is played no less than four times). The film looks cheap and nasty and is boring in the extreme. Rarely have I been so happy to see the end credits of a film. &lt;br /&gt;&lt;br /&gt;The only thing that prevents me giving this a 1-score is Harvey Keitel - while this is far from his best performance he at least seems to be making a bit of an effort. One for Keitel obsessives only.</td>\n",
              "      <td>0</td>\n",
              "    </tr>\n",
              "    <tr>\n",
              "      <th>1</th>\n",
              "      <td>If you like original gut wrenching laughter you will like this movie. If you are young or old then you will love this movie, hell even my mom liked it.&lt;br /&gt;&lt;br /&gt;Great Camp!!!</td>\n",
              "      <td>1</td>\n",
              "    </tr>\n",
              "    <tr>\n",
              "      <th>2</th>\n",
              "      <td>Phil the Alien is one of those quirky films where the humour is based around the oddness of everything rather than actual punchlines.&lt;br /&gt;&lt;br /&gt;At first it was very odd and pretty funny but as the movie progressed I didn't find the jokes or oddness funny anymore.&lt;br /&gt;&lt;br /&gt;Its a low budget film (thats never a problem in itself), there were some pretty interesting characters, but eventually I just lost interest.&lt;br /&gt;&lt;br /&gt;I imagine this film would appeal to a stoner who is currently partaking.&lt;br /&gt;&lt;br /&gt;For something similar but better try \"Brother from another planet\"</td>\n",
              "      <td>0</td>\n",
              "    </tr>\n",
              "  </tbody>\n",
              "</table>\n",
              "</div>"
            ],
            "text/plain": [
              "                                                                                                                                                                                                                                                                                                                                                                                                                                                                                                                                                                                                                                                                                                      review  label\n",
              "0  Encouraged by the positive comments about this film on here I was looking forward to watching this film. Bad mistake. I've seen 950+ films and this is truly one of the worst of them - it's awful in almost every way: editing, pacing, storyline, 'acting,' soundtrack (the film's only song - a lame country tune - is played no less than four times). The film looks cheap and nasty and is boring in the extreme. Rarely have I been so happy to see the end credits of a film. <br /><br />The only thing that prevents me giving this a 1-score is Harvey Keitel - while this is far from his best performance he at least seems to be making a bit of an effort. One for Keitel obsessives only.  0    \n",
              "1  If you like original gut wrenching laughter you will like this movie. If you are young or old then you will love this movie, hell even my mom liked it.<br /><br />Great Camp!!!                                                                                                                                                                                                                                                                                                                                                                                                                                                                                                                           1    \n",
              "2  Phil the Alien is one of those quirky films where the humour is based around the oddness of everything rather than actual punchlines.<br /><br />At first it was very odd and pretty funny but as the movie progressed I didn't find the jokes or oddness funny anymore.<br /><br />Its a low budget film (thats never a problem in itself), there were some pretty interesting characters, but eventually I just lost interest.<br /><br />I imagine this film would appeal to a stoner who is currently partaking.<br /><br />For something similar but better try \"Brother from another planet\"                                                                                                         0    "
            ]
          },
          "metadata": {
            "tags": []
          },
          "execution_count": 3
        }
      ]
    },
    {
      "cell_type": "code",
      "metadata": {
        "id": "x9zMkDQkI2Y3",
        "colab": {
          "base_uri": "https://localhost:8080/"
        },
        "outputId": "0df28135-88bf-4402-c41c-24a96d1fdc96"
      },
      "source": [
        "data.info()"
      ],
      "execution_count": 4,
      "outputs": [
        {
          "output_type": "stream",
          "text": [
            "<class 'pandas.core.frame.DataFrame'>\n",
            "RangeIndex: 7000 entries, 0 to 6999\n",
            "Data columns (total 2 columns):\n",
            " #   Column  Non-Null Count  Dtype \n",
            "---  ------  --------------  ----- \n",
            " 0   review  7000 non-null   object\n",
            " 1   label   7000 non-null   int64 \n",
            "dtypes: int64(1), object(1)\n",
            "memory usage: 109.5+ KB\n"
          ],
          "name": "stdout"
        }
      ]
    },
    {
      "cell_type": "markdown",
      "metadata": {
        "id": "Juj09e-IL6L_"
      },
      "source": [
        "# PreProcessing"
      ]
    },
    {
      "cell_type": "markdown",
      "metadata": {
        "id": "Apvq-ngML3cj"
      },
      "source": [
        "## Cleaning"
      ]
    },
    {
      "cell_type": "code",
      "metadata": {
        "id": "DdEXc2gADJoy",
        "colab": {
          "base_uri": "https://localhost:8080/",
          "height": 311
        },
        "outputId": "f427f84a-9d1d-48bb-c7e7-161d0b19432e"
      },
      "source": [
        "import string\n",
        "\n",
        "#remove <br/>\n",
        "removed_br = []\n",
        "\n",
        "for review in data['review']:\n",
        "  removed_br.append(review.replace('<br /><br />', ' '))\n",
        "\n",
        "data['review'] = removed_br\n",
        "\n",
        "#removing special characters\n",
        "def cleaning(s):\n",
        "    clear_string = \"\"\n",
        "    for symbol in s:\n",
        "        if symbol not in string.punctuation:\n",
        "            clear_string += symbol\n",
        "    return clear_string\n",
        "\n",
        "#removing certain characters\n",
        "string_punctuation =  \"\\n\"\n",
        "\n",
        "def remove(s):\n",
        "    no_punct = \"\"\n",
        "    for letter in s:\n",
        "        if letter not in string_punctuation:\n",
        "            no_punct += letter\n",
        "    return no_punct\n",
        "\n",
        "#make sure everything is clean for the last time\n",
        "def preprocess(dat):\n",
        "    #Ubah - menjadi space\n",
        "    regex = r'\\-'\n",
        "    dat = dat.replace(regex, ' ')\n",
        "    regex = r'[^a-zA-Z\\s]' \n",
        "\n",
        "    # Ubah seluruh huruf dalam data artikel ke dalam lower case(casefolding)\n",
        "    dat = dat.lower()\n",
        "\n",
        "    # Hapus seluruh simbol yang ada dan ganti dengan string kosong ('')\n",
        "    dat = dat.replace(regex, '')\n",
        "\n",
        "    # Hapus enter, ganti dengan space\n",
        "    regex = r'\\n'\n",
        "    dat = dat.replace(regex, ' ')\n",
        "\n",
        "    return dat\n",
        "\n",
        "data['review_clean'] = data['review'].apply(cleaning)\n",
        "data['review_clean'] = data['review_clean'].apply(remove)\n",
        "data['review_clean'] = data['review_clean'].apply(preprocess)\n",
        "\n",
        "#removing numbers\n",
        "data['review_clean'] = data['review_clean'].str.replace(r'\\d+','')\n",
        "\n",
        "data = data[['review','review_clean','label']]\n",
        "\n",
        "data.head(3)"
      ],
      "execution_count": 5,
      "outputs": [
        {
          "output_type": "execute_result",
          "data": {
            "text/html": [
              "<div>\n",
              "<style scoped>\n",
              "    .dataframe tbody tr th:only-of-type {\n",
              "        vertical-align: middle;\n",
              "    }\n",
              "\n",
              "    .dataframe tbody tr th {\n",
              "        vertical-align: top;\n",
              "    }\n",
              "\n",
              "    .dataframe thead th {\n",
              "        text-align: right;\n",
              "    }\n",
              "</style>\n",
              "<table border=\"1\" class=\"dataframe\">\n",
              "  <thead>\n",
              "    <tr style=\"text-align: right;\">\n",
              "      <th></th>\n",
              "      <th>review</th>\n",
              "      <th>review_clean</th>\n",
              "      <th>label</th>\n",
              "    </tr>\n",
              "  </thead>\n",
              "  <tbody>\n",
              "    <tr>\n",
              "      <th>0</th>\n",
              "      <td>Encouraged by the positive comments about this film on here I was looking forward to watching this film. Bad mistake. I've seen 950+ films and this is truly one of the worst of them - it's awful in almost every way: editing, pacing, storyline, 'acting,' soundtrack (the film's only song - a lame country tune - is played no less than four times). The film looks cheap and nasty and is boring in the extreme. Rarely have I been so happy to see the end credits of a film.  The only thing that prevents me giving this a 1-score is Harvey Keitel - while this is far from his best performance he at least seems to be making a bit of an effort. One for Keitel obsessives only.</td>\n",
              "      <td>encouraged by the positive comments about this film on here i was looking forward to watching this film bad mistake ive seen  films and this is truly one of the worst of them  its awful in almost every way editing pacing storyline acting soundtrack the films only song  a lame country tune  is played no less than four times the film looks cheap and nasty and is boring in the extreme rarely have i been so happy to see the end credits of a film  the only thing that prevents me giving this a score is harvey keitel  while this is far from his best performance he at least seems to be making a bit of an effort one for keitel obsessives only</td>\n",
              "      <td>0</td>\n",
              "    </tr>\n",
              "    <tr>\n",
              "      <th>1</th>\n",
              "      <td>If you like original gut wrenching laughter you will like this movie. If you are young or old then you will love this movie, hell even my mom liked it. Great Camp!!!</td>\n",
              "      <td>if you like original gut wrenching laughter you will like this movie if you are young or old then you will love this movie hell even my mom liked it great camp</td>\n",
              "      <td>1</td>\n",
              "    </tr>\n",
              "    <tr>\n",
              "      <th>2</th>\n",
              "      <td>Phil the Alien is one of those quirky films where the humour is based around the oddness of everything rather than actual punchlines. At first it was very odd and pretty funny but as the movie progressed I didn't find the jokes or oddness funny anymore. Its a low budget film (thats never a problem in itself), there were some pretty interesting characters, but eventually I just lost interest. I imagine this film would appeal to a stoner who is currently partaking. For something similar but better try \"Brother from another planet\"</td>\n",
              "      <td>phil the alien is one of those quirky films where the humour is based around the oddness of everything rather than actual punchlines at first it was very odd and pretty funny but as the movie progressed i didnt find the jokes or oddness funny anymore its a low budget film thats never a problem in itself there were some pretty interesting characters but eventually i just lost interest i imagine this film would appeal to a stoner who is currently partaking for something similar but better try brother from another planet</td>\n",
              "      <td>0</td>\n",
              "    </tr>\n",
              "  </tbody>\n",
              "</table>\n",
              "</div>"
            ],
            "text/plain": [
              "                                                                                                                                                                                                                                                                                                                                                                                                                                                                                                                                                                                                                                                                                           review  ... label\n",
              "0  Encouraged by the positive comments about this film on here I was looking forward to watching this film. Bad mistake. I've seen 950+ films and this is truly one of the worst of them - it's awful in almost every way: editing, pacing, storyline, 'acting,' soundtrack (the film's only song - a lame country tune - is played no less than four times). The film looks cheap and nasty and is boring in the extreme. Rarely have I been so happy to see the end credits of a film.  The only thing that prevents me giving this a 1-score is Harvey Keitel - while this is far from his best performance he at least seems to be making a bit of an effort. One for Keitel obsessives only.  ...  0   \n",
              "1  If you like original gut wrenching laughter you will like this movie. If you are young or old then you will love this movie, hell even my mom liked it. Great Camp!!!                                                                                                                                                                                                                                                                                                                                                                                                                                                                                                                           ...  1   \n",
              "2  Phil the Alien is one of those quirky films where the humour is based around the oddness of everything rather than actual punchlines. At first it was very odd and pretty funny but as the movie progressed I didn't find the jokes or oddness funny anymore. Its a low budget film (thats never a problem in itself), there were some pretty interesting characters, but eventually I just lost interest. I imagine this film would appeal to a stoner who is currently partaking. For something similar but better try \"Brother from another planet\"                                                                                                                                          ...  0   \n",
              "\n",
              "[3 rows x 3 columns]"
            ]
          },
          "metadata": {
            "tags": []
          },
          "execution_count": 5
        }
      ]
    },
    {
      "cell_type": "code",
      "metadata": {
        "id": "vqAUiFyPI_lj",
        "colab": {
          "base_uri": "https://localhost:8080/"
        },
        "outputId": "a9e4ae8c-a3f0-44a2-c173-e43e22827812"
      },
      "source": [
        "data.info()"
      ],
      "execution_count": 6,
      "outputs": [
        {
          "output_type": "stream",
          "text": [
            "<class 'pandas.core.frame.DataFrame'>\n",
            "RangeIndex: 7000 entries, 0 to 6999\n",
            "Data columns (total 3 columns):\n",
            " #   Column        Non-Null Count  Dtype \n",
            "---  ------        --------------  ----- \n",
            " 0   review        7000 non-null   object\n",
            " 1   review_clean  7000 non-null   object\n",
            " 2   label         7000 non-null   int64 \n",
            "dtypes: int64(1), object(2)\n",
            "memory usage: 164.2+ KB\n"
          ],
          "name": "stdout"
        }
      ]
    },
    {
      "cell_type": "markdown",
      "metadata": {
        "id": "9mQ9Pty7MKGT"
      },
      "source": [
        "## Stopword Removal"
      ]
    },
    {
      "cell_type": "code",
      "metadata": {
        "colab": {
          "base_uri": "https://localhost:8080/"
        },
        "id": "qGt2PIcBLi3h",
        "outputId": "f189535e-74c8-44e5-f365-a5dea5a3f406"
      },
      "source": [
        "import nltk\n",
        "nltk.download('stopwords')\n",
        "from nltk.corpus import stopwords"
      ],
      "execution_count": 7,
      "outputs": [
        {
          "output_type": "stream",
          "text": [
            "[nltk_data] Downloading package stopwords to /root/nltk_data...\n",
            "[nltk_data]   Unzipping corpora/stopwords.zip.\n"
          ],
          "name": "stdout"
        }
      ]
    },
    {
      "cell_type": "code",
      "metadata": {
        "colab": {
          "base_uri": "https://localhost:8080/"
        },
        "id": "AtWIBVfdSIcd",
        "outputId": "8c1b1786-6586-4eee-9f76-1c626cf4efc8"
      },
      "source": [
        "stop_words = stopwords.words('english')\n",
        "print(stop_words)\n",
        "print(len(stop_words))"
      ],
      "execution_count": 8,
      "outputs": [
        {
          "output_type": "stream",
          "text": [
            "['i', 'me', 'my', 'myself', 'we', 'our', 'ours', 'ourselves', 'you', \"you're\", \"you've\", \"you'll\", \"you'd\", 'your', 'yours', 'yourself', 'yourselves', 'he', 'him', 'his', 'himself', 'she', \"she's\", 'her', 'hers', 'herself', 'it', \"it's\", 'its', 'itself', 'they', 'them', 'their', 'theirs', 'themselves', 'what', 'which', 'who', 'whom', 'this', 'that', \"that'll\", 'these', 'those', 'am', 'is', 'are', 'was', 'were', 'be', 'been', 'being', 'have', 'has', 'had', 'having', 'do', 'does', 'did', 'doing', 'a', 'an', 'the', 'and', 'but', 'if', 'or', 'because', 'as', 'until', 'while', 'of', 'at', 'by', 'for', 'with', 'about', 'against', 'between', 'into', 'through', 'during', 'before', 'after', 'above', 'below', 'to', 'from', 'up', 'down', 'in', 'out', 'on', 'off', 'over', 'under', 'again', 'further', 'then', 'once', 'here', 'there', 'when', 'where', 'why', 'how', 'all', 'any', 'both', 'each', 'few', 'more', 'most', 'other', 'some', 'such', 'no', 'nor', 'not', 'only', 'own', 'same', 'so', 'than', 'too', 'very', 's', 't', 'can', 'will', 'just', 'don', \"don't\", 'should', \"should've\", 'now', 'd', 'll', 'm', 'o', 're', 've', 'y', 'ain', 'aren', \"aren't\", 'couldn', \"couldn't\", 'didn', \"didn't\", 'doesn', \"doesn't\", 'hadn', \"hadn't\", 'hasn', \"hasn't\", 'haven', \"haven't\", 'isn', \"isn't\", 'ma', 'mightn', \"mightn't\", 'mustn', \"mustn't\", 'needn', \"needn't\", 'shan', \"shan't\", 'shouldn', \"shouldn't\", 'wasn', \"wasn't\", 'weren', \"weren't\", 'won', \"won't\", 'wouldn', \"wouldn't\"]\n",
            "179\n"
          ],
          "name": "stdout"
        }
      ]
    },
    {
      "cell_type": "code",
      "metadata": {
        "id": "YjW_wwtcSAHz"
      },
      "source": [
        "def removeStopword(df,stop_words_):\n",
        "    for stop_word in stop_words_:\n",
        "        regex_stopword = r\"\\b\" + stop_word + r\"\\b\"\n",
        "        df = df.str.replace(regex_stopword, '')\n",
        "    return df"
      ],
      "execution_count": 9,
      "outputs": []
    },
    {
      "cell_type": "code",
      "metadata": {
        "colab": {
          "base_uri": "https://localhost:8080/",
          "height": 380
        },
        "id": "StDf-CM9SEb9",
        "outputId": "ccc96a2b-0a1b-4cd4-ece4-9fa5edfb8549"
      },
      "source": [
        "data['review_stopword'] = removeStopword(data['review_clean'],stop_words)\n",
        "data = data[['label','review','review_clean','review_stopword']]\n",
        "data.head(3)"
      ],
      "execution_count": 10,
      "outputs": [
        {
          "output_type": "execute_result",
          "data": {
            "text/html": [
              "<div>\n",
              "<style scoped>\n",
              "    .dataframe tbody tr th:only-of-type {\n",
              "        vertical-align: middle;\n",
              "    }\n",
              "\n",
              "    .dataframe tbody tr th {\n",
              "        vertical-align: top;\n",
              "    }\n",
              "\n",
              "    .dataframe thead th {\n",
              "        text-align: right;\n",
              "    }\n",
              "</style>\n",
              "<table border=\"1\" class=\"dataframe\">\n",
              "  <thead>\n",
              "    <tr style=\"text-align: right;\">\n",
              "      <th></th>\n",
              "      <th>label</th>\n",
              "      <th>review</th>\n",
              "      <th>review_clean</th>\n",
              "      <th>review_stopword</th>\n",
              "    </tr>\n",
              "  </thead>\n",
              "  <tbody>\n",
              "    <tr>\n",
              "      <th>0</th>\n",
              "      <td>0</td>\n",
              "      <td>Encouraged by the positive comments about this film on here I was looking forward to watching this film. Bad mistake. I've seen 950+ films and this is truly one of the worst of them - it's awful in almost every way: editing, pacing, storyline, 'acting,' soundtrack (the film's only song - a lame country tune - is played no less than four times). The film looks cheap and nasty and is boring in the extreme. Rarely have I been so happy to see the end credits of a film.  The only thing that prevents me giving this a 1-score is Harvey Keitel - while this is far from his best performance he at least seems to be making a bit of an effort. One for Keitel obsessives only.</td>\n",
              "      <td>encouraged by the positive comments about this film on here i was looking forward to watching this film bad mistake ive seen  films and this is truly one of the worst of them  its awful in almost every way editing pacing storyline acting soundtrack the films only song  a lame country tune  is played no less than four times the film looks cheap and nasty and is boring in the extreme rarely have i been so happy to see the end credits of a film  the only thing that prevents me giving this a score is harvey keitel  while this is far from his best performance he at least seems to be making a bit of an effort one for keitel obsessives only</td>\n",
              "      <td>encouraged   positive comments   film     looking forward  watching  film bad mistake ive seen  films    truly one   worst     awful  almost every way editing pacing storyline acting soundtrack  films  song   lame country tune   played  less  four times  film looks cheap  nasty   boring   extreme rarely     happy  see  end credits   film    thing  prevents  giving   score  harvey keitel     far   best performance   least seems   making  bit   effort one  keitel obsessives</td>\n",
              "    </tr>\n",
              "    <tr>\n",
              "      <th>1</th>\n",
              "      <td>1</td>\n",
              "      <td>If you like original gut wrenching laughter you will like this movie. If you are young or old then you will love this movie, hell even my mom liked it. Great Camp!!!</td>\n",
              "      <td>if you like original gut wrenching laughter you will like this movie if you are young or old then you will love this movie hell even my mom liked it great camp</td>\n",
              "      <td>like original gut wrenching laughter   like  movie    young  old    love  movie hell even  mom liked  great camp</td>\n",
              "    </tr>\n",
              "    <tr>\n",
              "      <th>2</th>\n",
              "      <td>0</td>\n",
              "      <td>Phil the Alien is one of those quirky films where the humour is based around the oddness of everything rather than actual punchlines. At first it was very odd and pretty funny but as the movie progressed I didn't find the jokes or oddness funny anymore. Its a low budget film (thats never a problem in itself), there were some pretty interesting characters, but eventually I just lost interest. I imagine this film would appeal to a stoner who is currently partaking. For something similar but better try \"Brother from another planet\"</td>\n",
              "      <td>phil the alien is one of those quirky films where the humour is based around the oddness of everything rather than actual punchlines at first it was very odd and pretty funny but as the movie progressed i didnt find the jokes or oddness funny anymore its a low budget film thats never a problem in itself there were some pretty interesting characters but eventually i just lost interest i imagine this film would appeal to a stoner who is currently partaking for something similar but better try brother from another planet</td>\n",
              "      <td>phil  alien  one   quirky films   humour  based around  oddness  everything rather  actual punchlines  first    odd  pretty funny    movie progressed  didnt find  jokes  oddness funny anymore   low budget film thats never  problem      pretty interesting characters  eventually   lost interest  imagine  film would appeal   stoner   currently partaking  something similar  better try brother  another planet</td>\n",
              "    </tr>\n",
              "  </tbody>\n",
              "</table>\n",
              "</div>"
            ],
            "text/plain": [
              "   label  ...                                                                                                                                                                                                                                                                                                                                                                                                                                                                                review_stopword\n",
              "0  0      ...  encouraged   positive comments   film     looking forward  watching  film bad mistake ive seen  films    truly one   worst     awful  almost every way editing pacing storyline acting soundtrack  films  song   lame country tune   played  less  four times  film looks cheap  nasty   boring   extreme rarely     happy  see  end credits   film    thing  prevents  giving   score  harvey keitel     far   best performance   least seems   making  bit   effort one  keitel obsessives \n",
              "1  1      ...    like original gut wrenching laughter   like  movie    young  old    love  movie hell even  mom liked  great camp                                                                                                                                                                                                                                                                                                                                                                           \n",
              "2  0      ...  phil  alien  one   quirky films   humour  based around  oddness  everything rather  actual punchlines  first    odd  pretty funny    movie progressed  didnt find  jokes  oddness funny anymore   low budget film thats never  problem      pretty interesting characters  eventually   lost interest  imagine  film would appeal   stoner   currently partaking  something similar  better try brother  another planet                                                                      \n",
              "\n",
              "[3 rows x 4 columns]"
            ]
          },
          "metadata": {
            "tags": []
          },
          "execution_count": 10
        }
      ]
    },
    {
      "cell_type": "markdown",
      "metadata": {
        "id": "ylEVOoNBTyx1"
      },
      "source": [
        "## Lemmatization"
      ]
    },
    {
      "cell_type": "code",
      "metadata": {
        "colab": {
          "base_uri": "https://localhost:8080/"
        },
        "id": "3m4msRBNTye5",
        "outputId": "bda12691-b4ef-4cbf-d886-3c1316e062b4"
      },
      "source": [
        "nltk.download('wordnet')\n",
        "from nltk.stem import WordNetLemmatizer"
      ],
      "execution_count": 11,
      "outputs": [
        {
          "output_type": "stream",
          "text": [
            "[nltk_data] Downloading package wordnet to /root/nltk_data...\n",
            "[nltk_data]   Unzipping corpora/wordnet.zip.\n"
          ],
          "name": "stdout"
        }
      ]
    },
    {
      "cell_type": "code",
      "metadata": {
        "id": "4d0ZmnvRUZK5"
      },
      "source": [
        "stemmer_en = WordNetLemmatizer() # nltk"
      ],
      "execution_count": 12,
      "outputs": []
    },
    {
      "cell_type": "code",
      "metadata": {
        "id": "YFdb9ssSUd4A"
      },
      "source": [
        "def stemming(text, stemmer_en):\n",
        "    text_split = text.split(\" \")\n",
        "    stemmed_list = []\n",
        "    for i in text_split:\n",
        "        stem_text1 = stemmer_en.lemmatize(i, pos=\"v\")\n",
        "        stem_text2 = stemmer_en.lemmatize(stem_text1, pos=\"n\")\n",
        "        stem_text3 = stemmer_en.lemmatize(stem_text2, pos=\"a\")\n",
        "        stemmed_list.append(stem_text3)\n",
        "    stemmed = ' '.join(map(str,stemmed_list))\n",
        "    return stemmed\n",
        "\n",
        "def stemData(data, stemmer_en):\n",
        "    data = data.map(lambda com : stemming(com,stemmer_en))\n",
        "    return data"
      ],
      "execution_count": 13,
      "outputs": []
    },
    {
      "cell_type": "code",
      "metadata": {
        "colab": {
          "base_uri": "https://localhost:8080/",
          "height": 449
        },
        "id": "f1yQh0uBVxdM",
        "outputId": "98af7f69-2900-48e8-c076-65baedbf9bb4"
      },
      "source": [
        "data['review_stem'] = stemData(data['review_stopword'], stemmer_en)\n",
        "data.head(3)"
      ],
      "execution_count": 14,
      "outputs": [
        {
          "output_type": "execute_result",
          "data": {
            "text/html": [
              "<div>\n",
              "<style scoped>\n",
              "    .dataframe tbody tr th:only-of-type {\n",
              "        vertical-align: middle;\n",
              "    }\n",
              "\n",
              "    .dataframe tbody tr th {\n",
              "        vertical-align: top;\n",
              "    }\n",
              "\n",
              "    .dataframe thead th {\n",
              "        text-align: right;\n",
              "    }\n",
              "</style>\n",
              "<table border=\"1\" class=\"dataframe\">\n",
              "  <thead>\n",
              "    <tr style=\"text-align: right;\">\n",
              "      <th></th>\n",
              "      <th>label</th>\n",
              "      <th>review</th>\n",
              "      <th>review_clean</th>\n",
              "      <th>review_stopword</th>\n",
              "      <th>review_stem</th>\n",
              "    </tr>\n",
              "  </thead>\n",
              "  <tbody>\n",
              "    <tr>\n",
              "      <th>0</th>\n",
              "      <td>0</td>\n",
              "      <td>Encouraged by the positive comments about this film on here I was looking forward to watching this film. Bad mistake. I've seen 950+ films and this is truly one of the worst of them - it's awful in almost every way: editing, pacing, storyline, 'acting,' soundtrack (the film's only song - a lame country tune - is played no less than four times). The film looks cheap and nasty and is boring in the extreme. Rarely have I been so happy to see the end credits of a film.  The only thing that prevents me giving this a 1-score is Harvey Keitel - while this is far from his best performance he at least seems to be making a bit of an effort. One for Keitel obsessives only.</td>\n",
              "      <td>encouraged by the positive comments about this film on here i was looking forward to watching this film bad mistake ive seen  films and this is truly one of the worst of them  its awful in almost every way editing pacing storyline acting soundtrack the films only song  a lame country tune  is played no less than four times the film looks cheap and nasty and is boring in the extreme rarely have i been so happy to see the end credits of a film  the only thing that prevents me giving this a score is harvey keitel  while this is far from his best performance he at least seems to be making a bit of an effort one for keitel obsessives only</td>\n",
              "      <td>encouraged   positive comments   film     looking forward  watching  film bad mistake ive seen  films    truly one   worst     awful  almost every way editing pacing storyline acting soundtrack  films  song   lame country tune   played  less  four times  film looks cheap  nasty   boring   extreme rarely     happy  see  end credits   film    thing  prevents  giving   score  harvey keitel     far   best performance   least seems   making  bit   effort one  keitel obsessives</td>\n",
              "      <td>encourage   positive comment   film     look forward  watch  film bad mistake ive see  film    truly one   bad     awful  almost every way edit pace storyline act soundtrack  film  song   lame country tune   play  le  four time  film look cheap  nasty   bore   extreme rarely     happy  see  end credit   film    thing  prevent  give   score  harvey keitel     far   best performance   least seem   make  bite   effort one  keitel obsessive</td>\n",
              "    </tr>\n",
              "    <tr>\n",
              "      <th>1</th>\n",
              "      <td>1</td>\n",
              "      <td>If you like original gut wrenching laughter you will like this movie. If you are young or old then you will love this movie, hell even my mom liked it. Great Camp!!!</td>\n",
              "      <td>if you like original gut wrenching laughter you will like this movie if you are young or old then you will love this movie hell even my mom liked it great camp</td>\n",
              "      <td>like original gut wrenching laughter   like  movie    young  old    love  movie hell even  mom liked  great camp</td>\n",
              "      <td>like original gut wrench laughter   like  movie    young  old    love  movie hell even  mom like  great camp</td>\n",
              "    </tr>\n",
              "    <tr>\n",
              "      <th>2</th>\n",
              "      <td>0</td>\n",
              "      <td>Phil the Alien is one of those quirky films where the humour is based around the oddness of everything rather than actual punchlines. At first it was very odd and pretty funny but as the movie progressed I didn't find the jokes or oddness funny anymore. Its a low budget film (thats never a problem in itself), there were some pretty interesting characters, but eventually I just lost interest. I imagine this film would appeal to a stoner who is currently partaking. For something similar but better try \"Brother from another planet\"</td>\n",
              "      <td>phil the alien is one of those quirky films where the humour is based around the oddness of everything rather than actual punchlines at first it was very odd and pretty funny but as the movie progressed i didnt find the jokes or oddness funny anymore its a low budget film thats never a problem in itself there were some pretty interesting characters but eventually i just lost interest i imagine this film would appeal to a stoner who is currently partaking for something similar but better try brother from another planet</td>\n",
              "      <td>phil  alien  one   quirky films   humour  based around  oddness  everything rather  actual punchlines  first    odd  pretty funny    movie progressed  didnt find  jokes  oddness funny anymore   low budget film thats never  problem      pretty interesting characters  eventually   lost interest  imagine  film would appeal   stoner   currently partaking  something similar  better try brother  another planet</td>\n",
              "      <td>phil  alien  one   quirky film   humour  base around  oddness  everything rather  actual punchlines  first    odd  pretty funny    movie progress  didnt find  joke  oddness funny anymore   low budget film thats never  problem      pretty interest character  eventually   lose interest  imagine  film would appeal   stone   currently partake  something similar  good try brother  another planet</td>\n",
              "    </tr>\n",
              "  </tbody>\n",
              "</table>\n",
              "</div>"
            ],
            "text/plain": [
              "   label  ...                                                                                                                                                                                                                                                                                                                                                                                                                                                review_stem\n",
              "0  0      ...  encourage   positive comment   film     look forward  watch  film bad mistake ive see  film    truly one   bad     awful  almost every way edit pace storyline act soundtrack  film  song   lame country tune   play  le  four time  film look cheap  nasty   bore   extreme rarely     happy  see  end credit   film    thing  prevent  give   score  harvey keitel     far   best performance   least seem   make  bite   effort one  keitel obsessive \n",
              "1  1      ...    like original gut wrench laughter   like  movie    young  old    love  movie hell even  mom like  great camp                                                                                                                                                                                                                                                                                                                                           \n",
              "2  0      ...  phil  alien  one   quirky film   humour  base around  oddness  everything rather  actual punchlines  first    odd  pretty funny    movie progress  didnt find  joke  oddness funny anymore   low budget film thats never  problem      pretty interest character  eventually   lose interest  imagine  film would appeal   stone   currently partake  something similar  good try brother  another planet                                                \n",
              "\n",
              "[3 rows x 5 columns]"
            ]
          },
          "metadata": {
            "tags": []
          },
          "execution_count": 14
        }
      ]
    },
    {
      "cell_type": "code",
      "metadata": {
        "id": "BCrDSvIQe_bZ"
      },
      "source": [
        "data_prep_stem = data[['review_stem','label']]\n",
        "data_prep_stem = data_prep_stem.rename(columns={'review' : 'review_stem'})\n",
        "\n",
        "data_prep_stem.to_csv(\"data_prep_stem.csv\")"
      ],
      "execution_count": 15,
      "outputs": []
    }
  ]
}