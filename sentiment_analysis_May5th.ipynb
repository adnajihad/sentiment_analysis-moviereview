{
  "nbformat": 4,
  "nbformat_minor": 0,
  "metadata": {
    "accelerator": "TPU",
    "colab": {
      "name": "sentiment-analysis_May5th",
      "provenance": [],
      "collapsed_sections": [
        "Apvq-ngML3cj",
        "9mQ9Pty7MKGT",
        "ylEVOoNBTyx1",
        "TjlHrCklgy0n",
        "_X-xfQ1Et8R6",
        "LL4UmslKyL6C",
        "BSJv9cc_C2sx",
        "itFzJdpUL_bB",
        "0rJX7nffMkQQ"
      ],
      "toc_visible": true,
      "authorship_tag": "ABX9TyOQ/p4dV37ciI+01qMh4sf2",
      "include_colab_link": true
    },
    "kernelspec": {
      "display_name": "Python 3",
      "name": "python3"
    }
  },
  "cells": [
    {
      "cell_type": "markdown",
      "metadata": {
        "id": "view-in-github",
        "colab_type": "text"
      },
      "source": [
        "<a href=\"https://colab.research.google.com/github/adnajihad/sentiment_analysis-moviereview/blob/main/sentiment_analysis_May5th.ipynb\" target=\"_parent\"><img src=\"https://colab.research.google.com/assets/colab-badge.svg\" alt=\"Open In Colab\"/></a>"
      ]
    },
    {
      "cell_type": "markdown",
      "metadata": {
        "id": "Juj09e-IL6L_"
      },
      "source": [
        "# PreProcessing"
      ]
    },
    {
      "cell_type": "code",
      "metadata": {
        "colab": {
          "base_uri": "https://localhost:8080/"
        },
        "id": "GwT5W3MawiEb",
        "outputId": "93b94e29-ef25-420e-fc8f-f0ac44fcc9d6"
      },
      "source": [
        "from google.colab import drive\n",
        "drive.mount('/content/drive')"
      ],
      "execution_count": 1,
      "outputs": [
        {
          "output_type": "stream",
          "text": [
            "Drive already mounted at /content/drive; to attempt to forcibly remount, call drive.mount(\"/content/drive\", force_remount=True).\n"
          ],
          "name": "stdout"
        }
      ]
    },
    {
      "cell_type": "markdown",
      "metadata": {
        "id": "6L2nSINdx3zS"
      },
      "source": [
        "## Preparation"
      ]
    },
    {
      "cell_type": "code",
      "metadata": {
        "colab": {
          "base_uri": "https://localhost:8080/",
          "height": 290
        },
        "id": "6zI8Yv4G_h_0",
        "outputId": "07505b53-17fc-4c27-c3a1-7efcfe3851e7"
      },
      "source": [
        "import pandas as pd\n",
        "pd.set_option('display.max_colwidth', -1)\n",
        "\n",
        "data = pd.read_csv('/content/drive/MyDrive/TA/IMDB_Dataset.csv')\n",
        "data.head(1)"
      ],
      "execution_count": 2,
      "outputs": [
        {
          "output_type": "stream",
          "text": [
            "/usr/local/lib/python3.7/dist-packages/ipykernel_launcher.py:2: FutureWarning: Passing a negative integer is deprecated in version 1.0 and will not be supported in future version. Instead, use None to not limit the column width.\n",
            "  \n"
          ],
          "name": "stderr"
        },
        {
          "output_type": "execute_result",
          "data": {
            "text/html": [
              "<div>\n",
              "<style scoped>\n",
              "    .dataframe tbody tr th:only-of-type {\n",
              "        vertical-align: middle;\n",
              "    }\n",
              "\n",
              "    .dataframe tbody tr th {\n",
              "        vertical-align: top;\n",
              "    }\n",
              "\n",
              "    .dataframe thead th {\n",
              "        text-align: right;\n",
              "    }\n",
              "</style>\n",
              "<table border=\"1\" class=\"dataframe\">\n",
              "  <thead>\n",
              "    <tr style=\"text-align: right;\">\n",
              "      <th></th>\n",
              "      <th>review</th>\n",
              "      <th>sentiment</th>\n",
              "    </tr>\n",
              "  </thead>\n",
              "  <tbody>\n",
              "    <tr>\n",
              "      <th>0</th>\n",
              "      <td>One of the other reviewers has mentioned that after watching just 1 Oz episode you'll be hooked. They are right, as this is exactly what happened with me.&lt;br /&gt;&lt;br /&gt;The first thing that struck me about Oz was its brutality and unflinching scenes of violence, which set in right from the word GO. Trust me, this is not a show for the faint hearted or timid. This show pulls no punches with regards to drugs, sex or violence. Its is hardcore, in the classic use of the word.&lt;br /&gt;&lt;br /&gt;It is called OZ as that is the nickname given to the Oswald Maximum Security State Penitentary. It focuses mainly on Emerald City, an experimental section of the prison where all the cells have glass fronts and face inwards, so privacy is not high on the agenda. Em City is home to many..Aryans, Muslims, gangstas, Latinos, Christians, Italians, Irish and more....so scuffles, death stares, dodgy dealings and shady agreements are never far away.&lt;br /&gt;&lt;br /&gt;I would say the main appeal of the show is due to the fact that it goes where other shows wouldn't dare. Forget pretty pictures painted for mainstream audiences, forget charm, forget romance...OZ doesn't mess around. The first episode I ever saw struck me as so nasty it was surreal, I couldn't say I was ready for it, but as I watched more, I developed a taste for Oz, and got accustomed to the high levels of graphic violence. Not just violence, but injustice (crooked guards who'll be sold out for a nickel, inmates who'll kill on order and get away with it, well mannered, middle class inmates being turned into prison bitches due to their lack of street skills or prison experience) Watching Oz, you may become comfortable with what is uncomfortable viewing....thats if you can get in touch with your darker side.</td>\n",
              "      <td>positive</td>\n",
              "    </tr>\n",
              "  </tbody>\n",
              "</table>\n",
              "</div>"
            ],
            "text/plain": [
              "                                                                                                                                                                                                                                                                                                                                                                                                                                                                                                                                                                                                                                                                                                                                                                                                                                                                                                                                                                                                                                                                                                                                                                                                                                                                                                                                                                                                                                                                                                                                                                                                                                                                                                                                                                                                                              review sentiment\n",
              "0  One of the other reviewers has mentioned that after watching just 1 Oz episode you'll be hooked. They are right, as this is exactly what happened with me.<br /><br />The first thing that struck me about Oz was its brutality and unflinching scenes of violence, which set in right from the word GO. Trust me, this is not a show for the faint hearted or timid. This show pulls no punches with regards to drugs, sex or violence. Its is hardcore, in the classic use of the word.<br /><br />It is called OZ as that is the nickname given to the Oswald Maximum Security State Penitentary. It focuses mainly on Emerald City, an experimental section of the prison where all the cells have glass fronts and face inwards, so privacy is not high on the agenda. Em City is home to many..Aryans, Muslims, gangstas, Latinos, Christians, Italians, Irish and more....so scuffles, death stares, dodgy dealings and shady agreements are never far away.<br /><br />I would say the main appeal of the show is due to the fact that it goes where other shows wouldn't dare. Forget pretty pictures painted for mainstream audiences, forget charm, forget romance...OZ doesn't mess around. The first episode I ever saw struck me as so nasty it was surreal, I couldn't say I was ready for it, but as I watched more, I developed a taste for Oz, and got accustomed to the high levels of graphic violence. Not just violence, but injustice (crooked guards who'll be sold out for a nickel, inmates who'll kill on order and get away with it, well mannered, middle class inmates being turned into prison bitches due to their lack of street skills or prison experience) Watching Oz, you may become comfortable with what is uncomfortable viewing....thats if you can get in touch with your darker side.  positive"
            ]
          },
          "metadata": {
            "tags": []
          },
          "execution_count": 2
        }
      ]
    },
    {
      "cell_type": "code",
      "metadata": {
        "colab": {
          "base_uri": "https://localhost:8080/"
        },
        "id": "x9zMkDQkI2Y3",
        "outputId": "494db673-8221-4e73-8a5e-665e1ad1c087"
      },
      "source": [
        "data.info()"
      ],
      "execution_count": 3,
      "outputs": [
        {
          "output_type": "stream",
          "text": [
            "<class 'pandas.core.frame.DataFrame'>\n",
            "RangeIndex: 50000 entries, 0 to 49999\n",
            "Data columns (total 2 columns):\n",
            " #   Column     Non-Null Count  Dtype \n",
            "---  ------     --------------  ----- \n",
            " 0   review     50000 non-null  object\n",
            " 1   sentiment  50000 non-null  object\n",
            "dtypes: object(2)\n",
            "memory usage: 781.4+ KB\n"
          ],
          "name": "stdout"
        }
      ]
    },
    {
      "cell_type": "code",
      "metadata": {
        "id": "6tMRSb7e9R_C"
      },
      "source": [
        "import numpy as np\n",
        "\n",
        "data['sentiment'] = np.where(data['sentiment'] == 'negative', 0, 1)\n",
        "data.columns = ['review', 'label']"
      ],
      "execution_count": 4,
      "outputs": []
    },
    {
      "cell_type": "code",
      "metadata": {
        "colab": {
          "base_uri": "https://localhost:8080/",
          "height": 216
        },
        "id": "BUGBXp9qQ7iV",
        "outputId": "db6a206f-2d0f-41da-84c5-bf16b04b4ab3"
      },
      "source": [
        "data.head(1)"
      ],
      "execution_count": 5,
      "outputs": [
        {
          "output_type": "execute_result",
          "data": {
            "text/html": [
              "<div>\n",
              "<style scoped>\n",
              "    .dataframe tbody tr th:only-of-type {\n",
              "        vertical-align: middle;\n",
              "    }\n",
              "\n",
              "    .dataframe tbody tr th {\n",
              "        vertical-align: top;\n",
              "    }\n",
              "\n",
              "    .dataframe thead th {\n",
              "        text-align: right;\n",
              "    }\n",
              "</style>\n",
              "<table border=\"1\" class=\"dataframe\">\n",
              "  <thead>\n",
              "    <tr style=\"text-align: right;\">\n",
              "      <th></th>\n",
              "      <th>review</th>\n",
              "      <th>label</th>\n",
              "    </tr>\n",
              "  </thead>\n",
              "  <tbody>\n",
              "    <tr>\n",
              "      <th>0</th>\n",
              "      <td>One of the other reviewers has mentioned that after watching just 1 Oz episode you'll be hooked. They are right, as this is exactly what happened with me.&lt;br /&gt;&lt;br /&gt;The first thing that struck me about Oz was its brutality and unflinching scenes of violence, which set in right from the word GO. Trust me, this is not a show for the faint hearted or timid. This show pulls no punches with regards to drugs, sex or violence. Its is hardcore, in the classic use of the word.&lt;br /&gt;&lt;br /&gt;It is called OZ as that is the nickname given to the Oswald Maximum Security State Penitentary. It focuses mainly on Emerald City, an experimental section of the prison where all the cells have glass fronts and face inwards, so privacy is not high on the agenda. Em City is home to many..Aryans, Muslims, gangstas, Latinos, Christians, Italians, Irish and more....so scuffles, death stares, dodgy dealings and shady agreements are never far away.&lt;br /&gt;&lt;br /&gt;I would say the main appeal of the show is due to the fact that it goes where other shows wouldn't dare. Forget pretty pictures painted for mainstream audiences, forget charm, forget romance...OZ doesn't mess around. The first episode I ever saw struck me as so nasty it was surreal, I couldn't say I was ready for it, but as I watched more, I developed a taste for Oz, and got accustomed to the high levels of graphic violence. Not just violence, but injustice (crooked guards who'll be sold out for a nickel, inmates who'll kill on order and get away with it, well mannered, middle class inmates being turned into prison bitches due to their lack of street skills or prison experience) Watching Oz, you may become comfortable with what is uncomfortable viewing....thats if you can get in touch with your darker side.</td>\n",
              "      <td>1</td>\n",
              "    </tr>\n",
              "  </tbody>\n",
              "</table>\n",
              "</div>"
            ],
            "text/plain": [
              "                                                                                                                                                                                                                                                                                                                                                                                                                                                                                                                                                                                                                                                                                                                                                                                                                                                                                                                                                                                                                                                                                                                                                                                                                                                                                                                                                                                                                                                                                                                                                                                                                                                                                                                                                                                                                              review  label\n",
              "0  One of the other reviewers has mentioned that after watching just 1 Oz episode you'll be hooked. They are right, as this is exactly what happened with me.<br /><br />The first thing that struck me about Oz was its brutality and unflinching scenes of violence, which set in right from the word GO. Trust me, this is not a show for the faint hearted or timid. This show pulls no punches with regards to drugs, sex or violence. Its is hardcore, in the classic use of the word.<br /><br />It is called OZ as that is the nickname given to the Oswald Maximum Security State Penitentary. It focuses mainly on Emerald City, an experimental section of the prison where all the cells have glass fronts and face inwards, so privacy is not high on the agenda. Em City is home to many..Aryans, Muslims, gangstas, Latinos, Christians, Italians, Irish and more....so scuffles, death stares, dodgy dealings and shady agreements are never far away.<br /><br />I would say the main appeal of the show is due to the fact that it goes where other shows wouldn't dare. Forget pretty pictures painted for mainstream audiences, forget charm, forget romance...OZ doesn't mess around. The first episode I ever saw struck me as so nasty it was surreal, I couldn't say I was ready for it, but as I watched more, I developed a taste for Oz, and got accustomed to the high levels of graphic violence. Not just violence, but injustice (crooked guards who'll be sold out for a nickel, inmates who'll kill on order and get away with it, well mannered, middle class inmates being turned into prison bitches due to their lack of street skills or prison experience) Watching Oz, you may become comfortable with what is uncomfortable viewing....thats if you can get in touch with your darker side.  1    "
            ]
          },
          "metadata": {
            "tags": []
          },
          "execution_count": 5
        }
      ]
    },
    {
      "cell_type": "code",
      "metadata": {
        "colab": {
          "base_uri": "https://localhost:8080/",
          "height": 391
        },
        "id": "_yzh5Uc21dT-",
        "outputId": "e40ed875-d146-4c99-c698-ec5111afef55"
      },
      "source": [
        "import matplotlib.pyplot as plt\n",
        "import seaborn as sns\n",
        "sns.set_style(\"whitegrid\")\n",
        "\n",
        "sns.countplot(x='label', data=data)\n",
        "    \n",
        "plt.ylabel('Jumlah Label', fontsize=12)\n",
        "plt.xlabel('Label', fontsize=12)\n",
        "plt.show()\n",
        "print(\"0:Negative, 1:Positive\")\n",
        "\n",
        "print()\n",
        "#Hitung jumlah label \n",
        "count = data.groupby(['label'])['label'].count()\n",
        "count"
      ],
      "execution_count": 6,
      "outputs": [
        {
          "output_type": "display_data",
          "data": {
            "image/png": "[encoded data removed]",
            "text/plain": [
              "<Figure size 432x288 with 1 Axes>"
            ]
          },
          "metadata": {
            "tags": []
          }
        },
        {
          "output_type": "stream",
          "text": [
            "0:Negative, 1:Positive\n",
            "\n"
          ],
          "name": "stdout"
        },
        {
          "output_type": "execute_result",
          "data": {
            "text/plain": [
              "label\n",
              "0    25000\n",
              "1    25000\n",
              "Name: label, dtype: int64"
            ]
          },
          "metadata": {
            "tags": []
          },
          "execution_count": 6
        }
      ]
    },
    {
      "cell_type": "code",
      "metadata": {
        "colab": {
          "base_uri": "https://localhost:8080/"
        },
        "id": "YRbnxZ06k17L",
        "outputId": "08794539-93f2-4418-c540-7260637398e3"
      },
      "source": [
        "dfUpper = data.iloc[0:6000]\n",
        "dfLower = data.iloc[44000:50000]\n",
        "data = pd.concat([dfUpper, dfLower])\n",
        "data.info()"
      ],
      "execution_count": 7,
      "outputs": [
        {
          "output_type": "stream",
          "text": [
            "<class 'pandas.core.frame.DataFrame'>\n",
            "Int64Index: 2000 entries, 0 to 49999\n",
            "Data columns (total 2 columns):\n",
            " #   Column  Non-Null Count  Dtype \n",
            "---  ------  --------------  ----- \n",
            " 0   review  2000 non-null   object\n",
            " 1   label   2000 non-null   int64 \n",
            "dtypes: int64(1), object(1)\n",
            "memory usage: 46.9+ KB\n"
          ],
          "name": "stdout"
        }
      ]
    },
    {
      "cell_type": "markdown",
      "metadata": {
        "id": "Apvq-ngML3cj"
      },
      "source": [
        "## Cleaning"
      ]
    },
    {
      "cell_type": "code",
      "metadata": {
        "colab": {
          "base_uri": "https://localhost:8080/",
          "height": 303
        },
        "id": "DdEXc2gADJoy",
        "outputId": "42ea1720-d4c9-4fd8-d9a3-fbf8215a48b0"
      },
      "source": [
        "import string\n",
        "\n",
        "#remove <br/>\n",
        "removed_br = []\n",
        "\n",
        "for review in data['review']:\n",
        "  removed_br.append(review.replace('<br /><br />', ' '))\n",
        "\n",
        "data['review'] = removed_br\n",
        "\n",
        "#removing special characters\n",
        "def cleaning(s):\n",
        "    clear_string = \"\"\n",
        "    for symbol in s:\n",
        "        if symbol not in string.punctuation:\n",
        "            clear_string += symbol\n",
        "    return clear_string\n",
        "\n",
        "#removing certain characters\n",
        "string_punctuation =  \"\\n\"\n",
        "\n",
        "def remove(s):\n",
        "    no_punct = \"\"\n",
        "    for letter in s:\n",
        "        if letter not in string_punctuation:\n",
        "            no_punct += letter\n",
        "    return no_punct\n",
        "\n",
        "#make sure everything is clean for the last time\n",
        "def preprocess(dat):\n",
        "    #Ubah - menjadi space\n",
        "    regex = r'\\-'\n",
        "    dat = dat.replace(regex, ' ')\n",
        "    regex = r'[^a-zA-Z\\s]' \n",
        "\n",
        "    # Ubah seluruh huruf dalam data artikel ke dalam lower case(casefolding)\n",
        "    dat = dat.lower()\n",
        "\n",
        "    # Hapus seluruh simbol yang ada dan ganti dengan string kosong ('')\n",
        "    dat = dat.replace(regex, '')\n",
        "\n",
        "    # Hapus enter, ganti dengan space\n",
        "    regex = r'\\n'\n",
        "    dat = dat.replace(regex, ' ')\n",
        "\n",
        "    return dat\n",
        "\n",
        "data['review_clean'] = data['review'].apply(cleaning)\n",
        "data['review_clean'] = data['review_clean'].apply(remove)\n",
        "data['review_clean'] = data['review_clean'].apply(preprocess)\n",
        "\n",
        "#removing numbers\n",
        "data['review_clean'] = data['review_clean'].str.replace(r'\\d+','')\n",
        "\n",
        "data = data[['review','review_clean','label']]\n",
        "\n",
        "data.head(1)"
      ],
      "execution_count": 8,
      "outputs": [
        {
          "output_type": "execute_result",
          "data": {
            "text/html": [
              "<div>\n",
              "<style scoped>\n",
              "    .dataframe tbody tr th:only-of-type {\n",
              "        vertical-align: middle;\n",
              "    }\n",
              "\n",
              "    .dataframe tbody tr th {\n",
              "        vertical-align: top;\n",
              "    }\n",
              "\n",
              "    .dataframe thead th {\n",
              "        text-align: right;\n",
              "    }\n",
              "</style>\n",
              "<table border=\"1\" class=\"dataframe\">\n",
              "  <thead>\n",
              "    <tr style=\"text-align: right;\">\n",
              "      <th></th>\n",
              "      <th>review</th>\n",
              "      <th>review_clean</th>\n",
              "      <th>label</th>\n",
              "    </tr>\n",
              "  </thead>\n",
              "  <tbody>\n",
              "    <tr>\n",
              "      <th>0</th>\n",
              "      <td>One of the other reviewers has mentioned that after watching just 1 Oz episode you'll be hooked. They are right, as this is exactly what happened with me. The first thing that struck me about Oz was its brutality and unflinching scenes of violence, which set in right from the word GO. Trust me, this is not a show for the faint hearted or timid. This show pulls no punches with regards to drugs, sex or violence. Its is hardcore, in the classic use of the word. It is called OZ as that is the nickname given to the Oswald Maximum Security State Penitentary. It focuses mainly on Emerald City, an experimental section of the prison where all the cells have glass fronts and face inwards, so privacy is not high on the agenda. Em City is home to many..Aryans, Muslims, gangstas, Latinos, Christians, Italians, Irish and more....so scuffles, death stares, dodgy dealings and shady agreements are never far away. I would say the main appeal of the show is due to the fact that it goes where other shows wouldn't dare. Forget pretty pictures painted for mainstream audiences, forget charm, forget romance...OZ doesn't mess around. The first episode I ever saw struck me as so nasty it was surreal, I couldn't say I was ready for it, but as I watched more, I developed a taste for Oz, and got accustomed to the high levels of graphic violence. Not just violence, but injustice (crooked guards who'll be sold out for a nickel, inmates who'll kill on order and get away with it, well mannered, middle class inmates being turned into prison bitches due to their lack of street skills or prison experience) Watching Oz, you may become comfortable with what is uncomfortable viewing....thats if you can get in touch with your darker side.</td>\n",
              "      <td>one of the other reviewers has mentioned that after watching just  oz episode youll be hooked they are right as this is exactly what happened with me the first thing that struck me about oz was its brutality and unflinching scenes of violence which set in right from the word go trust me this is not a show for the faint hearted or timid this show pulls no punches with regards to drugs sex or violence its is hardcore in the classic use of the word it is called oz as that is the nickname given to the oswald maximum security state penitentary it focuses mainly on emerald city an experimental section of the prison where all the cells have glass fronts and face inwards so privacy is not high on the agenda em city is home to manyaryans muslims gangstas latinos christians italians irish and moreso scuffles death stares dodgy dealings and shady agreements are never far away i would say the main appeal of the show is due to the fact that it goes where other shows wouldnt dare forget pretty pictures painted for mainstream audiences forget charm forget romanceoz doesnt mess around the first episode i ever saw struck me as so nasty it was surreal i couldnt say i was ready for it but as i watched more i developed a taste for oz and got accustomed to the high levels of graphic violence not just violence but injustice crooked guards wholl be sold out for a nickel inmates wholl kill on order and get away with it well mannered middle class inmates being turned into prison bitches due to their lack of street skills or prison experience watching oz you may become comfortable with what is uncomfortable viewingthats if you can get in touch with your darker side</td>\n",
              "      <td>1</td>\n",
              "    </tr>\n",
              "  </tbody>\n",
              "</table>\n",
              "</div>"
            ],
            "text/plain": [
              "                                                                                                                                                                                                                                                                                                                                                                                                                                                                                                                                                                                                                                                                                                                                                                                                                                                                                                                                                                                                                                                                                                                                                                                                                                                                                                                                                                                                                                                                                                                                                                                                                                                                                                                                                                                             review  ... label\n",
              "0  One of the other reviewers has mentioned that after watching just 1 Oz episode you'll be hooked. They are right, as this is exactly what happened with me. The first thing that struck me about Oz was its brutality and unflinching scenes of violence, which set in right from the word GO. Trust me, this is not a show for the faint hearted or timid. This show pulls no punches with regards to drugs, sex or violence. Its is hardcore, in the classic use of the word. It is called OZ as that is the nickname given to the Oswald Maximum Security State Penitentary. It focuses mainly on Emerald City, an experimental section of the prison where all the cells have glass fronts and face inwards, so privacy is not high on the agenda. Em City is home to many..Aryans, Muslims, gangstas, Latinos, Christians, Italians, Irish and more....so scuffles, death stares, dodgy dealings and shady agreements are never far away. I would say the main appeal of the show is due to the fact that it goes where other shows wouldn't dare. Forget pretty pictures painted for mainstream audiences, forget charm, forget romance...OZ doesn't mess around. The first episode I ever saw struck me as so nasty it was surreal, I couldn't say I was ready for it, but as I watched more, I developed a taste for Oz, and got accustomed to the high levels of graphic violence. Not just violence, but injustice (crooked guards who'll be sold out for a nickel, inmates who'll kill on order and get away with it, well mannered, middle class inmates being turned into prison bitches due to their lack of street skills or prison experience) Watching Oz, you may become comfortable with what is uncomfortable viewing....thats if you can get in touch with your darker side.  ...  1   \n",
              "\n",
              "[1 rows x 3 columns]"
            ]
          },
          "metadata": {
            "tags": []
          },
          "execution_count": 8
        }
      ]
    },
    {
      "cell_type": "markdown",
      "metadata": {
        "id": "9mQ9Pty7MKGT"
      },
      "source": [
        "### Stopword Removal"
      ]
    },
    {
      "cell_type": "code",
      "metadata": {
        "colab": {
          "base_uri": "https://localhost:8080/"
        },
        "id": "qGt2PIcBLi3h",
        "outputId": "7ece3bf6-0a66-4944-9409-d37318190649"
      },
      "source": [
        "import nltk\n",
        "from nltk.corpus import stopwords\n",
        "from nltk.tokenize import word_tokenize\n",
        "nltk.download('stopwords')"
      ],
      "execution_count": 9,
      "outputs": [
        {
          "output_type": "stream",
          "text": [
            "[nltk_data] Downloading package stopwords to /root/nltk_data...\n",
            "[nltk_data]   Package stopwords is already up-to-date!\n"
          ],
          "name": "stdout"
        },
        {
          "output_type": "execute_result",
          "data": {
            "text/plain": [
              "True"
            ]
          },
          "metadata": {
            "tags": []
          },
          "execution_count": 9
        }
      ]
    },
    {
      "cell_type": "code",
      "metadata": {
        "colab": {
          "base_uri": "https://localhost:8080/"
        },
        "id": "AtWIBVfdSIcd",
        "outputId": "bb615131-dce6-4ea4-cd57-bcabd53f13ae"
      },
      "source": [
        "stop_words = stopwords.words('english')\n",
        "print(stop_words)\n",
        "print(len(stop_words))"
      ],
      "execution_count": 10,
      "outputs": [
        {
          "output_type": "stream",
          "text": [
            "['i', 'me', 'my', 'myself', 'we', 'our', 'ours', 'ourselves', 'you', \"you're\", \"you've\", \"you'll\", \"you'd\", 'your', 'yours', 'yourself', 'yourselves', 'he', 'him', 'his', 'himself', 'she', \"she's\", 'her', 'hers', 'herself', 'it', \"it's\", 'its', 'itself', 'they', 'them', 'their', 'theirs', 'themselves', 'what', 'which', 'who', 'whom', 'this', 'that', \"that'll\", 'these', 'those', 'am', 'is', 'are', 'was', 'were', 'be', 'been', 'being', 'have', 'has', 'had', 'having', 'do', 'does', 'did', 'doing', 'a', 'an', 'the', 'and', 'but', 'if', 'or', 'because', 'as', 'until', 'while', 'of', 'at', 'by', 'for', 'with', 'about', 'against', 'between', 'into', 'through', 'during', 'before', 'after', 'above', 'below', 'to', 'from', 'up', 'down', 'in', 'out', 'on', 'off', 'over', 'under', 'again', 'further', 'then', 'once', 'here', 'there', 'when', 'where', 'why', 'how', 'all', 'any', 'both', 'each', 'few', 'more', 'most', 'other', 'some', 'such', 'no', 'nor', 'not', 'only', 'own', 'same', 'so', 'than', 'too', 'very', 's', 't', 'can', 'will', 'just', 'don', \"don't\", 'should', \"should've\", 'now', 'd', 'll', 'm', 'o', 're', 've', 'y', 'ain', 'aren', \"aren't\", 'couldn', \"couldn't\", 'didn', \"didn't\", 'doesn', \"doesn't\", 'hadn', \"hadn't\", 'hasn', \"hasn't\", 'haven', \"haven't\", 'isn', \"isn't\", 'ma', 'mightn', \"mightn't\", 'mustn', \"mustn't\", 'needn', \"needn't\", 'shan', \"shan't\", 'shouldn', \"shouldn't\", 'wasn', \"wasn't\", 'weren', \"weren't\", 'won', \"won't\", 'wouldn', \"wouldn't\"]\n",
            "179\n"
          ],
          "name": "stdout"
        }
      ]
    },
    {
      "cell_type": "code",
      "metadata": {
        "id": "YjW_wwtcSAHz"
      },
      "source": [
        "def removeStopword(df,stop_words_):\n",
        "    for stop_word in stop_words_:\n",
        "        regex_stopword = r\"\\b\" + stop_word + r\"\\b\"\n",
        "        df = df.str.replace(regex_stopword, '')\n",
        "    return df"
      ],
      "execution_count": 11,
      "outputs": []
    },
    {
      "cell_type": "code",
      "metadata": {
        "id": "StDf-CM9SEb9"
      },
      "source": [
        "data['review_stopword'] = removeStopword(data['review_clean'],stop_words)\n",
        "dataB = data['review_stopword']"
      ],
      "execution_count": 12,
      "outputs": []
    },
    {
      "cell_type": "code",
      "metadata": {
        "colab": {
          "base_uri": "https://localhost:8080/",
          "height": 406
        },
        "id": "FpPCrnGvSPle",
        "outputId": "6f240e69-3113-4d6d-f37c-5b67ae47a6ed"
      },
      "source": [
        "data = data[['label','review','review_clean','review_stopword']]\n",
        "data.head(1)"
      ],
      "execution_count": 13,
      "outputs": [
        {
          "output_type": "execute_result",
          "data": {
            "text/html": [
              "<div>\n",
              "<style scoped>\n",
              "    .dataframe tbody tr th:only-of-type {\n",
              "        vertical-align: middle;\n",
              "    }\n",
              "\n",
              "    .dataframe tbody tr th {\n",
              "        vertical-align: top;\n",
              "    }\n",
              "\n",
              "    .dataframe thead th {\n",
              "        text-align: right;\n",
              "    }\n",
              "</style>\n",
              "<table border=\"1\" class=\"dataframe\">\n",
              "  <thead>\n",
              "    <tr style=\"text-align: right;\">\n",
              "      <th></th>\n",
              "      <th>label</th>\n",
              "      <th>review</th>\n",
              "      <th>review_clean</th>\n",
              "      <th>review_stopword</th>\n",
              "    </tr>\n",
              "  </thead>\n",
              "  <tbody>\n",
              "    <tr>\n",
              "      <th>0</th>\n",
              "      <td>1</td>\n",
              "      <td>One of the other reviewers has mentioned that after watching just 1 Oz episode you'll be hooked. They are right, as this is exactly what happened with me. The first thing that struck me about Oz was its brutality and unflinching scenes of violence, which set in right from the word GO. Trust me, this is not a show for the faint hearted or timid. This show pulls no punches with regards to drugs, sex or violence. Its is hardcore, in the classic use of the word. It is called OZ as that is the nickname given to the Oswald Maximum Security State Penitentary. It focuses mainly on Emerald City, an experimental section of the prison where all the cells have glass fronts and face inwards, so privacy is not high on the agenda. Em City is home to many..Aryans, Muslims, gangstas, Latinos, Christians, Italians, Irish and more....so scuffles, death stares, dodgy dealings and shady agreements are never far away. I would say the main appeal of the show is due to the fact that it goes where other shows wouldn't dare. Forget pretty pictures painted for mainstream audiences, forget charm, forget romance...OZ doesn't mess around. The first episode I ever saw struck me as so nasty it was surreal, I couldn't say I was ready for it, but as I watched more, I developed a taste for Oz, and got accustomed to the high levels of graphic violence. Not just violence, but injustice (crooked guards who'll be sold out for a nickel, inmates who'll kill on order and get away with it, well mannered, middle class inmates being turned into prison bitches due to their lack of street skills or prison experience) Watching Oz, you may become comfortable with what is uncomfortable viewing....thats if you can get in touch with your darker side.</td>\n",
              "      <td>one of the other reviewers has mentioned that after watching just  oz episode youll be hooked they are right as this is exactly what happened with me the first thing that struck me about oz was its brutality and unflinching scenes of violence which set in right from the word go trust me this is not a show for the faint hearted or timid this show pulls no punches with regards to drugs sex or violence its is hardcore in the classic use of the word it is called oz as that is the nickname given to the oswald maximum security state penitentary it focuses mainly on emerald city an experimental section of the prison where all the cells have glass fronts and face inwards so privacy is not high on the agenda em city is home to manyaryans muslims gangstas latinos christians italians irish and moreso scuffles death stares dodgy dealings and shady agreements are never far away i would say the main appeal of the show is due to the fact that it goes where other shows wouldnt dare forget pretty pictures painted for mainstream audiences forget charm forget romanceoz doesnt mess around the first episode i ever saw struck me as so nasty it was surreal i couldnt say i was ready for it but as i watched more i developed a taste for oz and got accustomed to the high levels of graphic violence not just violence but injustice crooked guards wholl be sold out for a nickel inmates wholl kill on order and get away with it well mannered middle class inmates being turned into prison bitches due to their lack of street skills or prison experience watching oz you may become comfortable with what is uncomfortable viewingthats if you can get in touch with your darker side</td>\n",
              "      <td>one    reviewers  mentioned   watching   oz episode youll  hooked   right    exactly  happened    first thing  struck   oz   brutality  unflinching scenes  violence  set  right   word go trust      show   faint hearted  timid  show pulls  punches  regards  drugs sex  violence   hardcore   classic use   word   called oz     nickname given   oswald maximum security state penitentary  focuses mainly  emerald city  experimental section   prison    cells  glass fronts  face inwards  privacy   high   agenda em city  home  manyaryans muslims gangstas latinos christians italians irish  moreso scuffles death stares dodgy dealings  shady agreements  never far away  would say  main appeal   show  due   fact   goes   shows wouldnt dare forget pretty pictures painted  mainstream audiences forget charm forget romanceoz doesnt mess around  first episode  ever saw struck    nasty   surreal  couldnt say   ready      watched   developed  taste  oz  got accustomed   high levels  graphic violence   violence  injustice crooked guards wholl  sold    nickel inmates wholl kill  order  get away   well mannered middle class inmates  turned  prison bitches due   lack  street skills  prison experience watching oz  may become comfortable    uncomfortable viewingthats    get  touch   darker side</td>\n",
              "    </tr>\n",
              "  </tbody>\n",
              "</table>\n",
              "</div>"
            ],
            "text/plain": [
              "   label  ...                                                                                                                                                                                                                                                                                                                                                                                                                                                                                                                                                                                                                                                                                                                                                                                                                                                                                                                                                                                                                                                                                                                                                                                                                                                                                                                         review_stopword\n",
              "0  1      ...  one    reviewers  mentioned   watching   oz episode youll  hooked   right    exactly  happened    first thing  struck   oz   brutality  unflinching scenes  violence  set  right   word go trust      show   faint hearted  timid  show pulls  punches  regards  drugs sex  violence   hardcore   classic use   word   called oz     nickname given   oswald maximum security state penitentary  focuses mainly  emerald city  experimental section   prison    cells  glass fronts  face inwards  privacy   high   agenda em city  home  manyaryans muslims gangstas latinos christians italians irish  moreso scuffles death stares dodgy dealings  shady agreements  never far away  would say  main appeal   show  due   fact   goes   shows wouldnt dare forget pretty pictures painted  mainstream audiences forget charm forget romanceoz doesnt mess around  first episode  ever saw struck    nasty   surreal  couldnt say   ready      watched   developed  taste  oz  got accustomed   high levels  graphic violence   violence  injustice crooked guards wholl  sold    nickel inmates wholl kill  order  get away   well mannered middle class inmates  turned  prison bitches due   lack  street skills  prison experience watching oz  may become comfortable    uncomfortable viewingthats    get  touch   darker side\n",
              "\n",
              "[1 rows x 4 columns]"
            ]
          },
          "metadata": {
            "tags": []
          },
          "execution_count": 13
        }
      ]
    },
    {
      "cell_type": "markdown",
      "metadata": {
        "id": "ylEVOoNBTyx1"
      },
      "source": [
        "### Lemmatization & Stemming"
      ]
    },
    {
      "cell_type": "code",
      "metadata": {
        "colab": {
          "base_uri": "https://localhost:8080/"
        },
        "id": "3m4msRBNTye5",
        "outputId": "992115b6-4e3e-4b8c-8169-2d3a62830056"
      },
      "source": [
        "from nltk.stem import WordNetLemmatizer\n",
        "from nltk.corpus import wordnet\n",
        "nltk.download('wordnet')\n",
        "nltk.download('punkt')\n",
        "nltk.download('averaged_perceptron_tagger')"
      ],
      "execution_count": 14,
      "outputs": [
        {
          "output_type": "stream",
          "text": [
            "[nltk_data] Downloading package wordnet to /root/nltk_data...\n",
            "[nltk_data]   Package wordnet is already up-to-date!\n",
            "[nltk_data] Downloading package punkt to /root/nltk_data...\n",
            "[nltk_data]   Package punkt is already up-to-date!\n",
            "[nltk_data] Downloading package averaged_perceptron_tagger to\n",
            "[nltk_data]     /root/nltk_data...\n",
            "[nltk_data]   Package averaged_perceptron_tagger is already up-to-\n",
            "[nltk_data]       date!\n"
          ],
          "name": "stdout"
        },
        {
          "output_type": "execute_result",
          "data": {
            "text/plain": [
              "True"
            ]
          },
          "metadata": {
            "tags": []
          },
          "execution_count": 14
        }
      ]
    },
    {
      "cell_type": "markdown",
      "metadata": {
        "id": "C9BMkE1uQHKI"
      },
      "source": [
        "#### Lemmatization"
      ]
    },
    {
      "cell_type": "code",
      "metadata": {
        "id": "4d0ZmnvRUZK5"
      },
      "source": [
        "lemmatizer = WordNetLemmatizer() # nltk"
      ],
      "execution_count": 15,
      "outputs": []
    },
    {
      "cell_type": "code",
      "metadata": {
        "id": "Yt659uAWGQyM"
      },
      "source": [
        "def nltk_tag_to_wordnet_tag(nltk_tag):\n",
        "  \n",
        "    if nltk_tag.startswith('J'):\n",
        "        return wordnet.ADJ\n",
        "    elif nltk_tag.startswith('V'):\n",
        "        return wordnet.VERB\n",
        "    elif nltk_tag.startswith('N'):\n",
        "        return wordnet.NOUN\n",
        "    elif nltk_tag.startswith('R'):\n",
        "        return wordnet.ADV\n",
        "    else:          \n",
        "        return None"
      ],
      "execution_count": 16,
      "outputs": []
    },
    {
      "cell_type": "code",
      "metadata": {
        "id": "wUsNrTjRGWwU"
      },
      "source": [
        "def lemmatize_sentence(sentence):\n",
        " \n",
        "    nltk_tagged = nltk.pos_tag(nltk.word_tokenize(sentence))  \n",
        "\n",
        "    wordnet_tagged = map(lambda x: (x[0], nltk_tag_to_wordnet_tag(x[1])), nltk_tagged)\n",
        "    lemmatized_sentence = []\n",
        "    for word, tag in wordnet_tagged:\n",
        "        if tag is None:\n",
        " \n",
        "            lemmatized_sentence.append(word)\n",
        "        else:        \n",
        "           \n",
        "            lemmatized_sentence.append(lemmatizer.lemmatize(word, tag))\n",
        "    return \" \".join(lemmatized_sentence)"
      ],
      "execution_count": 17,
      "outputs": []
    },
    {
      "cell_type": "markdown",
      "metadata": {
        "id": "aKj6gyYqGR6N"
      },
      "source": [
        "#### Stemming"
      ]
    },
    {
      "cell_type": "code",
      "metadata": {
        "id": "YFdb9ssSUd4A"
      },
      "source": [
        "def stemming(text, lemmatizer):\n",
        "    text_split = text.split(\" \")\n",
        "    stemmed_list = []\n",
        "    for i in text_split:\n",
        "        stem_text1 = lemmatizer.lemmatize(i, pos=\"v\")\n",
        "        stem_text2 = lemmatizer.lemmatize(stem_text1, pos=\"n\")\n",
        "        stem_text3 = lemmatizer.lemmatize(stem_text2, pos=\"a\")\n",
        "        stemmed_list.append(stem_text3)\n",
        "    stemmed = ' '.join(map(str,stemmed_list))\n",
        "    return stemmed\n",
        "\n",
        "def stemData(data, lemmatizer):\n",
        "    for i,v in enumerate(data):\n",
        "      data[i]=lemmatize_sentence(v)\n",
        "    \n",
        "    data = data.map(lambda com : stemming(com,lemmatizer))\n",
        "    return data"
      ],
      "execution_count": 18,
      "outputs": []
    },
    {
      "cell_type": "code",
      "metadata": {
        "colab": {
          "base_uri": "https://localhost:8080/",
          "height": 0
        },
        "id": "f1yQh0uBVxdM",
        "outputId": "eb6f4857-8d30-4a79-9a93-1b510c6bfda8"
      },
      "source": [
        "data['review_LST'] = stemData(data['review_stopword'], lemmatizer)\n",
        "data = data[['label','review','review_clean','review_LST']]\n",
        "data = pd.concat([data, dataB], axis=1)\n",
        "data = data[['label','review','review_clean','review_stopword','review_LST']]\n",
        "data.head(1)"
      ],
      "execution_count": 19,
      "outputs": [
        {
          "output_type": "stream",
          "text": [
            "/usr/local/lib/python3.7/dist-packages/ipykernel_launcher.py:14: SettingWithCopyWarning: \n",
            "A value is trying to be set on a copy of a slice from a DataFrame\n",
            "\n",
            "See the caveats in the documentation: https://pandas.pydata.org/pandas-docs/stable/user_guide/indexing.html#returning-a-view-versus-a-copy\n",
            "  \n"
          ],
          "name": "stderr"
        },
        {
          "output_type": "execute_result",
          "data": {
            "text/html": [
              "<div>\n",
              "<style scoped>\n",
              "    .dataframe tbody tr th:only-of-type {\n",
              "        vertical-align: middle;\n",
              "    }\n",
              "\n",
              "    .dataframe tbody tr th {\n",
              "        vertical-align: top;\n",
              "    }\n",
              "\n",
              "    .dataframe thead th {\n",
              "        text-align: right;\n",
              "    }\n",
              "</style>\n",
              "<table border=\"1\" class=\"dataframe\">\n",
              "  <thead>\n",
              "    <tr style=\"text-align: right;\">\n",
              "      <th></th>\n",
              "      <th>label</th>\n",
              "      <th>review</th>\n",
              "      <th>review_clean</th>\n",
              "      <th>review_stopword</th>\n",
              "      <th>review_LST</th>\n",
              "    </tr>\n",
              "  </thead>\n",
              "  <tbody>\n",
              "    <tr>\n",
              "      <th>0</th>\n",
              "      <td>1</td>\n",
              "      <td>One of the other reviewers has mentioned that after watching just 1 Oz episode you'll be hooked. They are right, as this is exactly what happened with me. The first thing that struck me about Oz was its brutality and unflinching scenes of violence, which set in right from the word GO. Trust me, this is not a show for the faint hearted or timid. This show pulls no punches with regards to drugs, sex or violence. Its is hardcore, in the classic use of the word. It is called OZ as that is the nickname given to the Oswald Maximum Security State Penitentary. It focuses mainly on Emerald City, an experimental section of the prison where all the cells have glass fronts and face inwards, so privacy is not high on the agenda. Em City is home to many..Aryans, Muslims, gangstas, Latinos, Christians, Italians, Irish and more....so scuffles, death stares, dodgy dealings and shady agreements are never far away. I would say the main appeal of the show is due to the fact that it goes where other shows wouldn't dare. Forget pretty pictures painted for mainstream audiences, forget charm, forget romance...OZ doesn't mess around. The first episode I ever saw struck me as so nasty it was surreal, I couldn't say I was ready for it, but as I watched more, I developed a taste for Oz, and got accustomed to the high levels of graphic violence. Not just violence, but injustice (crooked guards who'll be sold out for a nickel, inmates who'll kill on order and get away with it, well mannered, middle class inmates being turned into prison bitches due to their lack of street skills or prison experience) Watching Oz, you may become comfortable with what is uncomfortable viewing....thats if you can get in touch with your darker side.</td>\n",
              "      <td>one of the other reviewers has mentioned that after watching just  oz episode youll be hooked they are right as this is exactly what happened with me the first thing that struck me about oz was its brutality and unflinching scenes of violence which set in right from the word go trust me this is not a show for the faint hearted or timid this show pulls no punches with regards to drugs sex or violence its is hardcore in the classic use of the word it is called oz as that is the nickname given to the oswald maximum security state penitentary it focuses mainly on emerald city an experimental section of the prison where all the cells have glass fronts and face inwards so privacy is not high on the agenda em city is home to manyaryans muslims gangstas latinos christians italians irish and moreso scuffles death stares dodgy dealings and shady agreements are never far away i would say the main appeal of the show is due to the fact that it goes where other shows wouldnt dare forget pretty pictures painted for mainstream audiences forget charm forget romanceoz doesnt mess around the first episode i ever saw struck me as so nasty it was surreal i couldnt say i was ready for it but as i watched more i developed a taste for oz and got accustomed to the high levels of graphic violence not just violence but injustice crooked guards wholl be sold out for a nickel inmates wholl kill on order and get away with it well mannered middle class inmates being turned into prison bitches due to their lack of street skills or prison experience watching oz you may become comfortable with what is uncomfortable viewingthats if you can get in touch with your darker side</td>\n",
              "      <td>one    reviewers  mentioned   watching   oz episode youll  hooked   right    exactly  happened    first thing  struck   oz   brutality  unflinching scenes  violence  set  right   word go trust      show   faint hearted  timid  show pulls  punches  regards  drugs sex  violence   hardcore   classic use   word   called oz     nickname given   oswald maximum security state penitentary  focuses mainly  emerald city  experimental section   prison    cells  glass fronts  face inwards  privacy   high   agenda em city  home  manyaryans muslims gangstas latinos christians italians irish  moreso scuffles death stares dodgy dealings  shady agreements  never far away  would say  main appeal   show  due   fact   goes   shows wouldnt dare forget pretty pictures painted  mainstream audiences forget charm forget romanceoz doesnt mess around  first episode  ever saw struck    nasty   surreal  couldnt say   ready      watched   developed  taste  oz  got accustomed   high levels  graphic violence   violence  injustice crooked guards wholl  sold    nickel inmates wholl kill  order  get away   well mannered middle class inmates  turned  prison bitches due   lack  street skills  prison experience watching oz  may become comfortable    uncomfortable viewingthats    get  touch   darker side</td>\n",
              "      <td>one reviewer mention watch oz episode youll hook right exactly happen first thing strike oz brutality unflinching scene violence set right word go trust show faint hearted timid show pull punch regard drug sex violence hardcore classic use word call oz nickname give oswald maximum security state penitentary focus mainly emerald city experimental section prison cell glass front face inwards privacy high agenda em city home manyaryans muslim gangsta latino christian italian irish moreso scuffle death stare dodgy deal shady agreement never far away would say main appeal show due fact go show wouldnt dare forget pretty picture paint mainstream audience forget charm forget romanceoz doesnt mess around first episode ever saw strike nasty surreal couldnt say ready watch develop taste oz get accustom high level graphic violence violence injustice crook guard wholl sell nickel inmate wholl kill order get away well mannered middle class inmate turn prison bitch due lack street skill prison experience watch oz may become comfortable uncomfortable viewingthats get touch dark side</td>\n",
              "    </tr>\n",
              "  </tbody>\n",
              "</table>\n",
              "</div>"
            ],
            "text/plain": [
              "   label  ...                                                                                                                                                                                                                                                                                                                                                                                                                                                                                                                                                                                                                                                                                                                                                                                                                                                                                                                                                                                                                                                                                                                    review_LST\n",
              "0  1      ...  one reviewer mention watch oz episode youll hook right exactly happen first thing strike oz brutality unflinching scene violence set right word go trust show faint hearted timid show pull punch regard drug sex violence hardcore classic use word call oz nickname give oswald maximum security state penitentary focus mainly emerald city experimental section prison cell glass front face inwards privacy high agenda em city home manyaryans muslim gangsta latino christian italian irish moreso scuffle death stare dodgy deal shady agreement never far away would say main appeal show due fact go show wouldnt dare forget pretty picture paint mainstream audience forget charm forget romanceoz doesnt mess around first episode ever saw strike nasty surreal couldnt say ready watch develop taste oz get accustom high level graphic violence violence injustice crook guard wholl sell nickel inmate wholl kill order get away well mannered middle class inmate turn prison bitch due lack street skill prison experience watch oz may become comfortable uncomfortable viewingthats get touch dark side\n",
              "\n",
              "[1 rows x 5 columns]"
            ]
          },
          "metadata": {
            "tags": []
          },
          "execution_count": 19
        }
      ]
    },
    {
      "cell_type": "markdown",
      "metadata": {
        "id": "xvaJLZEJXtvj"
      },
      "source": [
        "#### Save data"
      ]
    },
    {
      "cell_type": "code",
      "metadata": {
        "id": "BCrDSvIQe_bZ"
      },
      "source": [
        "data_prep_stem = data[['review_LST','label']]\n",
        "data_prep_stem = data_prep_stem.rename(columns={'review_LST' : 'review'})\n",
        "\n",
        "data_prep_stem.to_csv(\"/content/drive/My Drive/TA/prep/data_prep_stem.csv\")"
      ],
      "execution_count": 20,
      "outputs": []
    },
    {
      "cell_type": "code",
      "metadata": {
        "id": "kuzsDZzhgmqD"
      },
      "source": [
        "data_prep_unstem = data[['review_stopword','label']]\n",
        "data_prep_unstem = data_prep_stem.rename(columns={'review_stopword' : 'review'})\n",
        "\n",
        "data_prep_unstem.to_csv(\"/content/drive/My Drive/TA/prep/data_prep_unstem.csv\")"
      ],
      "execution_count": 21,
      "outputs": []
    },
    {
      "cell_type": "markdown",
      "metadata": {
        "id": "a_Wbo6kGkKiP"
      },
      "source": [
        "## Data Splitting"
      ]
    },
    {
      "cell_type": "code",
      "metadata": {
        "id": "nkiY3u2niHcF"
      },
      "source": [
        "from sklearn.model_selection import train_test_split\n",
        "\n",
        "def splitData(df):\n",
        "    X_train, X_test, y_train, y_test = train_test_split(df['review'], df[['label']], test_size = 0.5, random_state= 42, shuffle = True)\n",
        "\n",
        "    df_train = y_train.copy() \n",
        "    df_train = df_train.join(X_train)\n",
        "\n",
        "    df_test = y_test.copy() \n",
        "    df_test = df_test.join(X_test)\n",
        "\n",
        "    return df_train, df_test\n",
        "\n",
        "data_train_stem, data_test_stem = splitData(data_prep_stem)\n",
        "data_train_unstem, data_test_unstem= splitData(data_prep_unstem)"
      ],
      "execution_count": 22,
      "outputs": []
    },
    {
      "cell_type": "code",
      "metadata": {
        "colab": {
          "base_uri": "https://localhost:8080/"
        },
        "id": "I7estqlHi1Yb",
        "outputId": "f649ff1d-ed83-408f-d622-d0705a0eef74"
      },
      "source": [
        "print(\"#STEM\")\n",
        "print(\"Data Train\")\n",
        "print('Jumlah Data :', len(data_train_stem))\n",
        "print('Label : ', data_train_stem.groupby(['label'])['label'].count())\n",
        "print()\n",
        "print(\"Data Test\")\n",
        "print('Jumlah Data :', len(data_test_stem))\n",
        "print('Label : ', data_test_stem.groupby(['label'])['label'].count())\n",
        "\n",
        "print()\n",
        "print()\n",
        "\n",
        "print(\"#UNSTEM\")\n",
        "print(\"Data Train\")\n",
        "print('Jumlah Data :', len(data_train_unstem))\n",
        "print('Label : ', data_train_unstem.groupby(['label'])['label'].count())\n",
        "print()\n",
        "print(\"Data Test\")\n",
        "print('Jumlah Data :', len(data_test_unstem))\n",
        "print('Label : ', data_test_unstem.groupby(['label'])['label'].count())"
      ],
      "execution_count": 23,
      "outputs": [
        {
          "output_type": "stream",
          "text": [
            "#STEM\n",
            "Data Train\n",
            "Jumlah Data : 1000\n",
            "Label :  label\n",
            "0    526\n",
            "1    474\n",
            "Name: label, dtype: int64\n",
            "\n",
            "Data Test\n",
            "Jumlah Data : 1000\n",
            "Label :  label\n",
            "0    490\n",
            "1    510\n",
            "Name: label, dtype: int64\n",
            "\n",
            "\n",
            "#UNSTEM\n",
            "Data Train\n",
            "Jumlah Data : 1000\n",
            "Label :  label\n",
            "0    526\n",
            "1    474\n",
            "Name: label, dtype: int64\n",
            "\n",
            "Data Test\n",
            "Jumlah Data : 1000\n",
            "Label :  label\n",
            "0    490\n",
            "1    510\n",
            "Name: label, dtype: int64\n"
          ],
          "name": "stdout"
        }
      ]
    },
    {
      "cell_type": "code",
      "metadata": {
        "id": "awD5rS9to7Rv"
      },
      "source": [
        "data_train_stem.to_csv(\"data_train_stem.csv\")\n",
        "data_test_stem.to_csv(\"data_test_stem.csv\")\n",
        "\n",
        "data_train_unstem.to_csv(\"data_train_unstem.csv\")\n",
        "data_test_unstem.to_csv(\"data_test_unstem.csv\")"
      ],
      "execution_count": 24,
      "outputs": []
    },
    {
      "cell_type": "code",
      "metadata": {
        "id": "J1XrHMvhpNyG"
      },
      "source": [
        "x_train_stem = data_train_stem['review']\n",
        "x_test_stem = data_test_stem['review']\n",
        "y_train_stem = data_train_stem.drop(['review'],axis=1)\n",
        "y_test_stem = data_test_stem.drop(['review'],axis=1)"
      ],
      "execution_count": 25,
      "outputs": []
    },
    {
      "cell_type": "code",
      "metadata": {
        "id": "bSV2yF1HpUwF"
      },
      "source": [
        "x_train_unstem = data_train_unstem['review']\n",
        "x_test_unstem = data_test_unstem['review']\n",
        "y_train_unstem = data_train_unstem.drop(['review'],axis=1)\n",
        "y_test_unstem = data_test_unstem.drop(['review'],axis=1)"
      ],
      "execution_count": 26,
      "outputs": []
    },
    {
      "cell_type": "markdown",
      "metadata": {
        "id": "TjlHrCklgy0n"
      },
      "source": [
        "# Feature Extraction"
      ]
    },
    {
      "cell_type": "markdown",
      "metadata": {
        "id": "fDqyoy4vrizt"
      },
      "source": [
        "## Word2Vec"
      ]
    },
    {
      "cell_type": "code",
      "metadata": {
        "colab": {
          "base_uri": "https://localhost:8080/"
        },
        "id": "0FZBA6uhrmCC",
        "outputId": "5727763c-08b2-42bd-e182-de198de16741"
      },
      "source": [
        "!pip install gensim\n",
        "\n",
        "import re\n",
        "\n",
        "from gensim.models import Word2Vec\n",
        "from gensim.models import KeyedVectors\n",
        "\n",
        "import warnings\n",
        "warnings.filterwarnings(\"ignore\")"
      ],
      "execution_count": 27,
      "outputs": [
        {
          "output_type": "stream",
          "text": [
            "Requirement already satisfied: gensim in /usr/local/lib/python3.7/dist-packages (3.6.0)\n",
            "Requirement already satisfied: six>=1.5.0 in /usr/local/lib/python3.7/dist-packages (from gensim) (1.15.0)\n",
            "Requirement already satisfied: scipy>=0.18.1 in /usr/local/lib/python3.7/dist-packages (from gensim) (1.4.1)\n",
            "Requirement already satisfied: smart-open>=1.2.1 in /usr/local/lib/python3.7/dist-packages (from gensim) (5.0.0)\n",
            "Requirement already satisfied: numpy>=1.11.3 in /usr/local/lib/python3.7/dist-packages (from gensim) (1.19.5)\n"
          ],
          "name": "stdout"
        }
      ]
    },
    {
      "cell_type": "markdown",
      "metadata": {
        "id": "NZPIUcIwxmdk"
      },
      "source": [
        "### Dimension = 100"
      ]
    },
    {
      "cell_type": "markdown",
      "metadata": {
        "id": "kCsuVrviJiZg"
      },
      "source": [
        "#### Skipgram"
      ]
    },
    {
      "cell_type": "code",
      "metadata": {
        "id": "2GboI3sBr752"
      },
      "source": [
        "modelword2vec_100 = KeyedVectors.load_word2vec_format(\"/content/drive/My Drive/TA/ws_model100.txt\")"
      ],
      "execution_count": 28,
      "outputs": []
    },
    {
      "cell_type": "markdown",
      "metadata": {
        "id": "KbsV76AvtF3E"
      },
      "source": [
        "#### Tokenization"
      ]
    },
    {
      "cell_type": "code",
      "metadata": {
        "id": "-wufEowCtC6f"
      },
      "source": [
        "class MyTokenizer:\n",
        "    def __init__(self):\n",
        "        pass\n",
        "    \n",
        "    def fit(self, X, y=None):\n",
        "        return self\n",
        "    \n",
        "    def transform(self, X):\n",
        "        transformed_X = []\n",
        "        for document in X:\n",
        "            tokenized_doc = []\n",
        "            for sent in nltk.sent_tokenize(document):\n",
        "                tokenized_doc += nltk.word_tokenize(sent)\n",
        "            transformed_X.append(np.array(tokenized_doc))\n",
        "        return np.array(transformed_X)\n",
        "    \n",
        "    def fit_transform(self, X, y=None):\n",
        "        return self.transform(X)"
      ],
      "execution_count": 29,
      "outputs": []
    },
    {
      "cell_type": "markdown",
      "metadata": {
        "id": "m4LX79_NtLz-"
      },
      "source": [
        "#### Mean Embedding Vectorizer"
      ]
    },
    {
      "cell_type": "code",
      "metadata": {
        "id": "n4nwPeSStPRF"
      },
      "source": [
        "class MeanEmbeddingVectorizer(object):\n",
        "    def __init__(self, word2vec):\n",
        "        self.word2vec = word2vec\n",
        "        # bila kata kosong akan return vecktor 0 dengan dimensi yang sama untuk semua vektor lainnya\n",
        "        self.dim = len(word2vec.wv.syn0[0])\n",
        "\n",
        "    def fit(self, X, y=None):\n",
        "        return self\n",
        "\n",
        "    def transform(self, X):\n",
        "        X = MyTokenizer().fit_transform(X)\n",
        "        return np.array([\n",
        "            np.mean([self.word2vec.wv[w] for w in words if w in self.word2vec.wv]\n",
        "                    or [np.zeros(self.dim)], axis=0)\n",
        "            for words in X\n",
        "        ])\n",
        "    def cek(self,xx):\n",
        "      return self.word2vec.wv[xx]\n",
        "    def fit_transform(self, X, y=None):\n",
        "        return self.transform(X)"
      ],
      "execution_count": 30,
      "outputs": []
    },
    {
      "cell_type": "code",
      "metadata": {
        "id": "Muh7CXMttsxh"
      },
      "source": [
        "mean_embedding_vectorizer = MeanEmbeddingVectorizer(modelword2vec_100)"
      ],
      "execution_count": 31,
      "outputs": []
    },
    {
      "cell_type": "markdown",
      "metadata": {
        "id": "_X-xfQ1Et8R6"
      },
      "source": [
        "#### Implementation"
      ]
    },
    {
      "cell_type": "code",
      "metadata": {
        "id": "kYW5T-uyt7j9"
      },
      "source": [
        "def word2vec (X_train_,X_test_,y_train_,y_test_):\n",
        "    features_train = mean_embedding_vectorizer.fit_transform(X_train_)\n",
        "    labels_train = y_train_.values\n",
        "    features_test = mean_embedding_vectorizer.transform(X_test_)\n",
        "    labels_test = y_test_.values\n",
        "    data_train_w2v = pd.DataFrame(data=features_train)\n",
        "    data_train_w2v = data_train_w2v.join(pd.DataFrame(data=labels_train,columns=['label']))\n",
        "    data_test_w2v = pd.DataFrame(data=features_test)\n",
        "    data_test_w2v = data_test_w2v.join(pd.DataFrame(data=labels_test,columns=['label']))\n",
        "    return data_train_w2v, data_test_w2v"
      ],
      "execution_count": 32,
      "outputs": []
    },
    {
      "cell_type": "code",
      "metadata": {
        "id": "cqqXtuMnuODU"
      },
      "source": [
        "#Stemmed\n",
        "data_train_stem_w2v, data_test_stem_w2v = word2vec(x_train_stem, x_test_stem, y_train_stem,y_test_stem)\n",
        "\n",
        "#Un-Stemmed\n",
        "data_train_unstem_w2v, data_test_unstem_w2v = word2vec(x_train_unstem, x_test_unstem, y_train_unstem,y_test_unstem)"
      ],
      "execution_count": 33,
      "outputs": []
    },
    {
      "cell_type": "markdown",
      "metadata": {
        "id": "FraJLujPwqgd"
      },
      "source": [
        "#### Save Data"
      ]
    },
    {
      "cell_type": "code",
      "metadata": {
        "id": "Hf4pSOd0wtKu"
      },
      "source": [
        "#Stemmed\n",
        "data_train_stem_w2v.to_csv(\"/content/drive/My Drive/TA/w2v/data_train_stem_w2v_100.csv\")\n",
        "data_test_stem_w2v.to_csv(\"/content/drive/My Drive/TA/w2v/data_test_stem_w2v_100.csv\")\n",
        "\n",
        "#Un-Stemmed\n",
        "data_train_unstem_w2v.to_csv(\"/content/drive/My Drive/TA/w2v/data_train_unstem_w2v_100.csv\")\n",
        "data_test_unstem_w2v.to_csv(\"/content/drive/My Drive/TA/w2v/data_test_unstem_w2v_100.csv\")"
      ],
      "execution_count": 34,
      "outputs": []
    },
    {
      "cell_type": "markdown",
      "metadata": {
        "id": "CJizJtW4x56m"
      },
      "source": [
        "### Dimension = 300"
      ]
    },
    {
      "cell_type": "markdown",
      "metadata": {
        "id": "WBk9CU7tJpu3"
      },
      "source": [
        "#### Skipgram"
      ]
    },
    {
      "cell_type": "code",
      "metadata": {
        "id": "G0UBCbUXx_DF"
      },
      "source": [
        "modelword2vec_300 = KeyedVectors.load_word2vec_format(\"/content/drive/My Drive/TA/ws_model300.txt\")"
      ],
      "execution_count": 44,
      "outputs": []
    },
    {
      "cell_type": "markdown",
      "metadata": {
        "id": "MystUE2lyHlK"
      },
      "source": [
        "#### Tokenization"
      ]
    },
    {
      "cell_type": "code",
      "metadata": {
        "id": "kVASPFcnyErI"
      },
      "source": [
        "class MyTokenizer:\n",
        "    def __init__(self):\n",
        "        pass\n",
        "    \n",
        "    def fit(self, X, y=None):\n",
        "        return self\n",
        "    \n",
        "    def transform(self, X):\n",
        "        transformed_X = []\n",
        "        for document in X:\n",
        "            tokenized_doc = []\n",
        "            for sent in nltk.sent_tokenize(document):\n",
        "                tokenized_doc += nltk.word_tokenize(sent)\n",
        "            transformed_X.append(np.array(tokenized_doc))\n",
        "        return np.array(transformed_X)\n",
        "    \n",
        "    def fit_transform(self, X, y=None):\n",
        "        return self.transform(X)"
      ],
      "execution_count": 45,
      "outputs": []
    },
    {
      "cell_type": "markdown",
      "metadata": {
        "id": "LL4UmslKyL6C"
      },
      "source": [
        "#### Mean Embedding Vectorizer"
      ]
    },
    {
      "cell_type": "code",
      "metadata": {
        "id": "XlkSXSUkyMiP"
      },
      "source": [
        "class MeanEmbeddingVectorizer(object):\n",
        "    def __init__(self, word2vec):\n",
        "        self.word2vec = word2vec\n",
        "        # bila kata kosong akan return vecktor 0 dengan dimensi yang sama untuk semua vektor lainnya\n",
        "        self.dim = len(word2vec.wv.syn0[0])\n",
        "\n",
        "    def fit(self, X, y=None):\n",
        "        return self\n",
        "\n",
        "    def transform(self, X):\n",
        "        X = MyTokenizer().fit_transform(X)\n",
        "        return np.array([\n",
        "            np.mean([self.word2vec.wv[w] for w in words if w in self.word2vec.wv]\n",
        "                    or [np.zeros(self.dim)], axis=0)\n",
        "            for words in X\n",
        "        ])\n",
        "    def cek(self,xx):\n",
        "      return self.word2vec.wv[xx]\n",
        "    def fit_transform(self, X, y=None):\n",
        "        return self.transform(X)"
      ],
      "execution_count": 46,
      "outputs": []
    },
    {
      "cell_type": "code",
      "metadata": {
        "id": "hnna0jr0yOy6"
      },
      "source": [
        "mean_embedding_vectorizer = MeanEmbeddingVectorizer(modelword2vec_300)"
      ],
      "execution_count": 47,
      "outputs": []
    },
    {
      "cell_type": "markdown",
      "metadata": {
        "id": "cift2llIyT4x"
      },
      "source": [
        "#### Implementation"
      ]
    },
    {
      "cell_type": "code",
      "metadata": {
        "id": "gklbFtkFyXFO"
      },
      "source": [
        "def word2vec (X_train_,X_test_,y_train_,y_test_):\n",
        "    features_train = mean_embedding_vectorizer.fit_transform(X_train_)\n",
        "    labels_train = y_train_.values\n",
        "    features_test = mean_embedding_vectorizer.transform(X_test_)\n",
        "    labels_test = y_test_.values\n",
        "    data_train_w2v = pd.DataFrame(data=features_train)\n",
        "    data_train_w2v = data_train_w2v.join(pd.DataFrame(data=labels_train,columns=['label']))\n",
        "    data_test_w2v = pd.DataFrame(data=features_test)\n",
        "    data_test_w2v = data_test_w2v.join(pd.DataFrame(data=labels_test,columns=['label']))\n",
        "    return data_train_w2v, data_test_w2v"
      ],
      "execution_count": 48,
      "outputs": []
    },
    {
      "cell_type": "code",
      "metadata": {
        "id": "LWMs4-8KyZW0"
      },
      "source": [
        "#Stemmed\n",
        "data_train_stem_w2v, data_test_stem_w2v = word2vec(x_train_stem, x_test_stem, y_train_stem,y_test_stem)\n",
        "\n",
        "#Un-Stemmed\n",
        "data_train_unstem_w2v, data_test_unstem_w2v = word2vec(x_train_unstem, x_test_unstem, y_train_unstem,y_test_unstem)"
      ],
      "execution_count": 49,
      "outputs": []
    },
    {
      "cell_type": "markdown",
      "metadata": {
        "id": "MSyyv9QVycSM"
      },
      "source": [
        "#### Save Data"
      ]
    },
    {
      "cell_type": "code",
      "metadata": {
        "id": "qOxHV4akyezp"
      },
      "source": [
        "#Stemmed\n",
        "data_train_stem_w2v.to_csv(\"/content/drive/My Drive/TA/w2v/data_train_stem_w2v_300.csv\")\n",
        "data_test_stem_w2v.to_csv(\"/content/drive/My Drive/TA/w2v/data_test_stem_w2v_300.csv\")\n",
        "\n",
        "#Un-Stemmed\n",
        "data_train_unstem_w2v.to_csv(\"/content/drive/My Drive/TA/w2v/data_train_unstem_w2v_300.csv\")\n",
        "data_test_unstem_w2v.to_csv(\"/content/drive/My Drive/TA/w2v/data_test_unstem_w2v_300.csv\")"
      ],
      "execution_count": 50,
      "outputs": []
    },
    {
      "cell_type": "markdown",
      "metadata": {
        "id": "whDWLzT4_phP"
      },
      "source": [
        "# Classification"
      ]
    },
    {
      "cell_type": "code",
      "metadata": {
        "id": "xoYc4Doj_7qm"
      },
      "source": [
        "import sklearn\n",
        "import sklearn.linear_model\n",
        "from sklearn.model_selection import train_test_split, GridSearchCV\n",
        "\n",
        "from sklearn import tree\n",
        "from sklearn import model_selection\n",
        "from sklearn import metrics\n",
        "\n",
        "from sklearn.feature_selection import SelectFromModel\n",
        "\n",
        "from sklearn.ensemble import RandomForestClassifier\n",
        "from sklearn.ensemble import AdaBoostClassifier\n",
        "\n",
        "from sklearn.metrics import confusion_matrix\n",
        "from sklearn.metrics import accuracy_score\n",
        "from sklearn.metrics import f1_score\n",
        "from sklearn.metrics import precision_score\n",
        "from sklearn.metrics import recall_score\n",
        "from sklearn.metrics import classification_report\n",
        "from sklearn.metrics import hamming_loss"
      ],
      "execution_count": 35,
      "outputs": []
    },
    {
      "cell_type": "markdown",
      "metadata": {
        "id": "Mc2nnuLdCuj8"
      },
      "source": [
        "## Dimension = 100"
      ]
    },
    {
      "cell_type": "code",
      "metadata": {
        "id": "lKGxxF4gBReX"
      },
      "source": [
        "data_train_stem_w2v = pd.read_csv(\"/content/drive/MyDrive/TA/w2v/data_train_stem_w2v_100.csv\",index_col=0)\n",
        "data_test_stem_w2v = pd.read_csv(\"/content/drive/MyDrive/TA/w2v/data_test_stem_w2v_100.csv\",index_col=0)\n",
        "\n",
        "data_train_unstem_w2v = pd.read_csv(\"/content/drive/MyDrive/TA/w2v/data_train_unstem_w2v_100.csv\",index_col=0)\n",
        "data_test_unstem_w2v = pd.read_csv(\"/content/drive/MyDrive/TA/w2v/data_test_unstem_w2v_100.csv\",index_col=0)"
      ],
      "execution_count": 36,
      "outputs": []
    },
    {
      "cell_type": "code",
      "metadata": {
        "id": "FSERTOCPCUEa"
      },
      "source": [
        "x_train_stem = data_train_stem_w2v.drop(['label'],axis=1)\n",
        "x_test_stem = data_test_stem_w2v.drop(['label'],axis=1)\n",
        "y_train_stem = data_train_stem_w2v[['label']]\n",
        "y_test_stem = data_test_stem_w2v[['label']]"
      ],
      "execution_count": 37,
      "outputs": []
    },
    {
      "cell_type": "code",
      "metadata": {
        "id": "SYNuuYvVCXtE"
      },
      "source": [
        "x_train_unstem = data_train_unstem_w2v.drop(['label'],axis=1)\n",
        "x_test_unstem = data_test_unstem_w2v.drop(['label'],axis=1)\n",
        "y_train_unstem = data_train_unstem_w2v[['label']]\n",
        "y_test_unstem = data_test_unstem_w2v[['label']]"
      ],
      "execution_count": 38,
      "outputs": []
    },
    {
      "cell_type": "markdown",
      "metadata": {
        "id": "ZihhxxfIvKQj"
      },
      "source": [
        "#### Stemmed"
      ]
    },
    {
      "cell_type": "markdown",
      "metadata": {
        "id": "itFzJdpUL_bB"
      },
      "source": [
        "##### Random Forest Classifier (Base Model)"
      ]
    },
    {
      "cell_type": "code",
      "metadata": {
        "colab": {
          "base_uri": "https://localhost:8080/"
        },
        "id": "ETkjE-e3MEUO",
        "outputId": "052ebe9b-6443-4621-efd5-95db1a2a3904"
      },
      "source": [
        "rfc = RandomForestClassifier(criterion = 'entropy', n_estimators=100)\n",
        "rfc.fit(x_train_stem, y_train_stem)\n",
        "pred_stem = rfc.predict(x_test_stem)\n",
        "\n",
        "print(\"Training acc:\", rfc.score(x_train_stem, y_train_stem), \n",
        "      \"\\nTesting acc:\", rfc.score(x_test_stem, y_test_stem))"
      ],
      "execution_count": 39,
      "outputs": [
        {
          "output_type": "stream",
          "text": [
            "Training acc: 1.0 \n",
            "Testing acc: 0.698\n"
          ],
          "name": "stdout"
        }
      ]
    },
    {
      "cell_type": "markdown",
      "metadata": {
        "id": "0rJX7nffMkQQ"
      },
      "source": [
        "##### Changing Parameters"
      ]
    },
    {
      "cell_type": "code",
      "metadata": {
        "colab": {
          "base_uri": "https://localhost:8080/"
        },
        "id": "IjU5Zx-YMmoO",
        "outputId": "e40eedf0-0b20-4ecf-85ce-817789d943c3"
      },
      "source": [
        "parameters = {\"min_samples_split\": [2, 5, 10], \n",
        "              \"max_depth\": [None, 2, 5, 10], \n",
        "              \"min_samples_leaf\": [1, 5, 10], \n",
        "              \"max_leaf_nodes\": [None, 5, 10, 20], \n",
        "              }\n",
        "gridsearch2 = GridSearchCV(rfc, parameters) \n",
        "gridsearch2.fit(x_train_stem, y_train_stem)\n",
        "\n",
        "gridsearch2.best_params_"
      ],
      "execution_count": 40,
      "outputs": [
        {
          "output_type": "execute_result",
          "data": {
            "text/plain": [
              "{'max_depth': None,\n",
              " 'max_leaf_nodes': None,\n",
              " 'min_samples_leaf': 5,\n",
              " 'min_samples_split': 10}"
            ]
          },
          "metadata": {
            "tags": []
          },
          "execution_count": 40
        }
      ]
    },
    {
      "cell_type": "code",
      "metadata": {
        "colab": {
          "base_uri": "https://localhost:8080/"
        },
        "id": "hqO8gidHMzhC",
        "outputId": "1ddfb67f-c860-44d6-e819-2f292d706649"
      },
      "source": [
        "reg_forest = gridsearch2.best_estimator_\n",
        "reg_forest.fit(x_train_stem, y_train_stem)\n",
        "pred_stem2 = reg_forest.predict(x_test_stem)\n",
        "print(\"Training acc:\", reg_forest.score(x_train_stem, y_train_stem), \"\\nTesting acc:\",\n",
        "      reg_forest.score(x_test_stem, y_test_stem))"
      ],
      "execution_count": 41,
      "outputs": [
        {
          "output_type": "stream",
          "text": [
            "Training acc: 0.999 \n",
            "Testing acc: 0.705\n"
          ],
          "name": "stdout"
        }
      ]
    },
    {
      "cell_type": "markdown",
      "metadata": {
        "id": "gyMqLrNJNrem"
      },
      "source": [
        "##### Improving Random Forest model accuracy using Adaptive Boost"
      ]
    },
    {
      "cell_type": "code",
      "metadata": {
        "colab": {
          "base_uri": "https://localhost:8080/"
        },
        "id": "r_fEyhyVNzla",
        "outputId": "d6afb872-665a-4cac-a3f8-30c4eb00554d"
      },
      "source": [
        "boost_reg2 = AdaBoostClassifier(base_estimator=reg_forest)\n",
        "boost_reg2.fit(x_train_stem, y_train_stem)\n",
        "pred_stem3 = boost_reg2.predict(x_test_stem)\n",
        "print(\"Training acc:\", boost_reg2.score(x_train_stem, y_train_stem), \"\\nTesting acc:\",\n",
        "      boost_reg2.score(x_test_stem, y_test_stem))"
      ],
      "execution_count": 42,
      "outputs": [
        {
          "output_type": "stream",
          "text": [
            "Training acc: 0.999 \n",
            "Testing acc: 0.724\n"
          ],
          "name": "stdout"
        }
      ]
    },
    {
      "cell_type": "markdown",
      "metadata": {
        "id": "eXpn0YCmhd2y"
      },
      "source": [
        "##### Evaluation"
      ]
    },
    {
      "cell_type": "markdown",
      "metadata": {
        "id": "okenhEIThiqX"
      },
      "source": [
        "###### Base Model"
      ]
    },
    {
      "cell_type": "code",
      "metadata": {
        "colab": {
          "base_uri": "https://localhost:8080/"
        },
        "id": "BoJtN3iTeJox",
        "outputId": "776397f1-5885-4208-c8b3-54dabc67a79a"
      },
      "source": [
        "print(confusion_matrix(y_test_stem['label'], pred_stem))\n",
        "print(classification_report(y_test_stem['label'], pred_stem))"
      ],
      "execution_count": 43,
      "outputs": [
        {
          "output_type": "stream",
          "text": [
            "[[374 116]\n",
            " [186 324]]\n",
            "              precision    recall  f1-score   support\n",
            "\n",
            "           0       0.67      0.76      0.71       490\n",
            "           1       0.74      0.64      0.68       510\n",
            "\n",
            "    accuracy                           0.70      1000\n",
            "   macro avg       0.70      0.70      0.70      1000\n",
            "weighted avg       0.70      0.70      0.70      1000\n",
            "\n"
          ],
          "name": "stdout"
        }
      ]
    },
    {
      "cell_type": "markdown",
      "metadata": {
        "id": "SckiPCebhr_c"
      },
      "source": [
        "###### Changed Parameters"
      ]
    },
    {
      "cell_type": "code",
      "metadata": {
        "colab": {
          "base_uri": "https://localhost:8080/"
        },
        "id": "D9918b1ag__k",
        "outputId": "059d7880-0302-4ac0-9d85-4ee70ef40114"
      },
      "source": [
        "print(confusion_matrix(y_test_stem['label'], pred_stem2))\n",
        "print(classification_report(y_test_stem['label'], pred_stem2))"
      ],
      "execution_count": 44,
      "outputs": [
        {
          "output_type": "stream",
          "text": [
            "[[372 118]\n",
            " [177 333]]\n",
            "              precision    recall  f1-score   support\n",
            "\n",
            "           0       0.68      0.76      0.72       490\n",
            "           1       0.74      0.65      0.69       510\n",
            "\n",
            "    accuracy                           0.70      1000\n",
            "   macro avg       0.71      0.71      0.70      1000\n",
            "weighted avg       0.71      0.70      0.70      1000\n",
            "\n"
          ],
          "name": "stdout"
        }
      ]
    },
    {
      "cell_type": "markdown",
      "metadata": {
        "id": "c0r9jOlXhzSW"
      },
      "source": [
        "###### Boosted Model"
      ]
    },
    {
      "cell_type": "code",
      "metadata": {
        "colab": {
          "base_uri": "https://localhost:8080/"
        },
        "id": "PO1SJVPNhR0o",
        "outputId": "2c29b708-7059-4c43-ac3a-8cf02c12aec0"
      },
      "source": [
        "print(confusion_matrix(y_test_stem['label'], pred_stem3))\n",
        "print(classification_report(y_test_stem['label'], pred_stem3))"
      ],
      "execution_count": 45,
      "outputs": [
        {
          "output_type": "stream",
          "text": [
            "[[382 108]\n",
            " [168 342]]\n",
            "              precision    recall  f1-score   support\n",
            "\n",
            "           0       0.69      0.78      0.73       490\n",
            "           1       0.76      0.67      0.71       510\n",
            "\n",
            "    accuracy                           0.72      1000\n",
            "   macro avg       0.73      0.73      0.72      1000\n",
            "weighted avg       0.73      0.72      0.72      1000\n",
            "\n"
          ],
          "name": "stdout"
        }
      ]
    },
    {
      "cell_type": "markdown",
      "metadata": {
        "id": "KE1E00m8vLwW"
      },
      "source": [
        "#### Un-Stemmed"
      ]
    },
    {
      "cell_type": "markdown",
      "metadata": {
        "id": "uHcmJcucjhlo"
      },
      "source": [
        "##### Random Forest Classifier (Base Model)"
      ]
    },
    {
      "cell_type": "code",
      "metadata": {
        "colab": {
          "base_uri": "https://localhost:8080/"
        },
        "id": "dcY8bhCwjiAK",
        "outputId": "ccbeab62-bede-415c-e19a-1508104d4d80"
      },
      "source": [
        "rfc = RandomForestClassifier(criterion = 'entropy', n_estimators=100)\n",
        "rfc.fit(x_train_unstem, y_train_unstem)\n",
        "pred_unstem = rfc.predict(x_test_unstem)\n",
        "\n",
        "print(\"Training acc:\", rfc.score(x_train_unstem, y_train_unstem), \n",
        "      \"\\nTesting acc:\", rfc.score(x_test_unstem, y_test_unstem))"
      ],
      "execution_count": 46,
      "outputs": [
        {
          "output_type": "stream",
          "text": [
            "Training acc: 1.0 \n",
            "Testing acc: 0.7\n"
          ],
          "name": "stdout"
        }
      ]
    },
    {
      "cell_type": "markdown",
      "metadata": {
        "id": "pK516JKrOKGe"
      },
      "source": [
        "##### Changing Parameters"
      ]
    },
    {
      "cell_type": "code",
      "metadata": {
        "colab": {
          "base_uri": "https://localhost:8080/"
        },
        "id": "I21lG2-DOPtT",
        "outputId": "b3fe145a-9136-4a4c-c7c6-2fa0043af340"
      },
      "source": [
        "parameters = {\"min_samples_split\": [2, 5, 10], \n",
        "              \"max_depth\": [None, 2, 5, 10], \n",
        "              \"min_samples_leaf\": [1, 5, 10], \n",
        "              \"max_leaf_nodes\": [None, 5, 10, 20], \n",
        "              }\n",
        "gridsearch2 = GridSearchCV(rfc, parameters) \n",
        "gridsearch2.fit(x_train_unstem, y_train_unstem)\n",
        "\n",
        "gridsearch2.best_params_"
      ],
      "execution_count": 47,
      "outputs": [
        {
          "output_type": "execute_result",
          "data": {
            "text/plain": [
              "{'max_depth': None,\n",
              " 'max_leaf_nodes': None,\n",
              " 'min_samples_leaf': 5,\n",
              " 'min_samples_split': 10}"
            ]
          },
          "metadata": {
            "tags": []
          },
          "execution_count": 47
        }
      ]
    },
    {
      "cell_type": "code",
      "metadata": {
        "colab": {
          "base_uri": "https://localhost:8080/"
        },
        "id": "YkAbg11ZOV-A",
        "outputId": "c864ae80-624d-4b3b-e1a8-8c217919609a"
      },
      "source": [
        "reg_forest = gridsearch2.best_estimator_\n",
        "reg_forest.fit(x_train_unstem, y_train_unstem)\n",
        "pred_unstem2 = reg_forest.predict(x_test_unstem)\n",
        "print(\"Training acc:\", reg_forest.score(x_train_unstem, y_train_unstem), \"\\nTesting acc:\",\n",
        "      reg_forest.score(x_test_unstem, y_test_unstem))"
      ],
      "execution_count": 48,
      "outputs": [
        {
          "output_type": "stream",
          "text": [
            "Training acc: 0.999 \n",
            "Testing acc: 0.704\n"
          ],
          "name": "stdout"
        }
      ]
    },
    {
      "cell_type": "markdown",
      "metadata": {
        "id": "DfsTvSEJOczu"
      },
      "source": [
        "##### Improving Random Forest model accuracy using Adaptive Boost"
      ]
    },
    {
      "cell_type": "code",
      "metadata": {
        "colab": {
          "base_uri": "https://localhost:8080/"
        },
        "id": "RbbOIy1AOhVy",
        "outputId": "c10c22f6-1921-4ec4-ab66-cc466b2cab6f"
      },
      "source": [
        "boost_reg2 = AdaBoostClassifier(base_estimator=reg_forest)\n",
        "boost_reg2.fit(x_train_unstem, y_train_unstem)\n",
        "pred_unstem3 = boost_reg2.predict(x_test_unstem)\n",
        "print(\"Training acc:\", boost_reg2.score(x_train_unstem, y_train_unstem), \"\\nTesting acc:\",\n",
        "      boost_reg2.score(x_test_unstem, y_test_unstem))"
      ],
      "execution_count": 49,
      "outputs": [
        {
          "output_type": "stream",
          "text": [
            "Training acc: 1.0 \n",
            "Testing acc: 0.712\n"
          ],
          "name": "stdout"
        }
      ]
    },
    {
      "cell_type": "markdown",
      "metadata": {
        "id": "iOrpYHo0jvva"
      },
      "source": [
        "##### Evaluation"
      ]
    },
    {
      "cell_type": "markdown",
      "metadata": {
        "id": "6hofGbKujwdA"
      },
      "source": [
        "###### Base Model"
      ]
    },
    {
      "cell_type": "code",
      "metadata": {
        "colab": {
          "base_uri": "https://localhost:8080/"
        },
        "id": "q7QbQgPQjw6K",
        "outputId": "30234ba7-6c13-4485-a7eb-32dbc4cdda90"
      },
      "source": [
        "print(confusion_matrix(y_test_stem['label'], pred_unstem))\n",
        "print(classification_report(y_test_stem['label'], pred_unstem))"
      ],
      "execution_count": 50,
      "outputs": [
        {
          "output_type": "stream",
          "text": [
            "[[368 122]\n",
            " [178 332]]\n",
            "              precision    recall  f1-score   support\n",
            "\n",
            "           0       0.67      0.75      0.71       490\n",
            "           1       0.73      0.65      0.69       510\n",
            "\n",
            "    accuracy                           0.70      1000\n",
            "   macro avg       0.70      0.70      0.70      1000\n",
            "weighted avg       0.70      0.70      0.70      1000\n",
            "\n"
          ],
          "name": "stdout"
        }
      ]
    },
    {
      "cell_type": "markdown",
      "metadata": {
        "id": "WcBbfEofjxMJ"
      },
      "source": [
        "###### Changed Parameters"
      ]
    },
    {
      "cell_type": "code",
      "metadata": {
        "colab": {
          "base_uri": "https://localhost:8080/"
        },
        "id": "mucFScTLjxnu",
        "outputId": "819a3502-58f2-429b-f0b0-b9107f50e12e"
      },
      "source": [
        "print(confusion_matrix(y_test_stem['label'], pred_unstem2))\n",
        "print(classification_report(y_test_stem['label'], pred_unstem2))"
      ],
      "execution_count": 51,
      "outputs": [
        {
          "output_type": "stream",
          "text": [
            "[[367 123]\n",
            " [173 337]]\n",
            "              precision    recall  f1-score   support\n",
            "\n",
            "           0       0.68      0.75      0.71       490\n",
            "           1       0.73      0.66      0.69       510\n",
            "\n",
            "    accuracy                           0.70      1000\n",
            "   macro avg       0.71      0.70      0.70      1000\n",
            "weighted avg       0.71      0.70      0.70      1000\n",
            "\n"
          ],
          "name": "stdout"
        }
      ]
    },
    {
      "cell_type": "markdown",
      "metadata": {
        "id": "1jobZTfLjx8X"
      },
      "source": [
        "###### Boosted Model"
      ]
    },
    {
      "cell_type": "code",
      "metadata": {
        "colab": {
          "base_uri": "https://localhost:8080/"
        },
        "id": "bLN3-81NjyU7",
        "outputId": "04dbdd85-28f7-4f2e-a59f-433a0dd56524"
      },
      "source": [
        "print(confusion_matrix(y_test_stem['label'], pred_unstem3))\n",
        "print(classification_report(y_test_stem['label'], pred_unstem3))"
      ],
      "execution_count": 52,
      "outputs": [
        {
          "output_type": "stream",
          "text": [
            "[[379 111]\n",
            " [177 333]]\n",
            "              precision    recall  f1-score   support\n",
            "\n",
            "           0       0.68      0.77      0.72       490\n",
            "           1       0.75      0.65      0.70       510\n",
            "\n",
            "    accuracy                           0.71      1000\n",
            "   macro avg       0.72      0.71      0.71      1000\n",
            "weighted avg       0.72      0.71      0.71      1000\n",
            "\n"
          ],
          "name": "stdout"
        }
      ]
    },
    {
      "cell_type": "markdown",
      "metadata": {
        "id": "ftjsL2lyu0LG"
      },
      "source": [
        "## Dimension = 300"
      ]
    },
    {
      "cell_type": "code",
      "metadata": {
        "id": "Cm6uljUOu5xt"
      },
      "source": [
        "data_train_stem_w2v = pd.read_csv(\"/content/drive/MyDrive/TA/w2v/data_train_stem_w2v_300.csv\",index_col=0)\n",
        "data_test_stem_w2v = pd.read_csv(\"/content/drive/MyDrive/TA/w2v/data_test_stem_w2v_300.csv\",index_col=0)\n",
        "\n",
        "data_train_unstem_w2v = pd.read_csv(\"/content/drive/MyDrive/TA/w2v/data_train_unstem_w2v_300.csv\",index_col=0)\n",
        "data_test_unstem_w2v = pd.read_csv(\"/content/drive/MyDrive/TA/w2v/data_test_unstem_w2v_300.csv\",index_col=0)"
      ],
      "execution_count": null,
      "outputs": []
    },
    {
      "cell_type": "code",
      "metadata": {
        "id": "pfkeuRxsu_gj"
      },
      "source": [
        "x_train_stem = data_train_stem_w2v.drop(['label'],axis=1)\n",
        "x_test_stem = data_test_stem_w2v.drop(['label'],axis=1)\n",
        "y_train_stem = data_train_stem_w2v[['label']]\n",
        "y_test_stem = data_test_stem_w2v[['label']]"
      ],
      "execution_count": null,
      "outputs": []
    },
    {
      "cell_type": "code",
      "metadata": {
        "id": "EdvWj7_PvBer"
      },
      "source": [
        "x_train_unstem = data_train_unstem_w2v.drop(['label'],axis=1)\n",
        "x_test_unstem = data_test_unstem_w2v.drop(['label'],axis=1)\n",
        "y_train_unstem = data_train_unstem_w2v[['label']]\n",
        "y_test_unstem = data_test_unstem_w2v[['label']]"
      ],
      "execution_count": null,
      "outputs": []
    },
    {
      "cell_type": "markdown",
      "metadata": {
        "id": "D8m8GOkbvx9K"
      },
      "source": [
        "#### Stemmed"
      ]
    },
    {
      "cell_type": "markdown",
      "metadata": {
        "id": "60i9TU2lEp3x"
      },
      "source": [
        "##### Random Forest Classifier (Base Model)"
      ]
    },
    {
      "cell_type": "code",
      "metadata": {
        "colab": {
          "base_uri": "https://localhost:8080/"
        },
        "id": "3AdOnLCmEsrt",
        "outputId": "9f455f7c-5df9-4128-f8cc-c3dee9fc6743"
      },
      "source": [
        "rfc = RandomForestClassifier(criterion = 'entropy', n_estimators=100)\n",
        "rfc.fit(x_train_stem, y_train_stem)\n",
        "pred_stem = rfc.predict(x_test_stem)\n",
        "print(\"Training acc:\", rfc.score(x_train_stem, y_train_stem), \"\\nTesting acc:\",\n",
        "      rfc.score(x_test_stem, y_test_stem))"
      ],
      "execution_count": null,
      "outputs": [
        {
          "output_type": "stream",
          "text": [
            "Training acc: 1.0 \n",
            "Testing acc: 0.728\n"
          ],
          "name": "stdout"
        }
      ]
    },
    {
      "cell_type": "markdown",
      "metadata": {
        "id": "fibp448FE0_3"
      },
      "source": [
        "##### Changing Parameters"
      ]
    },
    {
      "cell_type": "code",
      "metadata": {
        "colab": {
          "base_uri": "https://localhost:8080/"
        },
        "id": "cteCkvzdEv-b",
        "outputId": "245fb1f4-b97e-44fe-8905-1769580cdf83"
      },
      "source": [
        "parameters = {\"min_samples_split\": [2, 5, 10], \n",
        "              \"max_depth\": [None, 2, 5, 10], \n",
        "              \"min_samples_leaf\": [1, 5, 10], \n",
        "              \"max_leaf_nodes\": [None, 5, 10, 20], \n",
        "              }\n",
        "gridsearch2 = GridSearchCV(rfc, parameters) \n",
        "gridsearch2.fit(x_train_stem, y_train_stem)\n",
        "\n",
        "gridsearch2.best_params_"
      ],
      "execution_count": null,
      "outputs": [
        {
          "output_type": "execute_result",
          "data": {
            "text/plain": [
              "{'max_depth': None,\n",
              " 'max_leaf_nodes': None,\n",
              " 'min_samples_leaf': 10,\n",
              " 'min_samples_split': 10}"
            ]
          },
          "metadata": {
            "tags": []
          },
          "execution_count": 90
        }
      ]
    },
    {
      "cell_type": "code",
      "metadata": {
        "colab": {
          "base_uri": "https://localhost:8080/"
        },
        "id": "xmElv1k1ve74",
        "outputId": "7b588cd6-a407-4b70-e249-acfc0196d8c5"
      },
      "source": [
        "reg_forest = gridsearch2.best_estimator_\n",
        "reg_forest.fit(x_train_stem, y_train_stem)\n",
        "pred_stem2 = reg_forest.predict(x_test_stem)\n",
        "print(\"Training acc:\", reg_forest.score(x_train_stem, y_train_stem), \"\\nTesting acc:\",\n",
        "      reg_forest.score(x_test_stem, y_test_stem))"
      ],
      "execution_count": null,
      "outputs": [
        {
          "output_type": "stream",
          "text": [
            "Training acc: 0.9711 \n",
            "Testing acc: 0.736\n"
          ],
          "name": "stdout"
        }
      ]
    },
    {
      "cell_type": "markdown",
      "metadata": {
        "id": "wzFtqAA8-ifq"
      },
      "source": [
        "##### Improving Random Forest model accuracy using Adaptive Boost"
      ]
    },
    {
      "cell_type": "code",
      "metadata": {
        "colab": {
          "base_uri": "https://localhost:8080/"
        },
        "id": "4RUKtfqr-jhb",
        "outputId": "2109d639-22f9-44e8-a6c2-3efa8b71f5c1"
      },
      "source": [
        "boost_reg2 = AdaBoostClassifier(base_estimator=reg_forest)\n",
        "boost_reg2.fit(x_train_stem, y_train_stem)\n",
        "pred_stem3 = boost_reg2.predict(x_test_stem)\n",
        "print(\"Training acc:\", boost_reg2.score(x_train_stem, y_train_stem), \"\\nTesting acc:\",\n",
        "      boost_reg2.score(x_test_stem, y_test_stem))"
      ],
      "execution_count": null,
      "outputs": [
        {
          "output_type": "stream",
          "text": [
            "Training acc: 0.9995 \n",
            "Testing acc: 0.7547\n"
          ],
          "name": "stdout"
        }
      ]
    },
    {
      "cell_type": "markdown",
      "metadata": {
        "id": "_oY9i9gZliaw"
      },
      "source": [
        "##### Evaluation"
      ]
    },
    {
      "cell_type": "markdown",
      "metadata": {
        "id": "LEuLIh5fllO-"
      },
      "source": [
        "###### Base Model"
      ]
    },
    {
      "cell_type": "code",
      "metadata": {
        "id": "N7WTva0Blm-M"
      },
      "source": [
        "print(confusion_matrix(y_test_stem['label'], pred_unstem))\n",
        "print(classification_report(y_test_stem['label'], pred_unstem))"
      ],
      "execution_count": null,
      "outputs": []
    },
    {
      "cell_type": "markdown",
      "metadata": {
        "id": "uHDXSbEvlngz"
      },
      "source": [
        "###### Changed Parameters"
      ]
    },
    {
      "cell_type": "code",
      "metadata": {
        "id": "F6bUpFNLln6B"
      },
      "source": [
        "print(confusion_matrix(y_test_stem['label'], pred_unstem2))\n",
        "print(classification_report(y_test_stem['label'], pred_unstem2))"
      ],
      "execution_count": null,
      "outputs": []
    },
    {
      "cell_type": "markdown",
      "metadata": {
        "id": "LV7D4bxrloOe"
      },
      "source": [
        "###### Boosted Model"
      ]
    },
    {
      "cell_type": "code",
      "metadata": {
        "id": "Dq_TrrcXlotr"
      },
      "source": [
        "print(confusion_matrix(y_test_stem['label'], pred_unstem3))\n",
        "print(classification_report(y_test_stem['label'], pred_unstem3))"
      ],
      "execution_count": null,
      "outputs": []
    },
    {
      "cell_type": "markdown",
      "metadata": {
        "id": "0yh_hqhkv0SX"
      },
      "source": [
        "#### Un-Stemmed"
      ]
    },
    {
      "cell_type": "markdown",
      "metadata": {
        "id": "INnXNSilmN5a"
      },
      "source": [
        "##### Random Forest Classifier (Base Model)"
      ]
    },
    {
      "cell_type": "code",
      "metadata": {
        "id": "tA-y9bMkmKQ0"
      },
      "source": [
        "rfc = RandomForestClassifier(criterion = 'entropy', n_estimators=100)\n",
        "rfc.fit(x_train_unstem, y_train_unstem)\n",
        "pred_unstem = rfc.predict(x_test_unstem)\n",
        "\n",
        "print(\"Training acc:\", rfc.score(x_train_unstem, y_train_unstem), \n",
        "      \"\\nTesting acc:\", rfc.score(x_test_unstem, y_test_unstem))"
      ],
      "execution_count": null,
      "outputs": []
    },
    {
      "cell_type": "markdown",
      "metadata": {
        "id": "YkyZJ82H-AXP"
      },
      "source": [
        "##### Changing Parameters"
      ]
    },
    {
      "cell_type": "code",
      "metadata": {
        "id": "ne1epF2C-CX-"
      },
      "source": [
        "parameters = {\"min_samples_split\": [2, 5, 10], \n",
        "              \"max_depth\": [None, 2, 5, 10], \n",
        "              \"min_samples_leaf\": [1, 5, 10], \n",
        "              \"max_leaf_nodes\": [None, 5, 10, 20], \n",
        "              }\n",
        "gridsearch2 = GridSearchCV(rfc, parameters) \n",
        "gridsearch2.fit(x_train_unstem, y_train_unstem)\n",
        "\n",
        "gridsearch2.best_params_"
      ],
      "execution_count": null,
      "outputs": []
    },
    {
      "cell_type": "code",
      "metadata": {
        "id": "PWm4OHej-HdQ"
      },
      "source": [
        "reg_forest = gridsearch2.best_estimator_\n",
        "reg_forest.fit(x_train_unstem, y_train_unstem)\n",
        "pred_unstem2 = reg_forest.predict(x_test_unstem)\n",
        "print(\"Training acc:\", reg_forest.score(x_train_unstem, y_train_unstem), \"\\nTesting acc:\",\n",
        "      reg_forest.score(x_test_unstem, y_test_unstem))"
      ],
      "execution_count": null,
      "outputs": []
    },
    {
      "cell_type": "markdown",
      "metadata": {
        "id": "JTCTMcW5-yKR"
      },
      "source": [
        "##### Improving Random Forest model accuracy using Adaptive Boost"
      ]
    },
    {
      "cell_type": "code",
      "metadata": {
        "id": "Td_O0Vzg-0et"
      },
      "source": [
        "boost_reg2 = AdaBoostClassifier(base_estimator=reg_forest)\n",
        "boost_reg2.fit(x_train_unstem, y_train_unstem)\n",
        "pred_unstem2 = boost_reg2.predict(x_test_unstem)\n",
        "print(\"Training acc:\", boost_reg2.score(x_train_unstem, y_train_unstem), \"\\nTesting acc:\",\n",
        "      boost_reg2.score(x_test_unstem, y_test_unstem))"
      ],
      "execution_count": null,
      "outputs": []
    },
    {
      "cell_type": "markdown",
      "metadata": {
        "id": "PR5cMuenmDuX"
      },
      "source": [
        "##### Evaluation"
      ]
    },
    {
      "cell_type": "markdown",
      "metadata": {
        "id": "awEW1Zwjmozr"
      },
      "source": [
        "###### Base Model"
      ]
    },
    {
      "cell_type": "code",
      "metadata": {
        "id": "gTRkQb2nmpOl"
      },
      "source": [
        "print(confusion_matrix(y_test_stem['label'], pred_unstem))\n",
        "print(classification_report(y_test_stem['label'], pred_unstem))"
      ],
      "execution_count": null,
      "outputs": []
    },
    {
      "cell_type": "markdown",
      "metadata": {
        "id": "W7cozJm_mp-o"
      },
      "source": [
        "###### Changed Parameters"
      ]
    },
    {
      "cell_type": "code",
      "metadata": {
        "id": "b2Q6xKQvmqVH"
      },
      "source": [
        "print(confusion_matrix(y_test_stem['label'], pred_unstem2))\n",
        "print(classification_report(y_test_stem['label'], pred_unstem2))"
      ],
      "execution_count": null,
      "outputs": []
    },
    {
      "cell_type": "markdown",
      "metadata": {
        "id": "2Ppilri3msB9"
      },
      "source": [
        "###### Boosted Model"
      ]
    },
    {
      "cell_type": "code",
      "metadata": {
        "id": "Ru7bKH9qmsYl"
      },
      "source": [
        "print(confusion_matrix(y_test_stem['label'], pred_unstem3))\n",
        "print(classification_report(y_test_stem['label'], pred_unstem3))"
      ],
      "execution_count": null,
      "outputs": []
    }
  ]
}